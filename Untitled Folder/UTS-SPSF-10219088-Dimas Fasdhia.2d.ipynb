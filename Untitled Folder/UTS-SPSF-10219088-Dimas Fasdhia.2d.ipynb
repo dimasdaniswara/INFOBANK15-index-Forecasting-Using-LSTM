{
 "cells": [
  {
   "cell_type": "code",
   "execution_count": 2,
   "metadata": {},
   "outputs": [],
   "source": [
    "import numpy as np\n",
    "import matplotlib.pyplot as plt\n",
    "from numpy import sqrt"
   ]
  },
  {
   "cell_type": "code",
   "execution_count": 3,
   "metadata": {},
   "outputs": [],
   "source": [
    "#define variable\n",
    "\n",
    "k = 1\n",
    "L = 1\n",
    "\n",
    "#define boundary\n",
    "a = 0.0\n",
    "b = 1.0"
   ]
  },
  {
   "cell_type": "code",
   "execution_count": 4,
   "metadata": {},
   "outputs": [],
   "source": [
    "def fungsi(x,k,L):\n",
    "    return -2*k*x*(1-L/(np.sqrt(x**2 + L**2)))"
   ]
  },
  {
   "cell_type": "code",
   "execution_count": 5,
   "metadata": {},
   "outputs": [],
   "source": [
    "n = 100000\n",
    "def montecarlo(fungsi , k, L , a,b,n):\n",
    "    total = 0.0\n",
    "    for i in range(n):\n",
    "        total += fungsi(np.random.uniform(a,b),k,L)*(a-b)\n",
    "    \n",
    "    return total/n"
   ]
  },
  {
   "cell_type": "code",
   "execution_count": 6,
   "metadata": {},
   "outputs": [
    {
     "name": "stdout",
     "output_type": "stream",
     "text": [
      "0.17119127462431916\n"
     ]
    }
   ],
   "source": [
    "print(montecarlo(fungsi,k,L,a,b,n))"
   ]
  },
  {
   "cell_type": "code",
   "execution_count": null,
   "metadata": {},
   "outputs": [],
   "source": []
  }
 ],
 "metadata": {
  "kernelspec": {
   "display_name": "Python 3",
   "language": "python",
   "name": "python3"
  },
  "language_info": {
   "codemirror_mode": {
    "name": "ipython",
    "version": 3
   },
   "file_extension": ".py",
   "mimetype": "text/x-python",
   "name": "python",
   "nbconvert_exporter": "python",
   "pygments_lexer": "ipython3",
   "version": "3.7.6"
  }
 },
 "nbformat": 4,
 "nbformat_minor": 4
}
