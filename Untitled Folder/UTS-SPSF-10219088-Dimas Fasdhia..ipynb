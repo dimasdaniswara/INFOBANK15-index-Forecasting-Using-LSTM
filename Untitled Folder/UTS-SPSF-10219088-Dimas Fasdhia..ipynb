{
 "cells": [
  {
   "cell_type": "markdown",
   "metadata": {},
   "source": [
    "### Nomor 1 f. Runge-kutta"
   ]
  },
  {
   "cell_type": "code",
   "execution_count": null,
   "metadata": {},
   "outputs": [],
   "source": [
    "import numpy as np\n",
    "import matplotlib.pyplot as plt\n",
    "from numpy import sqrt"
   ]
  },
  {
   "cell_type": "code",
   "execution_count": null,
   "metadata": {},
   "outputs": [],
   "source": [
    "\n"
   ]
  },
  {
   "cell_type": "code",
   "execution_count": null,
   "metadata": {},
   "outputs": [],
   "source": [
    "# Mendefinisikan Runge Kutta method\n",
    "def integrate (F, x , y , xstop , h , l1 , l2 ) :\n",
    "    \n",
    "    def runkut4 (F, x , y , h , l1 , l2 ) :\n",
    "        K0 = h*F( x , y , l1 , l2 )\n",
    "        K1 = h*F( x+h / 2.0 , y+K0 / 2.0 , l1 , l2 )\n",
    "        K2 = h*F( x+h / 2.0 , y+K1 / 2.0 , l1 , l2 )\n",
    "        K3 = h*F( x+h , y+K2, l1 , l2 )\n",
    "    return (K0 + 2.0 *K1 + 2.0 *K2 + K3 ) / 6.0\n",
    "\n",
    "    X = [ ]\n",
    "    Y = [ ]\n",
    "    X.append( x )\n",
    "    Y.append( y )\n",
    "    while x < xstop :\n",
    "        h = min( h , xstop-x )\n",
    "        y = y + runkut4(F, x , y , h , l1 , l2 )\n",
    "        x = x+h\n",
    "        X. append ( x )\n",
    "        Y. append ( y )\n",
    "    return np.array(X) , np.array(Y)"
   ]
  },
  {
   "cell_type": "code",
   "execution_count": null,
   "metadata": {},
   "outputs": [],
   "source": []
  },
  {
   "cell_type": "code",
   "execution_count": null,
   "metadata": {},
   "outputs": [],
   "source": [
    "#In p u t d a t a\n",
    "V_0 = 2.5\n",
    "Po = 0.5\n",
    "R = 8.0\n",
    "L = 0.0032\n",
    "C = 0.0008\n",
    "x = 0.0"
   ]
  },
  {
   "cell_type": "code",
   "execution_count": null,
   "metadata": {},
   "outputs": [],
   "source": [
    "#Persamaan d i f e r e n s i a l b i a s a s i s t em o s i l a s i\n",
    "def F( x , y , l1 , l2 ):\n",
    "    F = np.zeros( 2 )\n",
    "    F[ 0 ] = (-(R/L) * y[0]) - y[1] / ( L*C)\n",
    "    F[ 1 ] = y [0]\n",
    "    return F"
   ]
  },
  {
   "cell_type": "code",
   "execution_count": null,
   "metadata": {},
   "outputs": [],
   "source": [
    "x =0.0\n",
    "xstop = 0.05\n",
    "y = np.array([0.5,2.5])\n",
    "h = 0.0001\n",
    "freq = 50\n",
    "l1 =2.0\n",
    "l2 = 2.0\n",
    "X,Y = integrate(F,x,y,xstop,h,l1,l2)\n"
   ]
  },
  {
   "cell_type": "code",
   "execution_count": null,
   "metadata": {},
   "outputs": [],
   "source": [
    "plt.plot (X,Y[ : , 1 ] , '− ' )\n",
    "plt.xlabel( ' time ( s ) ' )\n",
    "plt.ylabel( 'V' )"
   ]
  }
 ],
 "metadata": {
  "kernelspec": {
   "display_name": "Python 3",
   "language": "python",
   "name": "python3"
  },
  "language_info": {
   "codemirror_mode": {
    "name": "ipython",
    "version": 3
   },
   "file_extension": ".py",
   "mimetype": "text/x-python",
   "name": "python",
   "nbconvert_exporter": "python",
   "pygments_lexer": "ipython3",
   "version": "3.7.6"
  }
 },
 "nbformat": 4,
 "nbformat_minor": 4
}
