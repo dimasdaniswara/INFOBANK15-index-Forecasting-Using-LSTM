{
 "cells": [
  {
   "cell_type": "code",
   "execution_count": 210,
   "metadata": {},
   "outputs": [],
   "source": [
    "import pandas as pd\n",
    "import matplotlib.pyplot as plt\n",
    "import numpy as np\n",
    "import seaborn as sns"
   ]
  },
  {
   "attachments": {},
   "cell_type": "markdown",
   "metadata": {},
   "source": [
    "# INFOBANK15 DATASET"
   ]
  },
  {
   "cell_type": "code",
   "execution_count": 185,
   "metadata": {},
   "outputs": [],
   "source": [
    "df_bank = pd.read_csv(\"INFOBANK15cleaned.csv\", delimiter=';')"
   ]
  },
  {
   "cell_type": "code",
   "execution_count": 186,
   "metadata": {},
   "outputs": [
    {
     "data": {
      "text/html": [
       "<div>\n",
       "<style scoped>\n",
       "    .dataframe tbody tr th:only-of-type {\n",
       "        vertical-align: middle;\n",
       "    }\n",
       "\n",
       "    .dataframe tbody tr th {\n",
       "        vertical-align: top;\n",
       "    }\n",
       "\n",
       "    .dataframe thead th {\n",
       "        text-align: right;\n",
       "    }\n",
       "</style>\n",
       "<table border=\"1\" class=\"dataframe\">\n",
       "  <thead>\n",
       "    <tr style=\"text-align: right;\">\n",
       "      <th></th>\n",
       "      <th>Tanggal</th>\n",
       "      <th>Terakhir</th>\n",
       "      <th>Pembukaan</th>\n",
       "      <th>Tertinggi</th>\n",
       "      <th>Terendah</th>\n",
       "    </tr>\n",
       "  </thead>\n",
       "  <tbody>\n",
       "    <tr>\n",
       "      <th>0</th>\n",
       "      <td>23/12/2016</td>\n",
       "      <td>576,13</td>\n",
       "      <td>573,42</td>\n",
       "      <td>583,95</td>\n",
       "      <td>571,82</td>\n",
       "    </tr>\n",
       "    <tr>\n",
       "      <th>1</th>\n",
       "      <td>27/12/2016</td>\n",
       "      <td>582,88</td>\n",
       "      <td>573,62</td>\n",
       "      <td>584,16</td>\n",
       "      <td>571,97</td>\n",
       "    </tr>\n",
       "    <tr>\n",
       "      <th>2</th>\n",
       "      <td>28/12/2016</td>\n",
       "      <td>594,3</td>\n",
       "      <td>587,15</td>\n",
       "      <td>596,84</td>\n",
       "      <td>585,79</td>\n",
       "    </tr>\n",
       "    <tr>\n",
       "      <th>3</th>\n",
       "      <td>29/12/2016</td>\n",
       "      <td>611,62</td>\n",
       "      <td>597,09</td>\n",
       "      <td>612,95</td>\n",
       "      <td>595,25</td>\n",
       "    </tr>\n",
       "    <tr>\n",
       "      <th>4</th>\n",
       "      <td>30/12/2016</td>\n",
       "      <td>613,8</td>\n",
       "      <td>612,84</td>\n",
       "      <td>618,86</td>\n",
       "      <td>610,75</td>\n",
       "    </tr>\n",
       "    <tr>\n",
       "      <th>...</th>\n",
       "      <td>...</td>\n",
       "      <td>...</td>\n",
       "      <td>...</td>\n",
       "      <td>...</td>\n",
       "      <td>...</td>\n",
       "    </tr>\n",
       "    <tr>\n",
       "      <th>981</th>\n",
       "      <td>19/01/2021</td>\n",
       "      <td>1071,04</td>\n",
       "      <td>1082,71</td>\n",
       "      <td>1083,66</td>\n",
       "      <td>1062,21</td>\n",
       "    </tr>\n",
       "    <tr>\n",
       "      <th>982</th>\n",
       "      <td>20/01/2021</td>\n",
       "      <td>1097,88</td>\n",
       "      <td>1079,1</td>\n",
       "      <td>1101,36</td>\n",
       "      <td>1074,55</td>\n",
       "    </tr>\n",
       "    <tr>\n",
       "      <th>983</th>\n",
       "      <td>21/01/2021</td>\n",
       "      <td>1084,54</td>\n",
       "      <td>1112,26</td>\n",
       "      <td>1115,37</td>\n",
       "      <td>1084,21</td>\n",
       "    </tr>\n",
       "    <tr>\n",
       "      <th>984</th>\n",
       "      <td>22/01/2021</td>\n",
       "      <td>1076,36</td>\n",
       "      <td>1089,3</td>\n",
       "      <td>1093,93</td>\n",
       "      <td>1072,08</td>\n",
       "    </tr>\n",
       "    <tr>\n",
       "      <th>985</th>\n",
       "      <td>25/01/2021</td>\n",
       "      <td>1078,54</td>\n",
       "      <td>1089,33</td>\n",
       "      <td>1089,93</td>\n",
       "      <td>1059,49</td>\n",
       "    </tr>\n",
       "  </tbody>\n",
       "</table>\n",
       "<p>986 rows × 5 columns</p>\n",
       "</div>"
      ],
      "text/plain": [
       "        Tanggal Terakhir Pembukaan Tertinggi Terendah\n",
       "0    23/12/2016   576,13    573,42    583,95   571,82\n",
       "1    27/12/2016   582,88    573,62    584,16   571,97\n",
       "2    28/12/2016    594,3    587,15    596,84   585,79\n",
       "3    29/12/2016   611,62    597,09    612,95   595,25\n",
       "4    30/12/2016    613,8    612,84    618,86   610,75\n",
       "..          ...      ...       ...       ...      ...\n",
       "981  19/01/2021  1071,04   1082,71   1083,66  1062,21\n",
       "982  20/01/2021  1097,88    1079,1   1101,36  1074,55\n",
       "983  21/01/2021  1084,54   1112,26   1115,37  1084,21\n",
       "984  22/01/2021  1076,36    1089,3   1093,93  1072,08\n",
       "985  25/01/2021  1078,54   1089,33   1089,93  1059,49\n",
       "\n",
       "[986 rows x 5 columns]"
      ]
     },
     "execution_count": 186,
     "metadata": {},
     "output_type": "execute_result"
    }
   ],
   "source": [
    "df_bank.iloc[0:986]"
   ]
  },
  {
   "cell_type": "code",
   "execution_count": 187,
   "metadata": {},
   "outputs": [
    {
     "data": {
      "text/html": [
       "<div>\n",
       "<style scoped>\n",
       "    .dataframe tbody tr th:only-of-type {\n",
       "        vertical-align: middle;\n",
       "    }\n",
       "\n",
       "    .dataframe tbody tr th {\n",
       "        vertical-align: top;\n",
       "    }\n",
       "\n",
       "    .dataframe thead th {\n",
       "        text-align: right;\n",
       "    }\n",
       "</style>\n",
       "<table border=\"1\" class=\"dataframe\">\n",
       "  <thead>\n",
       "    <tr style=\"text-align: right;\">\n",
       "      <th></th>\n",
       "      <th>Tanggal</th>\n",
       "      <th>Terakhir</th>\n",
       "      <th>Pembukaan</th>\n",
       "      <th>Tertinggi</th>\n",
       "      <th>Terendah</th>\n",
       "    </tr>\n",
       "  </thead>\n",
       "  <tbody>\n",
       "    <tr>\n",
       "      <th>986</th>\n",
       "      <td>26/01/2021</td>\n",
       "      <td>1055,23</td>\n",
       "      <td>1073,56</td>\n",
       "      <td>1076,57</td>\n",
       "      <td>1054,37</td>\n",
       "    </tr>\n",
       "    <tr>\n",
       "      <th>987</th>\n",
       "      <td>27/01/2021</td>\n",
       "      <td>1047,79</td>\n",
       "      <td>1055,83</td>\n",
       "      <td>1066,2</td>\n",
       "      <td>1033,96</td>\n",
       "    </tr>\n",
       "    <tr>\n",
       "      <th>988</th>\n",
       "      <td>28/01/2021</td>\n",
       "      <td>1035,64</td>\n",
       "      <td>1040,05</td>\n",
       "      <td>1055,65</td>\n",
       "      <td>1025,74</td>\n",
       "    </tr>\n",
       "    <tr>\n",
       "      <th>989</th>\n",
       "      <td>29/01/2021</td>\n",
       "      <td>995,47</td>\n",
       "      <td>1043,47</td>\n",
       "      <td>1056,76</td>\n",
       "      <td>993,6</td>\n",
       "    </tr>\n",
       "    <tr>\n",
       "      <th>990</th>\n",
       "      <td>01/02/2021</td>\n",
       "      <td>1019,73</td>\n",
       "      <td>997,33</td>\n",
       "      <td>1025,85</td>\n",
       "      <td>959,22</td>\n",
       "    </tr>\n",
       "    <tr>\n",
       "      <th>...</th>\n",
       "      <td>...</td>\n",
       "      <td>...</td>\n",
       "      <td>...</td>\n",
       "      <td>...</td>\n",
       "      <td>...</td>\n",
       "    </tr>\n",
       "    <tr>\n",
       "      <th>1469</th>\n",
       "      <td>10/01/2023</td>\n",
       "      <td>1075,98</td>\n",
       "      <td>1111,33</td>\n",
       "      <td>1111,33</td>\n",
       "      <td>1071,49</td>\n",
       "    </tr>\n",
       "    <tr>\n",
       "      <th>1470</th>\n",
       "      <td>11/01/2023</td>\n",
       "      <td>1056,63</td>\n",
       "      <td>1075,98</td>\n",
       "      <td>1075,98</td>\n",
       "      <td>1054,35</td>\n",
       "    </tr>\n",
       "    <tr>\n",
       "      <th>1471</th>\n",
       "      <td>12/01/2023</td>\n",
       "      <td>1078,08</td>\n",
       "      <td>1056,7</td>\n",
       "      <td>1089,68</td>\n",
       "      <td>1056,7</td>\n",
       "    </tr>\n",
       "    <tr>\n",
       "      <th>1472</th>\n",
       "      <td>13/01/2023</td>\n",
       "      <td>1072,92</td>\n",
       "      <td>1078,15</td>\n",
       "      <td>1082,06</td>\n",
       "      <td>1065,78</td>\n",
       "    </tr>\n",
       "    <tr>\n",
       "      <th>1473</th>\n",
       "      <td>16/01/2023</td>\n",
       "      <td>1083,22</td>\n",
       "      <td>1072,92</td>\n",
       "      <td>1083,22</td>\n",
       "      <td>1068,64</td>\n",
       "    </tr>\n",
       "  </tbody>\n",
       "</table>\n",
       "<p>488 rows × 5 columns</p>\n",
       "</div>"
      ],
      "text/plain": [
       "         Tanggal Terakhir Pembukaan Tertinggi Terendah\n",
       "986   26/01/2021  1055,23   1073,56   1076,57  1054,37\n",
       "987   27/01/2021  1047,79   1055,83    1066,2  1033,96\n",
       "988   28/01/2021  1035,64   1040,05   1055,65  1025,74\n",
       "989   29/01/2021   995,47   1043,47   1056,76    993,6\n",
       "990   01/02/2021  1019,73    997,33   1025,85   959,22\n",
       "...          ...      ...       ...       ...      ...\n",
       "1469  10/01/2023  1075,98   1111,33   1111,33  1071,49\n",
       "1470  11/01/2023  1056,63   1075,98   1075,98  1054,35\n",
       "1471  12/01/2023  1078,08    1056,7   1089,68   1056,7\n",
       "1472  13/01/2023  1072,92   1078,15   1082,06  1065,78\n",
       "1473  16/01/2023  1083,22   1072,92   1083,22  1068,64\n",
       "\n",
       "[488 rows x 5 columns]"
      ]
     },
     "execution_count": 187,
     "metadata": {},
     "output_type": "execute_result"
    }
   ],
   "source": [
    "df_bank.iloc[986:]"
   ]
  },
  {
   "cell_type": "code",
   "execution_count": 188,
   "metadata": {},
   "outputs": [],
   "source": [
    "df_bank['Terakhir'] = [item.replace(',',\".\") for item in df_bank['Terakhir']]"
   ]
  },
  {
   "cell_type": "code",
   "execution_count": 189,
   "metadata": {},
   "outputs": [],
   "source": [
    "df_bank['Pembukaan'] = [item.replace(',',\".\") for item in df_bank['Pembukaan']]"
   ]
  },
  {
   "cell_type": "code",
   "execution_count": 190,
   "metadata": {},
   "outputs": [],
   "source": [
    "df_bank['Tertinggi'] = [item.replace(',',\".\") for item in df_bank['Tertinggi']]\n",
    "df_bank['Terendah'] = [item.replace(',',\".\") for item in df_bank['Terendah']]"
   ]
  },
  {
   "cell_type": "code",
   "execution_count": 191,
   "metadata": {},
   "outputs": [],
   "source": [
    "df_bank['Terakhir'] = df_bank['Terakhir'].astype(float)\n",
    "df_bank['Pembukaan'] = df_bank['Pembukaan'].astype(float)\n",
    "df_bank['Tertinggi'] = df_bank['Tertinggi'].astype(float)\n",
    "df_bank['Terendah'] = df_bank['Terendah'].astype(float)"
   ]
  },
  {
   "cell_type": "code",
   "execution_count": 192,
   "metadata": {},
   "outputs": [],
   "source": [
    "df_bank['Tanggal'] = pd.to_datetime(df_bank['Tanggal'])"
   ]
  },
  {
   "cell_type": "code",
   "execution_count": 193,
   "metadata": {},
   "outputs": [],
   "source": [
    "df_bank = df_bank.set_index(['Tanggal'])"
   ]
  },
  {
   "cell_type": "code",
   "execution_count": 194,
   "metadata": {},
   "outputs": [
    {
     "data": {
      "text/plain": [
       "<matplotlib.axes._subplots.AxesSubplot at 0x1ec9e5b1fc8>"
      ]
     },
     "execution_count": 194,
     "metadata": {},
     "output_type": "execute_result"
    },
    {
     "data": {
      "image/png": "[encoded data removed]",
      "text/plain": [
       "<Figure size 432x288 with 1 Axes>"
      ]
     },
     "metadata": {
      "needs_background": "light"
     },
     "output_type": "display_data"
    }
   ],
   "source": [
    "df_bank['Terakhir'].plot()"
   ]
  },
  {
   "cell_type": "code",
   "execution_count": 196,
   "metadata": {},
   "outputs": [
    {
     "name": "stdout",
     "output_type": "stream",
     "text": [
      "Tanggal\n",
      "2016-12-23     0.000000\n",
      "2016-12-27     0.000000\n",
      "2016-12-28     0.000000\n",
      "2016-12-29     0.000000\n",
      "2016-12-30     0.000000\n",
      "                ...    \n",
      "2023-10-01    15.786429\n",
      "2023-11-01    16.700714\n",
      "2023-12-01    18.387143\n",
      "2023-01-13    18.888571\n",
      "2023-01-16    18.915714\n",
      "Name: ATR, Length: 1474, dtype: float64\n"
     ]
    }
   ],
   "source": [
    "# Assuming you have a DataFrame named 'infobank15' containing high, low, and close prices\n",
    "# Create a new column to store the True Range values\n",
    "df_bank['TrueRange'] = np.nan\n",
    "\n",
    "# Calculate True Range for each row\n",
    "for i in range(1, len(df_bank)):\n",
    "    high = df_bank['Tertinggi'].iloc[i]\n",
    "    low = df_bank['Terendah'].iloc[i]\n",
    "    close_prev = df_bank['Terakhir'].iloc[i-1]\n",
    "    \n",
    "    true_range = max(high - low, abs(high - close_prev), abs(low - close_prev))\n",
    "    df_bank['TrueRange'].iloc[i] = true_range\n",
    "\n",
    "# Calculate the Average True Range using the rolling mean\n",
    "window = 14  # ATR window size\n",
    "df_bank['ATR'] = df_bank['TrueRange'].rolling(window).mean().fillna(0)\n",
    "\n",
    "print(df_bank['ATR'])"
   ]
  },
  {
   "cell_type": "code",
   "execution_count": 197,
   "metadata": {},
   "outputs": [],
   "source": [
    "# Calculate price change\n",
    "price_change = df_bank['Terakhir'].diff()\n",
    "\n",
    "# Calculate upward price change and downward price change\n",
    "upward_price_change = price_change.where(price_change > 0, 0)\n",
    "downward_price_change = -price_change.where(price_change < 0, 0)\n",
    "\n",
    "# Calculate average gain and average loss over the 14-day window\n",
    "average_gain = upward_price_change.rolling(window=14).mean()\n",
    "average_loss = downward_price_change.rolling(window=14).mean()\n",
    "\n",
    "# Calculate the relative strength (RS)\n",
    "relative_strength = average_gain / average_loss\n",
    "\n",
    "# Calculate the relative strength index (RSI)\n",
    "rsi = 100 - (100 / (1 + relative_strength))\n",
    "\n",
    "# Add the RSI values to the DataFrame\n",
    "df_bank['RSI'] = rsi"
   ]
  },
  {
   "cell_type": "code",
   "execution_count": 198,
   "metadata": {},
   "outputs": [],
   "source": [
    "df_bank.drop(['TrueRange'],axis=1,inplace=True)"
   ]
  },
  {
   "cell_type": "code",
   "execution_count": 200,
   "metadata": {},
   "outputs": [],
   "source": [
    "#Volatility Calculation\n",
    "\n",
    "df_bank['returns'] = df_bank['Terakhir'].pct_change()\n",
    "\n",
    "window = 30\n",
    "df_bank['volatilitas'] = df_bank['returns'].rolling(window).std() * np.sqrt(window)\n",
    "trading_days_per_year = 252\n",
    "df_bank['volatilitas'] = df_bank['volatilitas'] * np.sqrt(trading_days_per_year)\n"
   ]
  },
  {
   "cell_type": "code",
   "execution_count": 222,
   "metadata": {},
   "outputs": [],
   "source": [
    "#Creating MACD\n",
    "df_bank['ema12'] = df_bank['Terakhir'].ewm(span=12, adjust=False).mean()\n",
    "df_bank['ema26'] = df_bank['Terakhir'].ewm(span=26, adjust=False).mean()\n",
    "\n",
    "#Calculate the MACD line by subtracting the 26-day EMA from the 12-day EMA:\n",
    "df_bank['MACD'] = df_bank['ema12'] - df_bank['ema26']"
   ]
  },
  {
   "cell_type": "code",
   "execution_count": 204,
   "metadata": {},
   "outputs": [],
   "source": [
    "df_bank.fillna(0,inplace= True)"
   ]
  },
  {
   "cell_type": "code",
   "execution_count": 224,
   "metadata": {},
   "outputs": [],
   "source": [
    "#df_bank.drop(['returns'],axis=1,inplace=True)\n",
    "#df_bank.drop(['Tertinggi'],axis=1,inplace=True)\n",
    "#df_bank.drop(['Terendah'],axis=1,inplace=True)\n",
    "df_bank.drop(['ema12'],axis=1,inplace=True)\n",
    "df_bank.drop(['ema26'],axis=1,inplace=True)"
   ]
  },
  {
   "cell_type": "code",
   "execution_count": 225,
   "metadata": {},
   "outputs": [
    {
     "data": {
      "image/png": "[encoded data removed]",
      "text/plain": [
       "<Figure size 720x360 with 2 Axes>"
      ]
     },
     "metadata": {},
     "output_type": "display_data"
    }
   ],
   "source": [
    "fig = plt.figure(figsize= (10,5))\n",
    "sns.heatmap(df_bank.corr(), annot=True)\n",
    "sns.set_style(\"whitegrid\")"
   ]
  },
  {
   "attachments": {},
   "cell_type": "markdown",
   "metadata": {},
   "source": [
    "# IDR Dataset"
   ]
  },
  {
   "cell_type": "code",
   "execution_count": 226,
   "metadata": {},
   "outputs": [],
   "source": [
    "df_idr = pd.read_csv(\"IDR=X.csv\")"
   ]
  },
  {
   "cell_type": "code",
   "execution_count": 227,
   "metadata": {},
   "outputs": [],
   "source": [
    "df_idr = df_idr[['Date','Close']]"
   ]
  },
  {
   "cell_type": "code",
   "execution_count": 228,
   "metadata": {},
   "outputs": [],
   "source": [
    "df_idr['Date'] = pd.to_datetime(df_idr['Date'])"
   ]
  },
  {
   "cell_type": "code",
   "execution_count": 229,
   "metadata": {},
   "outputs": [],
   "source": [
    "df_idr = df_idr.rename(columns={'Date': 'Tanggal','Close':'Close IDR'})"
   ]
  },
  {
   "cell_type": "code",
   "execution_count": 230,
   "metadata": {},
   "outputs": [],
   "source": [
    "df_idr = df_idr.set_index('Tanggal')"
   ]
  },
  {
   "attachments": {},
   "cell_type": "markdown",
   "metadata": {},
   "source": [
    "# Merge INFOBANK15 & IDR"
   ]
  },
  {
   "cell_type": "code",
   "execution_count": 231,
   "metadata": {},
   "outputs": [],
   "source": [
    "#merge df_bank and df_idr\n",
    "df = pd.merge(df_bank,df_idr,how='inner',left_index=True,right_index=True)"
   ]
  },
  {
   "cell_type": "code",
   "execution_count": 232,
   "metadata": {},
   "outputs": [],
   "source": [
    "df.dropna(inplace=True)"
   ]
  },
  {
   "attachments": {},
   "cell_type": "markdown",
   "metadata": {},
   "source": [
    "# Consumer Confidence Dataset"
   ]
  },
  {
   "cell_type": "code",
   "execution_count": 179,
   "metadata": {},
   "outputs": [],
   "source": [
    "import datetime as dt"
   ]
  },
  {
   "cell_type": "code",
   "execution_count": 235,
   "metadata": {},
   "outputs": [],
   "source": [
    "df_cc = pd.read_excel('ConsumerConfidence.xlsx')"
   ]
  },
  {
   "cell_type": "code",
   "execution_count": 237,
   "metadata": {},
   "outputs": [],
   "source": [
    "df_cc = df_cc.rename(columns={'Release Date':'Tanggal','Actual':'Consumer Confidence'})"
   ]
  },
  {
   "cell_type": "code",
   "execution_count": 240,
   "metadata": {},
   "outputs": [],
   "source": [
    "df_cc = df_cc.set_index('Tanggal')"
   ]
  },
  {
   "cell_type": "code",
   "execution_count": 241,
   "metadata": {},
   "outputs": [],
   "source": [
    "df_cc = df_cc['Consumer Confidence']"
   ]
  },
  {
   "cell_type": "code",
   "execution_count": 246,
   "metadata": {},
   "outputs": [],
   "source": [
    "all_df = pd.merge(df, df_cc , on='Tanggal', how='outer')"
   ]
  },
  {
   "cell_type": "code",
   "execution_count": 249,
   "metadata": {},
   "outputs": [
    {
     "data": {
      "text/plain": [
       "Terakhir               33\n",
       "Pembukaan              33\n",
       "ATR                    33\n",
       "RSI                    33\n",
       "volatilitas            33\n",
       "MACD                   33\n",
       "Close IDR              33\n",
       "Consumer Confidence    78\n",
       "dtype: int64"
      ]
     },
     "execution_count": 249,
     "metadata": {},
     "output_type": "execute_result"
    }
   ],
   "source": [
    "all_df.isnull().sum()"
   ]
  },
  {
   "cell_type": "code",
   "execution_count": 248,
   "metadata": {},
   "outputs": [],
   "source": [
    "all_df['Consumer Confidence']= all_df['Consumer Confidence'].fillna(method='ffill')"
   ]
  },
  {
   "cell_type": "code",
   "execution_count": 250,
   "metadata": {},
   "outputs": [],
   "source": [
    "all_df.loc['2017-01-11':'2017-02-03','Consumer Confidence'] = 115.4\n",
    "all_df.loc['2016-12-23':'2017-01-03','Consumer Confidence'] = 115.9"
   ]
  },
  {
   "attachments": {},
   "cell_type": "markdown",
   "metadata": {},
   "source": [
    "# Dataset Emas"
   ]
  },
  {
   "cell_type": "code",
   "execution_count": 253,
   "metadata": {},
   "outputs": [],
   "source": [
    "df_emas = pd.read_excel(\"Data-Historis-Emas-Berjangka.xlsx\")"
   ]
  },
  {
   "cell_type": "code",
   "execution_count": 254,
   "metadata": {},
   "outputs": [],
   "source": [
    "df_emas['Tanggal'] = pd.to_datetime(df_emas['Tanggal'])"
   ]
  },
  {
   "cell_type": "code",
   "execution_count": 256,
   "metadata": {},
   "outputs": [],
   "source": [
    "df_emas = df_emas.set_index('Tanggal')"
   ]
  },
  {
   "cell_type": "code",
   "execution_count": 259,
   "metadata": {},
   "outputs": [],
   "source": [
    "df_emas.sort_index(inplace = True)"
   ]
  },
  {
   "cell_type": "code",
   "execution_count": 260,
   "metadata": {},
   "outputs": [],
   "source": [
    "df_emas = df_emas.rename(columns={'Terakhir ':'Emas USD'})"
   ]
  },
  {
   "cell_type": "code",
   "execution_count": 262,
   "metadata": {},
   "outputs": [],
   "source": [
    "df_emas = df_emas['Emas USD']"
   ]
  },
  {
   "cell_type": "code",
   "execution_count": 264,
   "metadata": {},
   "outputs": [],
   "source": [
    "temp_df = pd.merge(all_df,df_emas,how='inner',left_index=True,right_index=True)"
   ]
  },
  {
   "attachments": {},
   "cell_type": "markdown",
   "metadata": {},
   "source": [
    "# Dataset BI Rate & Inflasi"
   ]
  },
  {
   "cell_type": "code",
   "execution_count": 265,
   "metadata": {},
   "outputs": [],
   "source": [
    "df_rate = pd.read_excel(\"BI Rate.xlsx\")"
   ]
  },
  {
   "cell_type": "code",
   "execution_count": 266,
   "metadata": {},
   "outputs": [],
   "source": [
    "df_rate['Tanggal']= pd.to_datetime(df_rate['Tanggal'])\n",
    "df_rate = df_rate.set_index(\"Tanggal\")\n"
   ]
  },
  {
   "cell_type": "code",
   "execution_count": 268,
   "metadata": {},
   "outputs": [],
   "source": [
    "temp_df = pd.merge(temp_df,df_rate,how='inner',left_index=True,right_index=True)"
   ]
  },
  {
   "cell_type": "code",
   "execution_count": 269,
   "metadata": {},
   "outputs": [],
   "source": [
    "all_df = temp_df.copy()"
   ]
  },
  {
   "cell_type": "code",
   "execution_count": 270,
   "metadata": {},
   "outputs": [],
   "source": [
    "all_df = all_df.dropna()"
   ]
  },
  {
   "cell_type": "code",
   "execution_count": 273,
   "metadata": {},
   "outputs": [],
   "source": [
    "all_df.to_csv('dataset TA2.csv',index=True)"
   ]
  },
  {
   "attachments": {},
   "cell_type": "markdown",
   "metadata": {},
   "source": [
    "# Pre-Process"
   ]
  },
  {
   "cell_type": "code",
   "execution_count": 1,
   "metadata": {},
   "outputs": [
    {
     "ename": "NameError",
     "evalue": "name 'plt' is not defined",
     "output_type": "error",
     "traceback": [
      "\u001b[1;31m---------------------------------------------------------------------------\u001b[0m",
      "\u001b[1;31mNameError\u001b[0m                                 Traceback (most recent call last)",
      "\u001b[1;32m<ipython-input-1-d30202d41a55>\u001b[0m in \u001b[0;36m<module>\u001b[1;34m\u001b[0m\n\u001b[1;32m----> 1\u001b[1;33m \u001b[0mfig\u001b[0m \u001b[1;33m=\u001b[0m \u001b[0mplt\u001b[0m\u001b[1;33m.\u001b[0m\u001b[0mfigure\u001b[0m\u001b[1;33m(\u001b[0m\u001b[0mfigsize\u001b[0m\u001b[1;33m=\u001b[0m \u001b[1;33m(\u001b[0m\u001b[1;36m10\u001b[0m\u001b[1;33m,\u001b[0m\u001b[1;36m5\u001b[0m\u001b[1;33m)\u001b[0m\u001b[1;33m)\u001b[0m\u001b[1;33m\u001b[0m\u001b[1;33m\u001b[0m\u001b[0m\n\u001b[0m\u001b[0;32m      2\u001b[0m \u001b[0msns\u001b[0m\u001b[1;33m.\u001b[0m\u001b[0mheatmap\u001b[0m\u001b[1;33m(\u001b[0m\u001b[0mall_df\u001b[0m\u001b[1;33m.\u001b[0m\u001b[0mcorr\u001b[0m\u001b[1;33m(\u001b[0m\u001b[1;33m)\u001b[0m\u001b[1;33m,\u001b[0m \u001b[0mannot\u001b[0m\u001b[1;33m=\u001b[0m\u001b[1;32mTrue\u001b[0m\u001b[1;33m)\u001b[0m\u001b[1;33m\u001b[0m\u001b[1;33m\u001b[0m\u001b[0m\n\u001b[0;32m      3\u001b[0m \u001b[0msns\u001b[0m\u001b[1;33m.\u001b[0m\u001b[0mset_style\u001b[0m\u001b[1;33m(\u001b[0m\u001b[1;34m\"whitegrid\"\u001b[0m\u001b[1;33m)\u001b[0m\u001b[1;33m\u001b[0m\u001b[1;33m\u001b[0m\u001b[0m\n",
      "\u001b[1;31mNameError\u001b[0m: name 'plt' is not defined"
     ]
    }
   ],
   "source": [
    "fig = plt.figure(figsize= (10,5))\n",
    "sns.heatmap(all_df.corr(), annot=True)\n",
    "sns.set_style(\"whitegrid\")"
   ]
  },
  {
   "cell_type": "code",
   "execution_count": null,
   "metadata": {},
   "outputs": [],
   "source": []
  }
 ],
 "metadata": {
  "kernelspec": {
   "display_name": "base",
   "language": "python",
   "name": "python3"
  },
  "language_info": {
   "codemirror_mode": {
    "name": "ipython",
    "version": 3
   },
   "file_extension": ".py",
   "mimetype": "text/x-python",
   "name": "python",
   "nbconvert_exporter": "python",
   "pygments_lexer": "ipython3",
   "version": "3.7.6"
  },
  "orig_nbformat": 4
 },
 "nbformat": 4,
 "nbformat_minor": 2
}
