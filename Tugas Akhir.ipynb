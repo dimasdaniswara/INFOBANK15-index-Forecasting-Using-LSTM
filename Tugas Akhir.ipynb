{
 "cells": [
  {
   "cell_type": "code",
   "execution_count": 1,
   "metadata": {},
   "outputs": [],
   "source": [
    "import pandas as pd\n",
    "import numpy as np\n",
    "import matplotlib.pyplot as plt\n",
    "import seaborn as sns"
   ]
  },
  {
   "cell_type": "code",
   "execution_count": 77,
   "metadata": {},
   "outputs": [],
   "source": [
    "bank15 = pd.read_csv(\"INFOBANK15cleaned.csv\",delimiter=';')\n",
    "idr = pd.read_csv(\"IDR=X.csv\")"
   ]
  },
  {
   "cell_type": "code",
   "execution_count": 78,
   "metadata": {},
   "outputs": [
    {
     "name": "stdout",
     "output_type": "stream",
     "text": [
      "<class 'pandas.core.frame.DataFrame'>\n",
      "RangeIndex: 1474 entries, 0 to 1473\n",
      "Data columns (total 5 columns):\n",
      " #   Column     Non-Null Count  Dtype \n",
      "---  ------     --------------  ----- \n",
      " 0   Tanggal    1474 non-null   object\n",
      " 1   Terakhir   1474 non-null   object\n",
      " 2   Pembukaan  1474 non-null   object\n",
      " 3   Tertinggi  1474 non-null   object\n",
      " 4   Terendah   1474 non-null   object\n",
      "dtypes: object(5)\n",
      "memory usage: 57.7+ KB\n"
     ]
    }
   ],
   "source": [
    "bank15.info()"
   ]
  },
  {
   "cell_type": "code",
   "execution_count": 79,
   "metadata": {},
   "outputs": [
    {
     "data": {
      "text/html": [
       "<div>\n",
       "<style scoped>\n",
       "    .dataframe tbody tr th:only-of-type {\n",
       "        vertical-align: middle;\n",
       "    }\n",
       "\n",
       "    .dataframe tbody tr th {\n",
       "        vertical-align: top;\n",
       "    }\n",
       "\n",
       "    .dataframe thead th {\n",
       "        text-align: right;\n",
       "    }\n",
       "</style>\n",
       "<table border=\"1\" class=\"dataframe\">\n",
       "  <thead>\n",
       "    <tr style=\"text-align: right;\">\n",
       "      <th></th>\n",
       "      <th>Tanggal</th>\n",
       "      <th>Terakhir</th>\n",
       "      <th>Pembukaan</th>\n",
       "      <th>Tertinggi</th>\n",
       "      <th>Terendah</th>\n",
       "    </tr>\n",
       "  </thead>\n",
       "  <tbody>\n",
       "    <tr>\n",
       "      <th>0</th>\n",
       "      <td>23/12/2016</td>\n",
       "      <td>576,13</td>\n",
       "      <td>573,42</td>\n",
       "      <td>583,95</td>\n",
       "      <td>571,82</td>\n",
       "    </tr>\n",
       "    <tr>\n",
       "      <th>1</th>\n",
       "      <td>27/12/2016</td>\n",
       "      <td>582,88</td>\n",
       "      <td>573,62</td>\n",
       "      <td>584,16</td>\n",
       "      <td>571,97</td>\n",
       "    </tr>\n",
       "    <tr>\n",
       "      <th>2</th>\n",
       "      <td>28/12/2016</td>\n",
       "      <td>594,3</td>\n",
       "      <td>587,15</td>\n",
       "      <td>596,84</td>\n",
       "      <td>585,79</td>\n",
       "    </tr>\n",
       "    <tr>\n",
       "      <th>3</th>\n",
       "      <td>29/12/2016</td>\n",
       "      <td>611,62</td>\n",
       "      <td>597,09</td>\n",
       "      <td>612,95</td>\n",
       "      <td>595,25</td>\n",
       "    </tr>\n",
       "    <tr>\n",
       "      <th>4</th>\n",
       "      <td>30/12/2016</td>\n",
       "      <td>613,8</td>\n",
       "      <td>612,84</td>\n",
       "      <td>618,86</td>\n",
       "      <td>610,75</td>\n",
       "    </tr>\n",
       "    <tr>\n",
       "      <th>...</th>\n",
       "      <td>...</td>\n",
       "      <td>...</td>\n",
       "      <td>...</td>\n",
       "      <td>...</td>\n",
       "      <td>...</td>\n",
       "    </tr>\n",
       "    <tr>\n",
       "      <th>1469</th>\n",
       "      <td>10/01/2023</td>\n",
       "      <td>1075,98</td>\n",
       "      <td>1111,33</td>\n",
       "      <td>1111,33</td>\n",
       "      <td>1071,49</td>\n",
       "    </tr>\n",
       "    <tr>\n",
       "      <th>1470</th>\n",
       "      <td>11/01/2023</td>\n",
       "      <td>1056,63</td>\n",
       "      <td>1075,98</td>\n",
       "      <td>1075,98</td>\n",
       "      <td>1054,35</td>\n",
       "    </tr>\n",
       "    <tr>\n",
       "      <th>1471</th>\n",
       "      <td>12/01/2023</td>\n",
       "      <td>1078,08</td>\n",
       "      <td>1056,7</td>\n",
       "      <td>1089,68</td>\n",
       "      <td>1056,7</td>\n",
       "    </tr>\n",
       "    <tr>\n",
       "      <th>1472</th>\n",
       "      <td>13/01/2023</td>\n",
       "      <td>1072,92</td>\n",
       "      <td>1078,15</td>\n",
       "      <td>1082,06</td>\n",
       "      <td>1065,78</td>\n",
       "    </tr>\n",
       "    <tr>\n",
       "      <th>1473</th>\n",
       "      <td>16/01/2023</td>\n",
       "      <td>1083,22</td>\n",
       "      <td>1072,92</td>\n",
       "      <td>1083,22</td>\n",
       "      <td>1068,64</td>\n",
       "    </tr>\n",
       "  </tbody>\n",
       "</table>\n",
       "<p>1474 rows × 5 columns</p>\n",
       "</div>"
      ],
      "text/plain": [
       "         Tanggal Terakhir Pembukaan Tertinggi Terendah\n",
       "0     23/12/2016   576,13    573,42    583,95   571,82\n",
       "1     27/12/2016   582,88    573,62    584,16   571,97\n",
       "2     28/12/2016    594,3    587,15    596,84   585,79\n",
       "3     29/12/2016   611,62    597,09    612,95   595,25\n",
       "4     30/12/2016    613,8    612,84    618,86   610,75\n",
       "...          ...      ...       ...       ...      ...\n",
       "1469  10/01/2023  1075,98   1111,33   1111,33  1071,49\n",
       "1470  11/01/2023  1056,63   1075,98   1075,98  1054,35\n",
       "1471  12/01/2023  1078,08    1056,7   1089,68   1056,7\n",
       "1472  13/01/2023  1072,92   1078,15   1082,06  1065,78\n",
       "1473  16/01/2023  1083,22   1072,92   1083,22  1068,64\n",
       "\n",
       "[1474 rows x 5 columns]"
      ]
     },
     "execution_count": 79,
     "metadata": {},
     "output_type": "execute_result"
    }
   ],
   "source": [
    "bank15"
   ]
  },
  {
   "cell_type": "code",
   "execution_count": 80,
   "metadata": {},
   "outputs": [],
   "source": [
    "bank15[\"Terakhir\"] = [item.replace(',', '.') for item in bank15['Terakhir']] \n"
   ]
  },
  {
   "cell_type": "code",
   "execution_count": 81,
   "metadata": {},
   "outputs": [],
   "source": [
    "bank15['Terakhir'] = bank15['Terakhir'].astype(float)"
   ]
  },
  {
   "cell_type": "code",
   "execution_count": 82,
   "metadata": {},
   "outputs": [],
   "source": [
    "bank15['Pembukaan'] = [item.replace(',', '.') for item in bank15['Pembukaan']]"
   ]
  },
  {
   "cell_type": "code",
   "execution_count": 83,
   "metadata": {},
   "outputs": [],
   "source": [
    "bank15['Pembukaan'] = bank15['Pembukaan'].astype(float)"
   ]
  },
  {
   "cell_type": "code",
   "execution_count": 84,
   "metadata": {},
   "outputs": [],
   "source": [
    "bank15['Tertinggi'] = [item.replace(',', '.') for item in bank15['Tertinggi']]"
   ]
  },
  {
   "cell_type": "code",
   "execution_count": 85,
   "metadata": {},
   "outputs": [],
   "source": [
    "bank15['Tertinggi'] = bank15['Tertinggi'].astype(float)"
   ]
  },
  {
   "cell_type": "code",
   "execution_count": 86,
   "metadata": {},
   "outputs": [],
   "source": [
    "bank15['Terendah'] = [item.replace(',', '.') for item in bank15['Terendah']]\n",
    "bank15['Terendah'] = bank15['Terendah'].astype(float)"
   ]
  },
  {
   "cell_type": "code",
   "execution_count": 87,
   "metadata": {},
   "outputs": [],
   "source": [
    "bank15['Tanggal'] = pd.to_datetime(bank15['Tanggal'])"
   ]
  },
  {
   "cell_type": "code",
   "execution_count": 88,
   "metadata": {},
   "outputs": [
    {
     "name": "stdout",
     "output_type": "stream",
     "text": [
      "1\n",
      "2\n",
      "3\n",
      "4\n"
     ]
    }
   ],
   "source": [
    "for i in range(1,5):\n",
    "    print(i)"
   ]
  },
  {
   "cell_type": "code",
   "execution_count": 89,
   "metadata": {},
   "outputs": [
    {
     "name": "stderr",
     "output_type": "stream",
     "text": [
      "c:\\Users\\Dimas\\anaconda3\\lib\\site-packages\\pandas\\core\\indexing.py:670: SettingWithCopyWarning: \n",
      "A value is trying to be set on a copy of a slice from a DataFrame\n",
      "\n",
      "See the caveats in the documentation: https://pandas.pydata.org/pandas-docs/stable/user_guide/indexing.html#returning-a-view-versus-a-copy\n",
      "  iloc._setitem_with_indexer(indexer, value)\n"
     ]
    },
    {
     "name": "stdout",
     "output_type": "stream",
     "text": [
      "0        0.000000\n",
      "1        0.000000\n",
      "2        0.000000\n",
      "3        0.000000\n",
      "4        0.000000\n",
      "          ...    \n",
      "1469    15.786429\n",
      "1470    16.700714\n",
      "1471    18.387143\n",
      "1472    18.888571\n",
      "1473    18.915714\n",
      "Name: ATR, Length: 1474, dtype: float64\n"
     ]
    }
   ],
   "source": [
    "# Assuming you have a DataFrame named 'infobank15' containing high, low, and close prices\n",
    "# Create a new column to store the True Range values\n",
    "bank15['TrueRange'] = np.nan\n",
    "\n",
    "# Calculate True Range for each row\n",
    "for i in range(1, len(bank15)):\n",
    "    high = bank15['Tertinggi'].iloc[i]\n",
    "    low = bank15['Terendah'].iloc[i]\n",
    "    close_prev = bank15['Terakhir'].iloc[i-1]\n",
    "    \n",
    "    true_range = max(high - low, abs(high - close_prev), abs(low - close_prev))\n",
    "    bank15['TrueRange'].iloc[i] = true_range\n",
    "\n",
    "# Calculate the Average True Range using the rolling mean\n",
    "window = 14  # ATR window size\n",
    "bank15['ATR'] = bank15['TrueRange'].rolling(window).mean().fillna(0)\n",
    "\n",
    "print(bank15['ATR'])"
   ]
  },
  {
   "cell_type": "code",
   "execution_count": 90,
   "metadata": {},
   "outputs": [],
   "source": [
    "# Calculate price change\n",
    "price_change = bank15['Terakhir'].diff()\n",
    "\n",
    "# Calculate upward price change and downward price change\n",
    "upward_price_change = price_change.where(price_change > 0, 0)\n",
    "downward_price_change = -price_change.where(price_change < 0, 0)\n",
    "\n",
    "# Calculate average gain and average loss over the 14-day window\n",
    "average_gain = upward_price_change.rolling(window=14).mean()\n",
    "average_loss = downward_price_change.rolling(window=14).mean()\n",
    "\n",
    "# Calculate the relative strength (RS)\n",
    "relative_strength = average_gain / average_loss\n",
    "\n",
    "# Calculate the relative strength index (RSI)\n",
    "rsi = 100 - (100 / (1 + relative_strength))\n",
    "\n",
    "# Add the RSI values to the DataFrame\n",
    "bank15['RSI'] = rsi"
   ]
  },
  {
   "cell_type": "code",
   "execution_count": 91,
   "metadata": {},
   "outputs": [],
   "source": [
    "bank15.drop(['TrueRange'],axis=1,inplace=True)"
   ]
  },
  {
   "cell_type": "code",
   "execution_count": 92,
   "metadata": {},
   "outputs": [
    {
     "name": "stdout",
     "output_type": "stream",
     "text": [
      "<class 'pandas.core.frame.DataFrame'>\n",
      "RangeIndex: 1580 entries, 0 to 1579\n",
      "Data columns (total 7 columns):\n",
      " #   Column     Non-Null Count  Dtype  \n",
      "---  ------     --------------  -----  \n",
      " 0   Date       1580 non-null   object \n",
      " 1   Open       1577 non-null   float64\n",
      " 2   High       1577 non-null   float64\n",
      " 3   Low        1577 non-null   float64\n",
      " 4   Close      1577 non-null   float64\n",
      " 5   Adj Close  1577 non-null   float64\n",
      " 6   Volume     1577 non-null   float64\n",
      "dtypes: float64(6), object(1)\n",
      "memory usage: 86.5+ KB\n"
     ]
    }
   ],
   "source": [
    "idr.info()"
   ]
  },
  {
   "cell_type": "code",
   "execution_count": 93,
   "metadata": {},
   "outputs": [
    {
     "data": {
      "text/html": [
       "<div>\n",
       "<style scoped>\n",
       "    .dataframe tbody tr th:only-of-type {\n",
       "        vertical-align: middle;\n",
       "    }\n",
       "\n",
       "    .dataframe tbody tr th {\n",
       "        vertical-align: top;\n",
       "    }\n",
       "\n",
       "    .dataframe thead th {\n",
       "        text-align: right;\n",
       "    }\n",
       "</style>\n",
       "<table border=\"1\" class=\"dataframe\">\n",
       "  <thead>\n",
       "    <tr style=\"text-align: right;\">\n",
       "      <th></th>\n",
       "      <th>Tanggal</th>\n",
       "      <th>Terakhir</th>\n",
       "      <th>Pembukaan</th>\n",
       "      <th>Tertinggi</th>\n",
       "      <th>Terendah</th>\n",
       "      <th>ATR</th>\n",
       "      <th>RSI</th>\n",
       "    </tr>\n",
       "  </thead>\n",
       "  <tbody>\n",
       "    <tr>\n",
       "      <th>0</th>\n",
       "      <td>2016-12-23</td>\n",
       "      <td>576.13</td>\n",
       "      <td>573.42</td>\n",
       "      <td>583.95</td>\n",
       "      <td>571.82</td>\n",
       "      <td>0.000000</td>\n",
       "      <td>NaN</td>\n",
       "    </tr>\n",
       "    <tr>\n",
       "      <th>1</th>\n",
       "      <td>2016-12-27</td>\n",
       "      <td>582.88</td>\n",
       "      <td>573.62</td>\n",
       "      <td>584.16</td>\n",
       "      <td>571.97</td>\n",
       "      <td>0.000000</td>\n",
       "      <td>NaN</td>\n",
       "    </tr>\n",
       "    <tr>\n",
       "      <th>2</th>\n",
       "      <td>2016-12-28</td>\n",
       "      <td>594.30</td>\n",
       "      <td>587.15</td>\n",
       "      <td>596.84</td>\n",
       "      <td>585.79</td>\n",
       "      <td>0.000000</td>\n",
       "      <td>NaN</td>\n",
       "    </tr>\n",
       "    <tr>\n",
       "      <th>3</th>\n",
       "      <td>2016-12-29</td>\n",
       "      <td>611.62</td>\n",
       "      <td>597.09</td>\n",
       "      <td>612.95</td>\n",
       "      <td>595.25</td>\n",
       "      <td>0.000000</td>\n",
       "      <td>NaN</td>\n",
       "    </tr>\n",
       "    <tr>\n",
       "      <th>4</th>\n",
       "      <td>2016-12-30</td>\n",
       "      <td>613.80</td>\n",
       "      <td>612.84</td>\n",
       "      <td>618.86</td>\n",
       "      <td>610.75</td>\n",
       "      <td>0.000000</td>\n",
       "      <td>NaN</td>\n",
       "    </tr>\n",
       "    <tr>\n",
       "      <th>...</th>\n",
       "      <td>...</td>\n",
       "      <td>...</td>\n",
       "      <td>...</td>\n",
       "      <td>...</td>\n",
       "      <td>...</td>\n",
       "      <td>...</td>\n",
       "      <td>...</td>\n",
       "    </tr>\n",
       "    <tr>\n",
       "      <th>1469</th>\n",
       "      <td>2023-10-01</td>\n",
       "      <td>1075.98</td>\n",
       "      <td>1111.33</td>\n",
       "      <td>1111.33</td>\n",
       "      <td>1071.49</td>\n",
       "      <td>15.786429</td>\n",
       "      <td>15.545959</td>\n",
       "    </tr>\n",
       "    <tr>\n",
       "      <th>1470</th>\n",
       "      <td>2023-11-01</td>\n",
       "      <td>1056.63</td>\n",
       "      <td>1075.98</td>\n",
       "      <td>1075.98</td>\n",
       "      <td>1054.35</td>\n",
       "      <td>16.700714</td>\n",
       "      <td>10.484184</td>\n",
       "    </tr>\n",
       "    <tr>\n",
       "      <th>1471</th>\n",
       "      <td>2023-12-01</td>\n",
       "      <td>1078.08</td>\n",
       "      <td>1056.70</td>\n",
       "      <td>1089.68</td>\n",
       "      <td>1056.70</td>\n",
       "      <td>18.387143</td>\n",
       "      <td>24.836508</td>\n",
       "    </tr>\n",
       "    <tr>\n",
       "      <th>1472</th>\n",
       "      <td>2023-01-13</td>\n",
       "      <td>1072.92</td>\n",
       "      <td>1078.15</td>\n",
       "      <td>1082.06</td>\n",
       "      <td>1065.78</td>\n",
       "      <td>18.888571</td>\n",
       "      <td>20.307560</td>\n",
       "    </tr>\n",
       "    <tr>\n",
       "      <th>1473</th>\n",
       "      <td>2023-01-16</td>\n",
       "      <td>1083.22</td>\n",
       "      <td>1072.92</td>\n",
       "      <td>1083.22</td>\n",
       "      <td>1068.64</td>\n",
       "      <td>18.915714</td>\n",
       "      <td>26.722107</td>\n",
       "    </tr>\n",
       "  </tbody>\n",
       "</table>\n",
       "<p>1474 rows × 7 columns</p>\n",
       "</div>"
      ],
      "text/plain": [
       "        Tanggal  Terakhir  Pembukaan  Tertinggi  Terendah        ATR  \\\n",
       "0    2016-12-23    576.13     573.42     583.95    571.82   0.000000   \n",
       "1    2016-12-27    582.88     573.62     584.16    571.97   0.000000   \n",
       "2    2016-12-28    594.30     587.15     596.84    585.79   0.000000   \n",
       "3    2016-12-29    611.62     597.09     612.95    595.25   0.000000   \n",
       "4    2016-12-30    613.80     612.84     618.86    610.75   0.000000   \n",
       "...         ...       ...        ...        ...       ...        ...   \n",
       "1469 2023-10-01   1075.98    1111.33    1111.33   1071.49  15.786429   \n",
       "1470 2023-11-01   1056.63    1075.98    1075.98   1054.35  16.700714   \n",
       "1471 2023-12-01   1078.08    1056.70    1089.68   1056.70  18.387143   \n",
       "1472 2023-01-13   1072.92    1078.15    1082.06   1065.78  18.888571   \n",
       "1473 2023-01-16   1083.22    1072.92    1083.22   1068.64  18.915714   \n",
       "\n",
       "            RSI  \n",
       "0           NaN  \n",
       "1           NaN  \n",
       "2           NaN  \n",
       "3           NaN  \n",
       "4           NaN  \n",
       "...         ...  \n",
       "1469  15.545959  \n",
       "1470  10.484184  \n",
       "1471  24.836508  \n",
       "1472  20.307560  \n",
       "1473  26.722107  \n",
       "\n",
       "[1474 rows x 7 columns]"
      ]
     },
     "execution_count": 93,
     "metadata": {},
     "output_type": "execute_result"
    }
   ],
   "source": [
    "bank15"
   ]
  },
  {
   "cell_type": "code",
   "execution_count": 94,
   "metadata": {},
   "outputs": [],
   "source": [
    "bank15 = bank15.set_index(['Tanggal'])"
   ]
  },
  {
   "cell_type": "code",
   "execution_count": 95,
   "metadata": {},
   "outputs": [],
   "source": [
    "idr = idr[['Date','Close']]"
   ]
  },
  {
   "cell_type": "code",
   "execution_count": 96,
   "metadata": {},
   "outputs": [],
   "source": [
    "idr['Date'] = pd.to_datetime(idr['Date'])"
   ]
  },
  {
   "cell_type": "code",
   "execution_count": 97,
   "metadata": {},
   "outputs": [],
   "source": [
    "idr = idr.rename(columns={'Date': 'Tanggal','Close':'Close IDR'})"
   ]
  },
  {
   "cell_type": "code",
   "execution_count": 98,
   "metadata": {},
   "outputs": [],
   "source": [
    "idr = idr.set_index('Tanggal')"
   ]
  },
  {
   "cell_type": "code",
   "execution_count": 99,
   "metadata": {},
   "outputs": [],
   "source": [
    "df = pd.merge(bank15,idr,how='inner',left_index=True,right_index=True)"
   ]
  },
  {
   "cell_type": "code",
   "execution_count": 100,
   "metadata": {},
   "outputs": [
    {
     "data": {
      "text/html": [
       "<div>\n",
       "<style scoped>\n",
       "    .dataframe tbody tr th:only-of-type {\n",
       "        vertical-align: middle;\n",
       "    }\n",
       "\n",
       "    .dataframe tbody tr th {\n",
       "        vertical-align: top;\n",
       "    }\n",
       "\n",
       "    .dataframe thead th {\n",
       "        text-align: right;\n",
       "    }\n",
       "</style>\n",
       "<table border=\"1\" class=\"dataframe\">\n",
       "  <thead>\n",
       "    <tr style=\"text-align: right;\">\n",
       "      <th></th>\n",
       "      <th>Terakhir</th>\n",
       "      <th>Pembukaan</th>\n",
       "      <th>Tertinggi</th>\n",
       "      <th>Terendah</th>\n",
       "      <th>ATR</th>\n",
       "      <th>RSI</th>\n",
       "      <th>Close IDR</th>\n",
       "    </tr>\n",
       "    <tr>\n",
       "      <th>Tanggal</th>\n",
       "      <th></th>\n",
       "      <th></th>\n",
       "      <th></th>\n",
       "      <th></th>\n",
       "      <th></th>\n",
       "      <th></th>\n",
       "      <th></th>\n",
       "    </tr>\n",
       "  </thead>\n",
       "  <tbody>\n",
       "    <tr>\n",
       "      <th>2016-12-23</th>\n",
       "      <td>576.13</td>\n",
       "      <td>573.42</td>\n",
       "      <td>583.95</td>\n",
       "      <td>571.82</td>\n",
       "      <td>0.000000</td>\n",
       "      <td>NaN</td>\n",
       "      <td>13449.0</td>\n",
       "    </tr>\n",
       "    <tr>\n",
       "      <th>2016-12-27</th>\n",
       "      <td>582.88</td>\n",
       "      <td>573.62</td>\n",
       "      <td>584.16</td>\n",
       "      <td>571.97</td>\n",
       "      <td>0.000000</td>\n",
       "      <td>NaN</td>\n",
       "      <td>13442.0</td>\n",
       "    </tr>\n",
       "    <tr>\n",
       "      <th>2016-12-28</th>\n",
       "      <td>594.30</td>\n",
       "      <td>587.15</td>\n",
       "      <td>596.84</td>\n",
       "      <td>585.79</td>\n",
       "      <td>0.000000</td>\n",
       "      <td>NaN</td>\n",
       "      <td>13429.0</td>\n",
       "    </tr>\n",
       "    <tr>\n",
       "      <th>2016-12-29</th>\n",
       "      <td>611.62</td>\n",
       "      <td>597.09</td>\n",
       "      <td>612.95</td>\n",
       "      <td>595.25</td>\n",
       "      <td>0.000000</td>\n",
       "      <td>NaN</td>\n",
       "      <td>13490.0</td>\n",
       "    </tr>\n",
       "    <tr>\n",
       "      <th>2016-12-30</th>\n",
       "      <td>613.80</td>\n",
       "      <td>612.84</td>\n",
       "      <td>618.86</td>\n",
       "      <td>610.75</td>\n",
       "      <td>0.000000</td>\n",
       "      <td>NaN</td>\n",
       "      <td>13466.0</td>\n",
       "    </tr>\n",
       "    <tr>\n",
       "      <th>2017-03-01</th>\n",
       "      <td>614.64</td>\n",
       "      <td>614.76</td>\n",
       "      <td>614.76</td>\n",
       "      <td>606.27</td>\n",
       "      <td>0.000000</td>\n",
       "      <td>NaN</td>\n",
       "      <td>13391.0</td>\n",
       "    </tr>\n",
       "    <tr>\n",
       "      <th>2017-05-01</th>\n",
       "      <td>615.20</td>\n",
       "      <td>619.69</td>\n",
       "      <td>621.51</td>\n",
       "      <td>612.63</td>\n",
       "      <td>0.000000</td>\n",
       "      <td>NaN</td>\n",
       "      <td>13322.0</td>\n",
       "    </tr>\n",
       "    <tr>\n",
       "      <th>2017-06-01</th>\n",
       "      <td>616.02</td>\n",
       "      <td>613.45</td>\n",
       "      <td>617.67</td>\n",
       "      <td>612.67</td>\n",
       "      <td>0.000000</td>\n",
       "      <td>NaN</td>\n",
       "      <td>13294.0</td>\n",
       "    </tr>\n",
       "    <tr>\n",
       "      <th>2017-09-01</th>\n",
       "      <td>607.59</td>\n",
       "      <td>615.29</td>\n",
       "      <td>618.40</td>\n",
       "      <td>605.66</td>\n",
       "      <td>0.000000</td>\n",
       "      <td>NaN</td>\n",
       "      <td>13321.0</td>\n",
       "    </tr>\n",
       "    <tr>\n",
       "      <th>2017-11-01</th>\n",
       "      <td>610.06</td>\n",
       "      <td>613.12</td>\n",
       "      <td>616.63</td>\n",
       "      <td>610.06</td>\n",
       "      <td>0.000000</td>\n",
       "      <td>NaN</td>\n",
       "      <td>13554.0</td>\n",
       "    </tr>\n",
       "    <tr>\n",
       "      <th>2017-12-01</th>\n",
       "      <td>609.81</td>\n",
       "      <td>611.89</td>\n",
       "      <td>614.67</td>\n",
       "      <td>609.81</td>\n",
       "      <td>0.000000</td>\n",
       "      <td>NaN</td>\n",
       "      <td>13541.0</td>\n",
       "    </tr>\n",
       "    <tr>\n",
       "      <th>2017-01-13</th>\n",
       "      <td>605.77</td>\n",
       "      <td>611.25</td>\n",
       "      <td>613.96</td>\n",
       "      <td>605.77</td>\n",
       "      <td>0.000000</td>\n",
       "      <td>72.279014</td>\n",
       "      <td>13258.0</td>\n",
       "    </tr>\n",
       "    <tr>\n",
       "      <th>2017-01-16</th>\n",
       "      <td>601.68</td>\n",
       "      <td>607.70</td>\n",
       "      <td>607.84</td>\n",
       "      <td>600.44</td>\n",
       "      <td>9.398571</td>\n",
       "      <td>68.092338</td>\n",
       "      <td>13313.0</td>\n",
       "    </tr>\n",
       "    <tr>\n",
       "      <th>2017-01-17</th>\n",
       "      <td>603.09</td>\n",
       "      <td>601.00</td>\n",
       "      <td>606.15</td>\n",
       "      <td>601.00</td>\n",
       "      <td>8.895714</td>\n",
       "      <td>65.481845</td>\n",
       "      <td>13349.0</td>\n",
       "    </tr>\n",
       "    <tr>\n",
       "      <th>2017-01-18</th>\n",
       "      <td>608.34</td>\n",
       "      <td>605.38</td>\n",
       "      <td>608.34</td>\n",
       "      <td>604.27</td>\n",
       "      <td>8.273571</td>\n",
       "      <td>61.878173</td>\n",
       "      <td>13296.0</td>\n",
       "    </tr>\n",
       "    <tr>\n",
       "      <th>2017-01-19</th>\n",
       "      <td>608.65</td>\n",
       "      <td>609.55</td>\n",
       "      <td>611.67</td>\n",
       "      <td>606.41</td>\n",
       "      <td>7.317143</td>\n",
       "      <td>46.471846</td>\n",
       "      <td>13370.0</td>\n",
       "    </tr>\n",
       "    <tr>\n",
       "      <th>2017-01-20</th>\n",
       "      <td>604.30</td>\n",
       "      <td>607.02</td>\n",
       "      <td>607.99</td>\n",
       "      <td>600.94</td>\n",
       "      <td>7.288571</td>\n",
       "      <td>39.267962</td>\n",
       "      <td>13378.0</td>\n",
       "    </tr>\n",
       "    <tr>\n",
       "      <th>2017-01-23</th>\n",
       "      <td>602.91</td>\n",
       "      <td>602.35</td>\n",
       "      <td>606.97</td>\n",
       "      <td>601.38</td>\n",
       "      <td>7.081429</td>\n",
       "      <td>36.911404</td>\n",
       "      <td>13406.0</td>\n",
       "    </tr>\n",
       "    <tr>\n",
       "      <th>2017-01-24</th>\n",
       "      <td>603.83</td>\n",
       "      <td>605.64</td>\n",
       "      <td>607.87</td>\n",
       "      <td>603.83</td>\n",
       "      <td>6.695000</td>\n",
       "      <td>30.557603</td>\n",
       "      <td>13345.0</td>\n",
       "    </tr>\n",
       "    <tr>\n",
       "      <th>2017-01-25</th>\n",
       "      <td>600.86</td>\n",
       "      <td>606.54</td>\n",
       "      <td>607.58</td>\n",
       "      <td>600.68</td>\n",
       "      <td>6.553571</td>\n",
       "      <td>31.718511</td>\n",
       "      <td>13342.0</td>\n",
       "    </tr>\n",
       "    <tr>\n",
       "      <th>2017-01-26</th>\n",
       "      <td>605.60</td>\n",
       "      <td>602.30</td>\n",
       "      <td>608.94</td>\n",
       "      <td>602.04</td>\n",
       "      <td>6.773571</td>\n",
       "      <td>37.923041</td>\n",
       "      <td>13316.0</td>\n",
       "    </tr>\n",
       "    <tr>\n",
       "      <th>2017-01-27</th>\n",
       "      <td>608.96</td>\n",
       "      <td>603.99</td>\n",
       "      <td>610.90</td>\n",
       "      <td>603.29</td>\n",
       "      <td>6.407143</td>\n",
       "      <td>51.799317</td>\n",
       "      <td>13387.0</td>\n",
       "    </tr>\n",
       "    <tr>\n",
       "      <th>2017-01-30</th>\n",
       "      <td>610.11</td>\n",
       "      <td>613.39</td>\n",
       "      <td>613.83</td>\n",
       "      <td>609.01</td>\n",
       "      <td>6.314286</td>\n",
       "      <td>48.295294</td>\n",
       "      <td>13326.0</td>\n",
       "    </tr>\n",
       "    <tr>\n",
       "      <th>2017-01-31</th>\n",
       "      <td>606.35</td>\n",
       "      <td>609.91</td>\n",
       "      <td>611.65</td>\n",
       "      <td>605.86</td>\n",
       "      <td>6.258571</td>\n",
       "      <td>45.117136</td>\n",
       "      <td>13338.0</td>\n",
       "    </tr>\n",
       "    <tr>\n",
       "      <th>2017-01-02</th>\n",
       "      <td>613.54</td>\n",
       "      <td>610.60</td>\n",
       "      <td>615.06</td>\n",
       "      <td>608.68</td>\n",
       "      <td>6.533571</td>\n",
       "      <td>54.150901</td>\n",
       "      <td>13512.0</td>\n",
       "    </tr>\n",
       "    <tr>\n",
       "      <th>2017-02-02</th>\n",
       "      <td>616.38</td>\n",
       "      <td>613.15</td>\n",
       "      <td>616.71</td>\n",
       "      <td>612.42</td>\n",
       "      <td>6.255000</td>\n",
       "      <td>62.131260</td>\n",
       "      <td>13360.0</td>\n",
       "    </tr>\n",
       "    <tr>\n",
       "      <th>2017-03-02</th>\n",
       "      <td>617.93</td>\n",
       "      <td>617.31</td>\n",
       "      <td>619.05</td>\n",
       "      <td>616.48</td>\n",
       "      <td>5.917143</td>\n",
       "      <td>69.725662</td>\n",
       "      <td>13392.0</td>\n",
       "    </tr>\n",
       "    <tr>\n",
       "      <th>2017-06-02</th>\n",
       "      <td>625.43</td>\n",
       "      <td>621.75</td>\n",
       "      <td>627.40</td>\n",
       "      <td>621.14</td>\n",
       "      <td>6.225714</td>\n",
       "      <td>73.625212</td>\n",
       "      <td>13288.0</td>\n",
       "    </tr>\n",
       "    <tr>\n",
       "      <th>2017-08-02</th>\n",
       "      <td>622.38</td>\n",
       "      <td>626.75</td>\n",
       "      <td>626.98</td>\n",
       "      <td>621.29</td>\n",
       "      <td>6.289286</td>\n",
       "      <td>63.910841</td>\n",
       "      <td>13317.0</td>\n",
       "    </tr>\n",
       "    <tr>\n",
       "      <th>2017-10-02</th>\n",
       "      <td>620.37</td>\n",
       "      <td>629.58</td>\n",
       "      <td>631.28</td>\n",
       "      <td>620.37</td>\n",
       "      <td>6.623571</td>\n",
       "      <td>65.567047</td>\n",
       "      <td>13465.0</td>\n",
       "    </tr>\n",
       "    <tr>\n",
       "      <th>2017-02-13</th>\n",
       "      <td>630.02</td>\n",
       "      <td>629.75</td>\n",
       "      <td>631.67</td>\n",
       "      <td>626.51</td>\n",
       "      <td>7.076429</td>\n",
       "      <td>70.205215</td>\n",
       "      <td>13335.0</td>\n",
       "    </tr>\n",
       "    <tr>\n",
       "      <th>2017-02-14</th>\n",
       "      <td>628.44</td>\n",
       "      <td>628.37</td>\n",
       "      <td>629.62</td>\n",
       "      <td>625.91</td>\n",
       "      <td>6.877143</td>\n",
       "      <td>71.743929</td>\n",
       "      <td>13323.0</td>\n",
       "    </tr>\n",
       "    <tr>\n",
       "      <th>2017-02-16</th>\n",
       "      <td>626.56</td>\n",
       "      <td>627.79</td>\n",
       "      <td>628.50</td>\n",
       "      <td>617.59</td>\n",
       "      <td>7.079286</td>\n",
       "      <td>67.305152</td>\n",
       "      <td>13316.0</td>\n",
       "    </tr>\n",
       "    <tr>\n",
       "      <th>2017-02-17</th>\n",
       "      <td>622.54</td>\n",
       "      <td>625.01</td>\n",
       "      <td>625.85</td>\n",
       "      <td>620.12</td>\n",
       "      <td>6.995714</td>\n",
       "      <td>61.091147</td>\n",
       "      <td>13321.0</td>\n",
       "    </tr>\n",
       "    <tr>\n",
       "      <th>2017-02-20</th>\n",
       "      <td>626.45</td>\n",
       "      <td>626.39</td>\n",
       "      <td>626.97</td>\n",
       "      <td>623.79</td>\n",
       "      <td>6.964286</td>\n",
       "      <td>62.769616</td>\n",
       "      <td>13350.0</td>\n",
       "    </tr>\n",
       "    <tr>\n",
       "      <th>2017-02-21</th>\n",
       "      <td>626.89</td>\n",
       "      <td>627.60</td>\n",
       "      <td>630.24</td>\n",
       "      <td>625.73</td>\n",
       "      <td>6.872857</td>\n",
       "      <td>66.930432</td>\n",
       "      <td>13347.0</td>\n",
       "    </tr>\n",
       "    <tr>\n",
       "      <th>2017-02-22</th>\n",
       "      <td>630.28</td>\n",
       "      <td>628.07</td>\n",
       "      <td>631.01</td>\n",
       "      <td>625.92</td>\n",
       "      <td>6.614286</td>\n",
       "      <td>64.720366</td>\n",
       "      <td>13358.0</td>\n",
       "    </tr>\n",
       "    <tr>\n",
       "      <th>2017-02-23</th>\n",
       "      <td>628.15</td>\n",
       "      <td>626.15</td>\n",
       "      <td>629.53</td>\n",
       "      <td>626.15</td>\n",
       "      <td>6.602857</td>\n",
       "      <td>60.480855</td>\n",
       "      <td>13338.0</td>\n",
       "    </tr>\n",
       "    <tr>\n",
       "      <th>2017-02-24</th>\n",
       "      <td>627.81</td>\n",
       "      <td>629.65</td>\n",
       "      <td>630.79</td>\n",
       "      <td>627.81</td>\n",
       "      <td>6.625000</td>\n",
       "      <td>58.991627</td>\n",
       "      <td>13325.0</td>\n",
       "    </tr>\n",
       "    <tr>\n",
       "      <th>2017-02-27</th>\n",
       "      <td>625.20</td>\n",
       "      <td>629.47</td>\n",
       "      <td>629.58</td>\n",
       "      <td>623.48</td>\n",
       "      <td>6.384286</td>\n",
       "      <td>49.770230</td>\n",
       "      <td>13324.0</td>\n",
       "    </tr>\n",
       "    <tr>\n",
       "      <th>2017-02-28</th>\n",
       "      <td>628.26</td>\n",
       "      <td>627.69</td>\n",
       "      <td>630.62</td>\n",
       "      <td>625.36</td>\n",
       "      <td>6.416429</td>\n",
       "      <td>50.531287</td>\n",
       "      <td>13339.0</td>\n",
       "    </tr>\n",
       "    <tr>\n",
       "      <th>2017-01-03</th>\n",
       "      <td>627.67</td>\n",
       "      <td>626.63</td>\n",
       "      <td>628.50</td>\n",
       "      <td>624.41</td>\n",
       "      <td>6.249286</td>\n",
       "      <td>55.741263</td>\n",
       "      <td>13506.0</td>\n",
       "    </tr>\n",
       "    <tr>\n",
       "      <th>2017-02-03</th>\n",
       "      <td>626.74</td>\n",
       "      <td>630.83</td>\n",
       "      <td>633.26</td>\n",
       "      <td>626.74</td>\n",
       "      <td>6.210000</td>\n",
       "      <td>48.958583</td>\n",
       "      <td>13346.0</td>\n",
       "    </tr>\n",
       "    <tr>\n",
       "      <th>2017-03-03</th>\n",
       "      <td>627.18</td>\n",
       "      <td>626.56</td>\n",
       "      <td>628.76</td>\n",
       "      <td>625.62</td>\n",
       "      <td>5.655000</td>\n",
       "      <td>59.736917</td>\n",
       "      <td>13373.0</td>\n",
       "    </tr>\n",
       "    <tr>\n",
       "      <th>2017-07-03</th>\n",
       "      <td>628.05</td>\n",
       "      <td>626.93</td>\n",
       "      <td>629.51</td>\n",
       "      <td>625.89</td>\n",
       "      <td>5.166429</td>\n",
       "      <td>49.207639</td>\n",
       "      <td>13298.0</td>\n",
       "    </tr>\n",
       "    <tr>\n",
       "      <th>2017-08-03</th>\n",
       "      <td>628.29</td>\n",
       "      <td>629.88</td>\n",
       "      <td>630.48</td>\n",
       "      <td>627.48</td>\n",
       "      <td>4.601429</td>\n",
       "      <td>53.765781</td>\n",
       "      <td>13317.0</td>\n",
       "    </tr>\n",
       "    <tr>\n",
       "      <th>2017-10-03</th>\n",
       "      <td>632.70</td>\n",
       "      <td>634.90</td>\n",
       "      <td>635.14</td>\n",
       "      <td>629.20</td>\n",
       "      <td>4.563571</td>\n",
       "      <td>66.066838</td>\n",
       "      <td>13531.0</td>\n",
       "    </tr>\n",
       "    <tr>\n",
       "      <th>2017-03-13</th>\n",
       "      <td>632.00</td>\n",
       "      <td>632.43</td>\n",
       "      <td>633.96</td>\n",
       "      <td>629.30</td>\n",
       "      <td>4.574286</td>\n",
       "      <td>62.962963</td>\n",
       "      <td>13346.0</td>\n",
       "    </tr>\n",
       "    <tr>\n",
       "      <th>2017-03-14</th>\n",
       "      <td>634.61</td>\n",
       "      <td>632.33</td>\n",
       "      <td>637.80</td>\n",
       "      <td>631.71</td>\n",
       "      <td>4.645714</td>\n",
       "      <td>61.436873</td>\n",
       "      <td>13372.0</td>\n",
       "    </tr>\n",
       "    <tr>\n",
       "      <th>2017-03-15</th>\n",
       "      <td>635.50</td>\n",
       "      <td>635.98</td>\n",
       "      <td>638.94</td>\n",
       "      <td>633.88</td>\n",
       "      <td>4.712143</td>\n",
       "      <td>70.774449</td>\n",
       "      <td>13390.0</td>\n",
       "    </tr>\n",
       "  </tbody>\n",
       "</table>\n",
       "</div>"
      ],
      "text/plain": [
       "            Terakhir  Pembukaan  Tertinggi  Terendah       ATR        RSI  \\\n",
       "Tanggal                                                                     \n",
       "2016-12-23    576.13     573.42     583.95    571.82  0.000000        NaN   \n",
       "2016-12-27    582.88     573.62     584.16    571.97  0.000000        NaN   \n",
       "2016-12-28    594.30     587.15     596.84    585.79  0.000000        NaN   \n",
       "2016-12-29    611.62     597.09     612.95    595.25  0.000000        NaN   \n",
       "2016-12-30    613.80     612.84     618.86    610.75  0.000000        NaN   \n",
       "2017-03-01    614.64     614.76     614.76    606.27  0.000000        NaN   \n",
       "2017-05-01    615.20     619.69     621.51    612.63  0.000000        NaN   \n",
       "2017-06-01    616.02     613.45     617.67    612.67  0.000000        NaN   \n",
       "2017-09-01    607.59     615.29     618.40    605.66  0.000000        NaN   \n",
       "2017-11-01    610.06     613.12     616.63    610.06  0.000000        NaN   \n",
       "2017-12-01    609.81     611.89     614.67    609.81  0.000000        NaN   \n",
       "2017-01-13    605.77     611.25     613.96    605.77  0.000000  72.279014   \n",
       "2017-01-16    601.68     607.70     607.84    600.44  9.398571  68.092338   \n",
       "2017-01-17    603.09     601.00     606.15    601.00  8.895714  65.481845   \n",
       "2017-01-18    608.34     605.38     608.34    604.27  8.273571  61.878173   \n",
       "2017-01-19    608.65     609.55     611.67    606.41  7.317143  46.471846   \n",
       "2017-01-20    604.30     607.02     607.99    600.94  7.288571  39.267962   \n",
       "2017-01-23    602.91     602.35     606.97    601.38  7.081429  36.911404   \n",
       "2017-01-24    603.83     605.64     607.87    603.83  6.695000  30.557603   \n",
       "2017-01-25    600.86     606.54     607.58    600.68  6.553571  31.718511   \n",
       "2017-01-26    605.60     602.30     608.94    602.04  6.773571  37.923041   \n",
       "2017-01-27    608.96     603.99     610.90    603.29  6.407143  51.799317   \n",
       "2017-01-30    610.11     613.39     613.83    609.01  6.314286  48.295294   \n",
       "2017-01-31    606.35     609.91     611.65    605.86  6.258571  45.117136   \n",
       "2017-01-02    613.54     610.60     615.06    608.68  6.533571  54.150901   \n",
       "2017-02-02    616.38     613.15     616.71    612.42  6.255000  62.131260   \n",
       "2017-03-02    617.93     617.31     619.05    616.48  5.917143  69.725662   \n",
       "2017-06-02    625.43     621.75     627.40    621.14  6.225714  73.625212   \n",
       "2017-08-02    622.38     626.75     626.98    621.29  6.289286  63.910841   \n",
       "2017-10-02    620.37     629.58     631.28    620.37  6.623571  65.567047   \n",
       "2017-02-13    630.02     629.75     631.67    626.51  7.076429  70.205215   \n",
       "2017-02-14    628.44     628.37     629.62    625.91  6.877143  71.743929   \n",
       "2017-02-16    626.56     627.79     628.50    617.59  7.079286  67.305152   \n",
       "2017-02-17    622.54     625.01     625.85    620.12  6.995714  61.091147   \n",
       "2017-02-20    626.45     626.39     626.97    623.79  6.964286  62.769616   \n",
       "2017-02-21    626.89     627.60     630.24    625.73  6.872857  66.930432   \n",
       "2017-02-22    630.28     628.07     631.01    625.92  6.614286  64.720366   \n",
       "2017-02-23    628.15     626.15     629.53    626.15  6.602857  60.480855   \n",
       "2017-02-24    627.81     629.65     630.79    627.81  6.625000  58.991627   \n",
       "2017-02-27    625.20     629.47     629.58    623.48  6.384286  49.770230   \n",
       "2017-02-28    628.26     627.69     630.62    625.36  6.416429  50.531287   \n",
       "2017-01-03    627.67     626.63     628.50    624.41  6.249286  55.741263   \n",
       "2017-02-03    626.74     630.83     633.26    626.74  6.210000  48.958583   \n",
       "2017-03-03    627.18     626.56     628.76    625.62  5.655000  59.736917   \n",
       "2017-07-03    628.05     626.93     629.51    625.89  5.166429  49.207639   \n",
       "2017-08-03    628.29     629.88     630.48    627.48  4.601429  53.765781   \n",
       "2017-10-03    632.70     634.90     635.14    629.20  4.563571  66.066838   \n",
       "2017-03-13    632.00     632.43     633.96    629.30  4.574286  62.962963   \n",
       "2017-03-14    634.61     632.33     637.80    631.71  4.645714  61.436873   \n",
       "2017-03-15    635.50     635.98     638.94    633.88  4.712143  70.774449   \n",
       "\n",
       "            Close IDR  \n",
       "Tanggal                \n",
       "2016-12-23    13449.0  \n",
       "2016-12-27    13442.0  \n",
       "2016-12-28    13429.0  \n",
       "2016-12-29    13490.0  \n",
       "2016-12-30    13466.0  \n",
       "2017-03-01    13391.0  \n",
       "2017-05-01    13322.0  \n",
       "2017-06-01    13294.0  \n",
       "2017-09-01    13321.0  \n",
       "2017-11-01    13554.0  \n",
       "2017-12-01    13541.0  \n",
       "2017-01-13    13258.0  \n",
       "2017-01-16    13313.0  \n",
       "2017-01-17    13349.0  \n",
       "2017-01-18    13296.0  \n",
       "2017-01-19    13370.0  \n",
       "2017-01-20    13378.0  \n",
       "2017-01-23    13406.0  \n",
       "2017-01-24    13345.0  \n",
       "2017-01-25    13342.0  \n",
       "2017-01-26    13316.0  \n",
       "2017-01-27    13387.0  \n",
       "2017-01-30    13326.0  \n",
       "2017-01-31    13338.0  \n",
       "2017-01-02    13512.0  \n",
       "2017-02-02    13360.0  \n",
       "2017-03-02    13392.0  \n",
       "2017-06-02    13288.0  \n",
       "2017-08-02    13317.0  \n",
       "2017-10-02    13465.0  \n",
       "2017-02-13    13335.0  \n",
       "2017-02-14    13323.0  \n",
       "2017-02-16    13316.0  \n",
       "2017-02-17    13321.0  \n",
       "2017-02-20    13350.0  \n",
       "2017-02-21    13347.0  \n",
       "2017-02-22    13358.0  \n",
       "2017-02-23    13338.0  \n",
       "2017-02-24    13325.0  \n",
       "2017-02-27    13324.0  \n",
       "2017-02-28    13339.0  \n",
       "2017-01-03    13506.0  \n",
       "2017-02-03    13346.0  \n",
       "2017-03-03    13373.0  \n",
       "2017-07-03    13298.0  \n",
       "2017-08-03    13317.0  \n",
       "2017-10-03    13531.0  \n",
       "2017-03-13    13346.0  \n",
       "2017-03-14    13372.0  \n",
       "2017-03-15    13390.0  "
      ]
     },
     "execution_count": 100,
     "metadata": {},
     "output_type": "execute_result"
    }
   ],
   "source": [
    "df.head(50)"
   ]
  },
  {
   "cell_type": "code",
   "execution_count": 101,
   "metadata": {},
   "outputs": [],
   "source": [
    "df['RSI'].fillna(0,inplace=True)"
   ]
  },
  {
   "cell_type": "code",
   "execution_count": 102,
   "metadata": {},
   "outputs": [
    {
     "data": {
      "text/html": [
       "<div>\n",
       "<style scoped>\n",
       "    .dataframe tbody tr th:only-of-type {\n",
       "        vertical-align: middle;\n",
       "    }\n",
       "\n",
       "    .dataframe tbody tr th {\n",
       "        vertical-align: top;\n",
       "    }\n",
       "\n",
       "    .dataframe thead th {\n",
       "        text-align: right;\n",
       "    }\n",
       "</style>\n",
       "<table border=\"1\" class=\"dataframe\">\n",
       "  <thead>\n",
       "    <tr style=\"text-align: right;\">\n",
       "      <th></th>\n",
       "      <th>Terakhir</th>\n",
       "      <th>Pembukaan</th>\n",
       "      <th>Tertinggi</th>\n",
       "      <th>Terendah</th>\n",
       "      <th>ATR</th>\n",
       "      <th>RSI</th>\n",
       "      <th>Close IDR</th>\n",
       "    </tr>\n",
       "    <tr>\n",
       "      <th>Tanggal</th>\n",
       "      <th></th>\n",
       "      <th></th>\n",
       "      <th></th>\n",
       "      <th></th>\n",
       "      <th></th>\n",
       "      <th></th>\n",
       "      <th></th>\n",
       "    </tr>\n",
       "  </thead>\n",
       "  <tbody>\n",
       "    <tr>\n",
       "      <th>2016-12-23</th>\n",
       "      <td>576.13</td>\n",
       "      <td>573.42</td>\n",
       "      <td>583.95</td>\n",
       "      <td>571.82</td>\n",
       "      <td>0.000000</td>\n",
       "      <td>0.000000</td>\n",
       "      <td>13449.000000</td>\n",
       "    </tr>\n",
       "    <tr>\n",
       "      <th>2016-12-27</th>\n",
       "      <td>582.88</td>\n",
       "      <td>573.62</td>\n",
       "      <td>584.16</td>\n",
       "      <td>571.97</td>\n",
       "      <td>0.000000</td>\n",
       "      <td>0.000000</td>\n",
       "      <td>13442.000000</td>\n",
       "    </tr>\n",
       "    <tr>\n",
       "      <th>2016-12-28</th>\n",
       "      <td>594.30</td>\n",
       "      <td>587.15</td>\n",
       "      <td>596.84</td>\n",
       "      <td>585.79</td>\n",
       "      <td>0.000000</td>\n",
       "      <td>0.000000</td>\n",
       "      <td>13429.000000</td>\n",
       "    </tr>\n",
       "    <tr>\n",
       "      <th>2016-12-29</th>\n",
       "      <td>611.62</td>\n",
       "      <td>597.09</td>\n",
       "      <td>612.95</td>\n",
       "      <td>595.25</td>\n",
       "      <td>0.000000</td>\n",
       "      <td>0.000000</td>\n",
       "      <td>13490.000000</td>\n",
       "    </tr>\n",
       "    <tr>\n",
       "      <th>2016-12-30</th>\n",
       "      <td>613.80</td>\n",
       "      <td>612.84</td>\n",
       "      <td>618.86</td>\n",
       "      <td>610.75</td>\n",
       "      <td>0.000000</td>\n",
       "      <td>0.000000</td>\n",
       "      <td>13466.000000</td>\n",
       "    </tr>\n",
       "    <tr>\n",
       "      <th>...</th>\n",
       "      <td>...</td>\n",
       "      <td>...</td>\n",
       "      <td>...</td>\n",
       "      <td>...</td>\n",
       "      <td>...</td>\n",
       "      <td>...</td>\n",
       "      <td>...</td>\n",
       "    </tr>\n",
       "    <tr>\n",
       "      <th>2022-12-26</th>\n",
       "      <td>1155.56</td>\n",
       "      <td>1148.94</td>\n",
       "      <td>1158.14</td>\n",
       "      <td>1148.94</td>\n",
       "      <td>18.990714</td>\n",
       "      <td>36.964322</td>\n",
       "      <td>15565.900391</td>\n",
       "    </tr>\n",
       "    <tr>\n",
       "      <th>2022-12-27</th>\n",
       "      <td>1150.40</td>\n",
       "      <td>1155.67</td>\n",
       "      <td>1160.17</td>\n",
       "      <td>1145.97</td>\n",
       "      <td>17.920000</td>\n",
       "      <td>44.128344</td>\n",
       "      <td>15607.000000</td>\n",
       "    </tr>\n",
       "    <tr>\n",
       "      <th>2022-12-28</th>\n",
       "      <td>1146.11</td>\n",
       "      <td>1150.40</td>\n",
       "      <td>1154.28</td>\n",
       "      <td>1140.89</td>\n",
       "      <td>16.990714</td>\n",
       "      <td>44.260700</td>\n",
       "      <td>15617.500000</td>\n",
       "    </tr>\n",
       "    <tr>\n",
       "      <th>2022-12-29</th>\n",
       "      <td>1146.98</td>\n",
       "      <td>1146.22</td>\n",
       "      <td>1147.60</td>\n",
       "      <td>1136.15</td>\n",
       "      <td>16.554286</td>\n",
       "      <td>47.341470</td>\n",
       "      <td>15789.000000</td>\n",
       "    </tr>\n",
       "    <tr>\n",
       "      <th>2022-12-30</th>\n",
       "      <td>1150.98</td>\n",
       "      <td>1147.04</td>\n",
       "      <td>1160.20</td>\n",
       "      <td>1147.04</td>\n",
       "      <td>16.212143</td>\n",
       "      <td>47.787086</td>\n",
       "      <td>15620.000000</td>\n",
       "    </tr>\n",
       "  </tbody>\n",
       "</table>\n",
       "<p>1301 rows × 7 columns</p>\n",
       "</div>"
      ],
      "text/plain": [
       "            Terakhir  Pembukaan  Tertinggi  Terendah        ATR        RSI  \\\n",
       "Tanggal                                                                      \n",
       "2016-12-23    576.13     573.42     583.95    571.82   0.000000   0.000000   \n",
       "2016-12-27    582.88     573.62     584.16    571.97   0.000000   0.000000   \n",
       "2016-12-28    594.30     587.15     596.84    585.79   0.000000   0.000000   \n",
       "2016-12-29    611.62     597.09     612.95    595.25   0.000000   0.000000   \n",
       "2016-12-30    613.80     612.84     618.86    610.75   0.000000   0.000000   \n",
       "...              ...        ...        ...       ...        ...        ...   \n",
       "2022-12-26   1155.56    1148.94    1158.14   1148.94  18.990714  36.964322   \n",
       "2022-12-27   1150.40    1155.67    1160.17   1145.97  17.920000  44.128344   \n",
       "2022-12-28   1146.11    1150.40    1154.28   1140.89  16.990714  44.260700   \n",
       "2022-12-29   1146.98    1146.22    1147.60   1136.15  16.554286  47.341470   \n",
       "2022-12-30   1150.98    1147.04    1160.20   1147.04  16.212143  47.787086   \n",
       "\n",
       "               Close IDR  \n",
       "Tanggal                   \n",
       "2016-12-23  13449.000000  \n",
       "2016-12-27  13442.000000  \n",
       "2016-12-28  13429.000000  \n",
       "2016-12-29  13490.000000  \n",
       "2016-12-30  13466.000000  \n",
       "...                  ...  \n",
       "2022-12-26  15565.900391  \n",
       "2022-12-27  15607.000000  \n",
       "2022-12-28  15617.500000  \n",
       "2022-12-29  15789.000000  \n",
       "2022-12-30  15620.000000  \n",
       "\n",
       "[1301 rows x 7 columns]"
      ]
     },
     "execution_count": 102,
     "metadata": {},
     "output_type": "execute_result"
    }
   ],
   "source": [
    "df"
   ]
  },
  {
   "cell_type": "code",
   "execution_count": 103,
   "metadata": {},
   "outputs": [],
   "source": [
    "confidence = pd.read_excel('ConsumerConfidence.xlsx')"
   ]
  },
  {
   "cell_type": "code",
   "execution_count": 104,
   "metadata": {},
   "outputs": [
    {
     "name": "stdout",
     "output_type": "stream",
     "text": [
      "<class 'pandas.core.frame.DataFrame'>\n",
      "RangeIndex: 72 entries, 0 to 71\n",
      "Data columns (total 3 columns):\n",
      " #   Column        Non-Null Count  Dtype         \n",
      "---  ------        --------------  -----         \n",
      " 0   Release Date  72 non-null     datetime64[ns]\n",
      " 1   Actual        72 non-null     float64       \n",
      " 2   Previous      72 non-null     float64       \n",
      "dtypes: datetime64[ns](1), float64(2)\n",
      "memory usage: 1.8 KB\n"
     ]
    }
   ],
   "source": [
    "confidence.info()"
   ]
  },
  {
   "cell_type": "code",
   "execution_count": 105,
   "metadata": {},
   "outputs": [],
   "source": [
    "confidence = confidence.rename(columns={'Release Date':'Tanggal','Actual':'Consumer Confidence'})"
   ]
  },
  {
   "cell_type": "code",
   "execution_count": 106,
   "metadata": {},
   "outputs": [],
   "source": [
    "confidence = confidence.set_index('Tanggal')"
   ]
  },
  {
   "cell_type": "code",
   "execution_count": 107,
   "metadata": {},
   "outputs": [],
   "source": [
    "confidence = confidence['Consumer Confidence']"
   ]
  },
  {
   "cell_type": "code",
   "execution_count": 108,
   "metadata": {},
   "outputs": [],
   "source": [
    "all_df = pd.merge(df, confidence, on='Tanggal', how='outer')\n"
   ]
  },
  {
   "cell_type": "code",
   "execution_count": 109,
   "metadata": {},
   "outputs": [
    {
     "data": {
      "text/plain": [
       "Terakhir                 32\n",
       "Pembukaan                32\n",
       "Tertinggi                32\n",
       "Terendah                 32\n",
       "ATR                      32\n",
       "RSI                      32\n",
       "Close IDR                35\n",
       "Consumer Confidence    1261\n",
       "dtype: int64"
      ]
     },
     "execution_count": 109,
     "metadata": {},
     "output_type": "execute_result"
    }
   ],
   "source": [
    "all_df.isnull().sum()"
   ]
  },
  {
   "cell_type": "code",
   "execution_count": 110,
   "metadata": {},
   "outputs": [],
   "source": [
    "all_df['Consumer Confidence']= all_df['Consumer Confidence'].fillna(method='ffill')"
   ]
  },
  {
   "cell_type": "code",
   "execution_count": 111,
   "metadata": {},
   "outputs": [
    {
     "data": {
      "text/plain": [
       "Terakhir               32\n",
       "Pembukaan              32\n",
       "Tertinggi              32\n",
       "Terendah               32\n",
       "ATR                    32\n",
       "RSI                    32\n",
       "Close IDR              35\n",
       "Consumer Confidence    78\n",
       "dtype: int64"
      ]
     },
     "execution_count": 111,
     "metadata": {},
     "output_type": "execute_result"
    }
   ],
   "source": [
    "all_df.isnull().sum()"
   ]
  },
  {
   "cell_type": "code",
   "execution_count": 112,
   "metadata": {},
   "outputs": [],
   "source": [
    "all_df.loc['2017-01-11':'2017-02-03','Consumer Confidence'].fillna(115.4,inplace= True)"
   ]
  },
  {
   "cell_type": "code",
   "execution_count": 113,
   "metadata": {},
   "outputs": [],
   "source": [
    "all_df.loc['2017-01-11':'2017-02-03','Consumer Confidence'] = 115.4"
   ]
  },
  {
   "cell_type": "code",
   "execution_count": 114,
   "metadata": {},
   "outputs": [],
   "source": [
    "all_df.loc['2016-12-23':'2017-01-03','Consumer Confidence'] = 115.9"
   ]
  },
  {
   "cell_type": "code",
   "execution_count": 115,
   "metadata": {},
   "outputs": [
    {
     "data": {
      "text/html": [
       "<div>\n",
       "<style scoped>\n",
       "    .dataframe tbody tr th:only-of-type {\n",
       "        vertical-align: middle;\n",
       "    }\n",
       "\n",
       "    .dataframe tbody tr th {\n",
       "        vertical-align: top;\n",
       "    }\n",
       "\n",
       "    .dataframe thead th {\n",
       "        text-align: right;\n",
       "    }\n",
       "</style>\n",
       "<table border=\"1\" class=\"dataframe\">\n",
       "  <thead>\n",
       "    <tr style=\"text-align: right;\">\n",
       "      <th></th>\n",
       "      <th>Terakhir</th>\n",
       "      <th>Pembukaan</th>\n",
       "      <th>Tertinggi</th>\n",
       "      <th>Terendah</th>\n",
       "      <th>ATR</th>\n",
       "      <th>RSI</th>\n",
       "      <th>Close IDR</th>\n",
       "      <th>Consumer Confidence</th>\n",
       "    </tr>\n",
       "    <tr>\n",
       "      <th>Tanggal</th>\n",
       "      <th></th>\n",
       "      <th></th>\n",
       "      <th></th>\n",
       "      <th></th>\n",
       "      <th></th>\n",
       "      <th></th>\n",
       "      <th></th>\n",
       "      <th></th>\n",
       "    </tr>\n",
       "  </thead>\n",
       "  <tbody>\n",
       "    <tr>\n",
       "      <th>2016-12-23</th>\n",
       "      <td>576.13</td>\n",
       "      <td>573.42</td>\n",
       "      <td>583.95</td>\n",
       "      <td>571.82</td>\n",
       "      <td>0.0</td>\n",
       "      <td>0.0</td>\n",
       "      <td>13449.0</td>\n",
       "      <td>115.9</td>\n",
       "    </tr>\n",
       "    <tr>\n",
       "      <th>2016-12-27</th>\n",
       "      <td>582.88</td>\n",
       "      <td>573.62</td>\n",
       "      <td>584.16</td>\n",
       "      <td>571.97</td>\n",
       "      <td>0.0</td>\n",
       "      <td>0.0</td>\n",
       "      <td>13442.0</td>\n",
       "      <td>115.9</td>\n",
       "    </tr>\n",
       "    <tr>\n",
       "      <th>2016-12-28</th>\n",
       "      <td>594.30</td>\n",
       "      <td>587.15</td>\n",
       "      <td>596.84</td>\n",
       "      <td>585.79</td>\n",
       "      <td>0.0</td>\n",
       "      <td>0.0</td>\n",
       "      <td>13429.0</td>\n",
       "      <td>115.9</td>\n",
       "    </tr>\n",
       "    <tr>\n",
       "      <th>2016-12-29</th>\n",
       "      <td>611.62</td>\n",
       "      <td>597.09</td>\n",
       "      <td>612.95</td>\n",
       "      <td>595.25</td>\n",
       "      <td>0.0</td>\n",
       "      <td>0.0</td>\n",
       "      <td>13490.0</td>\n",
       "      <td>115.9</td>\n",
       "    </tr>\n",
       "    <tr>\n",
       "      <th>2016-12-30</th>\n",
       "      <td>613.80</td>\n",
       "      <td>612.84</td>\n",
       "      <td>618.86</td>\n",
       "      <td>610.75</td>\n",
       "      <td>0.0</td>\n",
       "      <td>0.0</td>\n",
       "      <td>13466.0</td>\n",
       "      <td>115.9</td>\n",
       "    </tr>\n",
       "    <tr>\n",
       "      <th>...</th>\n",
       "      <td>...</td>\n",
       "      <td>...</td>\n",
       "      <td>...</td>\n",
       "      <td>...</td>\n",
       "      <td>...</td>\n",
       "      <td>...</td>\n",
       "      <td>...</td>\n",
       "      <td>...</td>\n",
       "    </tr>\n",
       "    <tr>\n",
       "      <th>2022-02-10</th>\n",
       "      <td>NaN</td>\n",
       "      <td>NaN</td>\n",
       "      <td>NaN</td>\n",
       "      <td>NaN</td>\n",
       "      <td>NaN</td>\n",
       "      <td>NaN</td>\n",
       "      <td>NaN</td>\n",
       "      <td>119.6</td>\n",
       "    </tr>\n",
       "    <tr>\n",
       "      <th>2022-06-08</th>\n",
       "      <td>NaN</td>\n",
       "      <td>NaN</td>\n",
       "      <td>NaN</td>\n",
       "      <td>NaN</td>\n",
       "      <td>NaN</td>\n",
       "      <td>NaN</td>\n",
       "      <td>NaN</td>\n",
       "      <td>128.9</td>\n",
       "    </tr>\n",
       "    <tr>\n",
       "      <th>2022-08-07</th>\n",
       "      <td>NaN</td>\n",
       "      <td>NaN</td>\n",
       "      <td>NaN</td>\n",
       "      <td>NaN</td>\n",
       "      <td>NaN</td>\n",
       "      <td>NaN</td>\n",
       "      <td>NaN</td>\n",
       "      <td>123.2</td>\n",
       "    </tr>\n",
       "    <tr>\n",
       "      <th>2022-09-07</th>\n",
       "      <td>NaN</td>\n",
       "      <td>NaN</td>\n",
       "      <td>NaN</td>\n",
       "      <td>NaN</td>\n",
       "      <td>NaN</td>\n",
       "      <td>NaN</td>\n",
       "      <td>NaN</td>\n",
       "      <td>124.7</td>\n",
       "    </tr>\n",
       "    <tr>\n",
       "      <th>2022-10-09</th>\n",
       "      <td>NaN</td>\n",
       "      <td>NaN</td>\n",
       "      <td>NaN</td>\n",
       "      <td>NaN</td>\n",
       "      <td>NaN</td>\n",
       "      <td>NaN</td>\n",
       "      <td>NaN</td>\n",
       "      <td>117.2</td>\n",
       "    </tr>\n",
       "  </tbody>\n",
       "</table>\n",
       "<p>1333 rows × 8 columns</p>\n",
       "</div>"
      ],
      "text/plain": [
       "            Terakhir  Pembukaan  Tertinggi  Terendah  ATR  RSI  Close IDR  \\\n",
       "Tanggal                                                                     \n",
       "2016-12-23    576.13     573.42     583.95    571.82  0.0  0.0    13449.0   \n",
       "2016-12-27    582.88     573.62     584.16    571.97  0.0  0.0    13442.0   \n",
       "2016-12-28    594.30     587.15     596.84    585.79  0.0  0.0    13429.0   \n",
       "2016-12-29    611.62     597.09     612.95    595.25  0.0  0.0    13490.0   \n",
       "2016-12-30    613.80     612.84     618.86    610.75  0.0  0.0    13466.0   \n",
       "...              ...        ...        ...       ...  ...  ...        ...   \n",
       "2022-02-10       NaN        NaN        NaN       NaN  NaN  NaN        NaN   \n",
       "2022-06-08       NaN        NaN        NaN       NaN  NaN  NaN        NaN   \n",
       "2022-08-07       NaN        NaN        NaN       NaN  NaN  NaN        NaN   \n",
       "2022-09-07       NaN        NaN        NaN       NaN  NaN  NaN        NaN   \n",
       "2022-10-09       NaN        NaN        NaN       NaN  NaN  NaN        NaN   \n",
       "\n",
       "            Consumer Confidence  \n",
       "Tanggal                          \n",
       "2016-12-23                115.9  \n",
       "2016-12-27                115.9  \n",
       "2016-12-28                115.9  \n",
       "2016-12-29                115.9  \n",
       "2016-12-30                115.9  \n",
       "...                         ...  \n",
       "2022-02-10                119.6  \n",
       "2022-06-08                128.9  \n",
       "2022-08-07                123.2  \n",
       "2022-09-07                124.7  \n",
       "2022-10-09                117.2  \n",
       "\n",
       "[1333 rows x 8 columns]"
      ]
     },
     "execution_count": 115,
     "metadata": {},
     "output_type": "execute_result"
    }
   ],
   "source": [
    "all_df"
   ]
  },
  {
   "cell_type": "code",
   "execution_count": null,
   "metadata": {},
   "outputs": [],
   "source": []
  },
  {
   "cell_type": "code",
   "execution_count": 116,
   "metadata": {},
   "outputs": [],
   "source": [
    "emas = pd.read_excel(\"Data-Historis-Emas-Berjangka.xlsx\")"
   ]
  },
  {
   "cell_type": "code",
   "execution_count": 117,
   "metadata": {},
   "outputs": [],
   "source": [
    "emas['Tanggal'] = pd.to_datetime(emas['Tanggal'])"
   ]
  },
  {
   "cell_type": "code",
   "execution_count": 118,
   "metadata": {},
   "outputs": [],
   "source": [
    "emas = emas.set_index('Tanggal')"
   ]
  },
  {
   "cell_type": "code",
   "execution_count": 119,
   "metadata": {},
   "outputs": [],
   "source": [
    "emas.sort_index(inplace= True)"
   ]
  },
  {
   "cell_type": "code",
   "execution_count": 120,
   "metadata": {},
   "outputs": [],
   "source": [
    "emas = emas.rename(columns={'Terakhir ':'Emas USD'})"
   ]
  },
  {
   "cell_type": "code",
   "execution_count": 121,
   "metadata": {},
   "outputs": [],
   "source": [
    "emas = emas['Emas USD']"
   ]
  },
  {
   "cell_type": "code",
   "execution_count": 122,
   "metadata": {},
   "outputs": [],
   "source": [
    "temp_df = pd.merge(all_df,emas,how='inner',left_index=True,right_index=True)"
   ]
  },
  {
   "cell_type": "code",
   "execution_count": 123,
   "metadata": {},
   "outputs": [],
   "source": [
    "rate = pd.read_excel(\"BI Rate.xlsx\")"
   ]
  },
  {
   "cell_type": "code",
   "execution_count": 124,
   "metadata": {},
   "outputs": [
    {
     "data": {
      "text/html": [
       "<div>\n",
       "<style scoped>\n",
       "    .dataframe tbody tr th:only-of-type {\n",
       "        vertical-align: middle;\n",
       "    }\n",
       "\n",
       "    .dataframe tbody tr th {\n",
       "        vertical-align: top;\n",
       "    }\n",
       "\n",
       "    .dataframe thead th {\n",
       "        text-align: right;\n",
       "    }\n",
       "</style>\n",
       "<table border=\"1\" class=\"dataframe\">\n",
       "  <thead>\n",
       "    <tr style=\"text-align: right;\">\n",
       "      <th></th>\n",
       "      <th>Tanggal</th>\n",
       "      <th>BI Rate</th>\n",
       "      <th>Inflasi</th>\n",
       "    </tr>\n",
       "  </thead>\n",
       "  <tbody>\n",
       "    <tr>\n",
       "      <th>0</th>\n",
       "      <td>23/12/2016</td>\n",
       "      <td>4.75</td>\n",
       "      <td>3.02</td>\n",
       "    </tr>\n",
       "    <tr>\n",
       "      <th>1</th>\n",
       "      <td>27/12/2016</td>\n",
       "      <td>4.75</td>\n",
       "      <td>3.02</td>\n",
       "    </tr>\n",
       "    <tr>\n",
       "      <th>2</th>\n",
       "      <td>28/12/2016</td>\n",
       "      <td>4.75</td>\n",
       "      <td>3.02</td>\n",
       "    </tr>\n",
       "    <tr>\n",
       "      <th>3</th>\n",
       "      <td>29/12/2016</td>\n",
       "      <td>4.75</td>\n",
       "      <td>3.02</td>\n",
       "    </tr>\n",
       "    <tr>\n",
       "      <th>4</th>\n",
       "      <td>30/12/2016</td>\n",
       "      <td>4.75</td>\n",
       "      <td>3.02</td>\n",
       "    </tr>\n",
       "    <tr>\n",
       "      <th>...</th>\n",
       "      <td>...</td>\n",
       "      <td>...</td>\n",
       "      <td>...</td>\n",
       "    </tr>\n",
       "    <tr>\n",
       "      <th>1550</th>\n",
       "      <td>26/12/2022</td>\n",
       "      <td>5.50</td>\n",
       "      <td>5.51</td>\n",
       "    </tr>\n",
       "    <tr>\n",
       "      <th>1551</th>\n",
       "      <td>27/12/2022</td>\n",
       "      <td>5.50</td>\n",
       "      <td>5.51</td>\n",
       "    </tr>\n",
       "    <tr>\n",
       "      <th>1552</th>\n",
       "      <td>28/12/2022</td>\n",
       "      <td>5.50</td>\n",
       "      <td>5.51</td>\n",
       "    </tr>\n",
       "    <tr>\n",
       "      <th>1553</th>\n",
       "      <td>29/12/2022</td>\n",
       "      <td>5.50</td>\n",
       "      <td>5.51</td>\n",
       "    </tr>\n",
       "    <tr>\n",
       "      <th>1554</th>\n",
       "      <td>30/12/2022</td>\n",
       "      <td>5.50</td>\n",
       "      <td>5.51</td>\n",
       "    </tr>\n",
       "  </tbody>\n",
       "</table>\n",
       "<p>1555 rows × 3 columns</p>\n",
       "</div>"
      ],
      "text/plain": [
       "         Tanggal  BI Rate  Inflasi\n",
       "0     23/12/2016     4.75     3.02\n",
       "1     27/12/2016     4.75     3.02\n",
       "2     28/12/2016     4.75     3.02\n",
       "3     29/12/2016     4.75     3.02\n",
       "4     30/12/2016     4.75     3.02\n",
       "...          ...      ...      ...\n",
       "1550  26/12/2022     5.50     5.51\n",
       "1551  27/12/2022     5.50     5.51\n",
       "1552  28/12/2022     5.50     5.51\n",
       "1553  29/12/2022     5.50     5.51\n",
       "1554  30/12/2022     5.50     5.51\n",
       "\n",
       "[1555 rows x 3 columns]"
      ]
     },
     "execution_count": 124,
     "metadata": {},
     "output_type": "execute_result"
    }
   ],
   "source": [
    "rate"
   ]
  },
  {
   "cell_type": "code",
   "execution_count": 125,
   "metadata": {},
   "outputs": [],
   "source": [
    "rate['Tanggal']= pd.to_datetime(rate['Tanggal'])"
   ]
  },
  {
   "cell_type": "code",
   "execution_count": 126,
   "metadata": {},
   "outputs": [],
   "source": [
    "rate = rate.set_index(\"Tanggal\")"
   ]
  },
  {
   "cell_type": "code",
   "execution_count": 127,
   "metadata": {},
   "outputs": [],
   "source": [
    "temp_df = pd.merge(temp_df,rate,how='inner',left_index=True,right_index=True)"
   ]
  },
  {
   "cell_type": "code",
   "execution_count": 128,
   "metadata": {},
   "outputs": [],
   "source": [
    "all_df = temp_df.copy()"
   ]
  },
  {
   "cell_type": "code",
   "execution_count": 129,
   "metadata": {},
   "outputs": [],
   "source": [
    "all_df = all_df.dropna()"
   ]
  },
  {
   "cell_type": "code",
   "execution_count": 69,
   "metadata": {},
   "outputs": [],
   "source": [
    "#all_df.to_csv('dataset TA.csv',index=True)"
   ]
  },
  {
   "cell_type": "code",
   "execution_count": 8,
   "metadata": {},
   "outputs": [],
   "source": [
    "#all_df = pd.read_csv(\"dataset TA.csv\",index_col='Tanggal')"
   ]
  },
  {
   "cell_type": "code",
   "execution_count": 130,
   "metadata": {},
   "outputs": [],
   "source": [
    "import pywt\n",
    "\n",
    "# Extract the closing stock price as a 1D array\n",
    "closing_price = all_df['Terakhir'].values\n",
    "\n",
    "# Perform wavelet decomposition\n",
    "coeffs = pywt.wavedec(closing_price, wavelet='db4')\n",
    "\n",
    "# Set a threshold to remove noise (e.g., using universal thresholding)\n",
    "threshold = np.sqrt(2 * np.log(len(closing_price)))\n",
    "coeffs_denoised = [pywt.threshold(c, threshold) for c in coeffs]\n",
    "\n",
    "# Perform wavelet reconstruction\n",
    "denoised_data = pywt.waverec(coeffs_denoised, wavelet='db4')\n",
    "\n",
    "# Update the 'Close' column with the denoised data\n",
    "all_df['Terakhir'] = denoised_data[:-1]  # Remove the last element from denoised_data\n"
   ]
  },
  {
   "cell_type": "code",
   "execution_count": 51,
   "metadata": {},
   "outputs": [],
   "source": [
    "statistik = all_df.describe()\n",
    "statistik.to_csv('statistik.csv',index=True)"
   ]
  },
  {
   "cell_type": "code",
   "execution_count": 52,
   "metadata": {},
   "outputs": [
    {
     "data": {
      "text/html": [
       "<div>\n",
       "<style scoped>\n",
       "    .dataframe tbody tr th:only-of-type {\n",
       "        vertical-align: middle;\n",
       "    }\n",
       "\n",
       "    .dataframe tbody tr th {\n",
       "        vertical-align: top;\n",
       "    }\n",
       "\n",
       "    .dataframe thead th {\n",
       "        text-align: right;\n",
       "    }\n",
       "</style>\n",
       "<table border=\"1\" class=\"dataframe\">\n",
       "  <thead>\n",
       "    <tr style=\"text-align: right;\">\n",
       "      <th></th>\n",
       "      <th>Terakhir</th>\n",
       "      <th>Pembukaan</th>\n",
       "      <th>Close IDR</th>\n",
       "      <th>Consumer Confidence</th>\n",
       "      <th>Emas USD</th>\n",
       "      <th>BI Rate</th>\n",
       "    </tr>\n",
       "  </thead>\n",
       "  <tbody>\n",
       "    <tr>\n",
       "      <th>count</th>\n",
       "      <td>1241.000000</td>\n",
       "      <td>1241.000000</td>\n",
       "      <td>1241.000000</td>\n",
       "      <td>1241.000000</td>\n",
       "      <td>1241.000000</td>\n",
       "      <td>1241.000000</td>\n",
       "    </tr>\n",
       "    <tr>\n",
       "      <th>mean</th>\n",
       "      <td>936.735608</td>\n",
       "      <td>937.285689</td>\n",
       "      <td>14296.408617</td>\n",
       "      <td>107.478807</td>\n",
       "      <td>1566.812168</td>\n",
       "      <td>4.504835</td>\n",
       "    </tr>\n",
       "    <tr>\n",
       "      <th>std</th>\n",
       "      <td>141.829755</td>\n",
       "      <td>142.196597</td>\n",
       "      <td>594.953883</td>\n",
       "      <td>25.731692</td>\n",
       "      <td>257.061895</td>\n",
       "      <td>0.862922</td>\n",
       "    </tr>\n",
       "    <tr>\n",
       "      <th>min</th>\n",
       "      <td>576.130000</td>\n",
       "      <td>573.420000</td>\n",
       "      <td>13197.000000</td>\n",
       "      <td>2.500000</td>\n",
       "      <td>1133.600000</td>\n",
       "      <td>3.500000</td>\n",
       "    </tr>\n",
       "    <tr>\n",
       "      <th>25%</th>\n",
       "      <td>824.460000</td>\n",
       "      <td>823.950000</td>\n",
       "      <td>13976.613281</td>\n",
       "      <td>104.400000</td>\n",
       "      <td>1297.200000</td>\n",
       "      <td>3.500000</td>\n",
       "    </tr>\n",
       "    <tr>\n",
       "      <th>50%</th>\n",
       "      <td>945.100000</td>\n",
       "      <td>946.210000</td>\n",
       "      <td>14276.000000</td>\n",
       "      <td>115.900000</td>\n",
       "      <td>1587.900000</td>\n",
       "      <td>4.250000</td>\n",
       "    </tr>\n",
       "    <tr>\n",
       "      <th>75%</th>\n",
       "      <td>1035.980000</td>\n",
       "      <td>1039.070000</td>\n",
       "      <td>14584.200195</td>\n",
       "      <td>126.400000</td>\n",
       "      <td>1800.100000</td>\n",
       "      <td>5.250000</td>\n",
       "    </tr>\n",
       "    <tr>\n",
       "      <th>max</th>\n",
       "      <td>1242.190000</td>\n",
       "      <td>1244.280000</td>\n",
       "      <td>16504.800781</td>\n",
       "      <td>128.200000</td>\n",
       "      <td>2069.400000</td>\n",
       "      <td>6.000000</td>\n",
       "    </tr>\n",
       "  </tbody>\n",
       "</table>\n",
       "</div>"
      ],
      "text/plain": [
       "          Terakhir    Pembukaan     Close IDR  Consumer Confidence  \\\n",
       "count  1241.000000  1241.000000   1241.000000          1241.000000   \n",
       "mean    936.735608   937.285689  14296.408617           107.478807   \n",
       "std     141.829755   142.196597    594.953883            25.731692   \n",
       "min     576.130000   573.420000  13197.000000             2.500000   \n",
       "25%     824.460000   823.950000  13976.613281           104.400000   \n",
       "50%     945.100000   946.210000  14276.000000           115.900000   \n",
       "75%    1035.980000  1039.070000  14584.200195           126.400000   \n",
       "max    1242.190000  1244.280000  16504.800781           128.200000   \n",
       "\n",
       "          Emas USD      BI Rate  \n",
       "count  1241.000000  1241.000000  \n",
       "mean   1566.812168     4.504835  \n",
       "std     257.061895     0.862922  \n",
       "min    1133.600000     3.500000  \n",
       "25%    1297.200000     3.500000  \n",
       "50%    1587.900000     4.250000  \n",
       "75%    1800.100000     5.250000  \n",
       "max    2069.400000     6.000000  "
      ]
     },
     "execution_count": 52,
     "metadata": {},
     "output_type": "execute_result"
    }
   ],
   "source": [
    "statistik"
   ]
  },
  {
   "cell_type": "code",
   "execution_count": 69,
   "metadata": {},
   "outputs": [
    {
     "data": {
      "text/html": [
       "<div>\n",
       "<style scoped>\n",
       "    .dataframe tbody tr th:only-of-type {\n",
       "        vertical-align: middle;\n",
       "    }\n",
       "\n",
       "    .dataframe tbody tr th {\n",
       "        vertical-align: top;\n",
       "    }\n",
       "\n",
       "    .dataframe thead th {\n",
       "        text-align: right;\n",
       "    }\n",
       "</style>\n",
       "<table border=\"1\" class=\"dataframe\">\n",
       "  <thead>\n",
       "    <tr style=\"text-align: right;\">\n",
       "      <th></th>\n",
       "      <th>Terakhir</th>\n",
       "      <th>Pembukaan</th>\n",
       "      <th>Tertinggi</th>\n",
       "      <th>Terendah</th>\n",
       "      <th>ATR</th>\n",
       "      <th>RSI</th>\n",
       "      <th>Close IDR</th>\n",
       "      <th>Consumer Confidence</th>\n",
       "      <th>Emas USD</th>\n",
       "      <th>BI Rate</th>\n",
       "      <th>Inflasi</th>\n",
       "    </tr>\n",
       "    <tr>\n",
       "      <th>Tanggal</th>\n",
       "      <th></th>\n",
       "      <th></th>\n",
       "      <th></th>\n",
       "      <th></th>\n",
       "      <th></th>\n",
       "      <th></th>\n",
       "      <th></th>\n",
       "      <th></th>\n",
       "      <th></th>\n",
       "      <th></th>\n",
       "      <th></th>\n",
       "    </tr>\n",
       "  </thead>\n",
       "  <tbody>\n",
       "    <tr>\n",
       "      <th>2016-12-23</th>\n",
       "      <td>580.896716</td>\n",
       "      <td>573.42</td>\n",
       "      <td>583.95</td>\n",
       "      <td>571.82</td>\n",
       "      <td>0.000000</td>\n",
       "      <td>0.000000</td>\n",
       "      <td>13449.0</td>\n",
       "      <td>115.9</td>\n",
       "      <td>1133.6</td>\n",
       "      <td>4.75</td>\n",
       "      <td>3.02</td>\n",
       "    </tr>\n",
       "    <tr>\n",
       "      <th>2016-12-27</th>\n",
       "      <td>587.138957</td>\n",
       "      <td>573.62</td>\n",
       "      <td>584.16</td>\n",
       "      <td>571.97</td>\n",
       "      <td>0.000000</td>\n",
       "      <td>0.000000</td>\n",
       "      <td>13442.0</td>\n",
       "      <td>115.9</td>\n",
       "      <td>1138.8</td>\n",
       "      <td>4.75</td>\n",
       "      <td>3.02</td>\n",
       "    </tr>\n",
       "    <tr>\n",
       "      <th>2016-12-28</th>\n",
       "      <td>596.728452</td>\n",
       "      <td>587.15</td>\n",
       "      <td>596.84</td>\n",
       "      <td>585.79</td>\n",
       "      <td>0.000000</td>\n",
       "      <td>0.000000</td>\n",
       "      <td>13429.0</td>\n",
       "      <td>115.9</td>\n",
       "      <td>1140.9</td>\n",
       "      <td>4.75</td>\n",
       "      <td>3.02</td>\n",
       "    </tr>\n",
       "    <tr>\n",
       "      <th>2016-12-29</th>\n",
       "      <td>610.422841</td>\n",
       "      <td>597.09</td>\n",
       "      <td>612.95</td>\n",
       "      <td>595.25</td>\n",
       "      <td>0.000000</td>\n",
       "      <td>0.000000</td>\n",
       "      <td>13490.0</td>\n",
       "      <td>115.9</td>\n",
       "      <td>1158.1</td>\n",
       "      <td>4.75</td>\n",
       "      <td>3.02</td>\n",
       "    </tr>\n",
       "    <tr>\n",
       "      <th>2016-12-30</th>\n",
       "      <td>612.748298</td>\n",
       "      <td>612.84</td>\n",
       "      <td>618.86</td>\n",
       "      <td>610.75</td>\n",
       "      <td>0.000000</td>\n",
       "      <td>0.000000</td>\n",
       "      <td>13466.0</td>\n",
       "      <td>115.9</td>\n",
       "      <td>1151.7</td>\n",
       "      <td>4.75</td>\n",
       "      <td>3.02</td>\n",
       "    </tr>\n",
       "    <tr>\n",
       "      <th>2017-01-13</th>\n",
       "      <td>601.897127</td>\n",
       "      <td>611.25</td>\n",
       "      <td>613.96</td>\n",
       "      <td>605.77</td>\n",
       "      <td>0.000000</td>\n",
       "      <td>72.279014</td>\n",
       "      <td>13258.0</td>\n",
       "      <td>115.4</td>\n",
       "      <td>1196.2</td>\n",
       "      <td>4.75</td>\n",
       "      <td>3.49</td>\n",
       "    </tr>\n",
       "    <tr>\n",
       "      <th>2017-01-16</th>\n",
       "      <td>600.560561</td>\n",
       "      <td>607.70</td>\n",
       "      <td>607.84</td>\n",
       "      <td>600.44</td>\n",
       "      <td>9.398571</td>\n",
       "      <td>68.092338</td>\n",
       "      <td>13313.0</td>\n",
       "      <td>115.4</td>\n",
       "      <td>1212.9</td>\n",
       "      <td>4.75</td>\n",
       "      <td>3.49</td>\n",
       "    </tr>\n",
       "    <tr>\n",
       "      <th>2017-01-17</th>\n",
       "      <td>605.734054</td>\n",
       "      <td>601.00</td>\n",
       "      <td>606.15</td>\n",
       "      <td>601.00</td>\n",
       "      <td>8.895714</td>\n",
       "      <td>65.481845</td>\n",
       "      <td>13349.0</td>\n",
       "      <td>115.4</td>\n",
       "      <td>1214.3</td>\n",
       "      <td>4.75</td>\n",
       "      <td>3.49</td>\n",
       "    </tr>\n",
       "    <tr>\n",
       "      <th>2017-01-18</th>\n",
       "      <td>606.668750</td>\n",
       "      <td>605.38</td>\n",
       "      <td>608.34</td>\n",
       "      <td>604.27</td>\n",
       "      <td>8.273571</td>\n",
       "      <td>61.878173</td>\n",
       "      <td>13296.0</td>\n",
       "      <td>115.4</td>\n",
       "      <td>1212.1</td>\n",
       "      <td>4.75</td>\n",
       "      <td>3.49</td>\n",
       "    </tr>\n",
       "    <tr>\n",
       "      <th>2017-01-19</th>\n",
       "      <td>606.831742</td>\n",
       "      <td>609.55</td>\n",
       "      <td>611.67</td>\n",
       "      <td>606.41</td>\n",
       "      <td>7.317143</td>\n",
       "      <td>46.471846</td>\n",
       "      <td>13370.0</td>\n",
       "      <td>115.4</td>\n",
       "      <td>1201.5</td>\n",
       "      <td>4.75</td>\n",
       "      <td>3.49</td>\n",
       "    </tr>\n",
       "    <tr>\n",
       "      <th>2017-01-20</th>\n",
       "      <td>606.874434</td>\n",
       "      <td>607.02</td>\n",
       "      <td>607.99</td>\n",
       "      <td>600.94</td>\n",
       "      <td>7.288571</td>\n",
       "      <td>39.267962</td>\n",
       "      <td>13378.0</td>\n",
       "      <td>115.4</td>\n",
       "      <td>1204.9</td>\n",
       "      <td>4.75</td>\n",
       "      <td>3.49</td>\n",
       "    </tr>\n",
       "    <tr>\n",
       "      <th>2017-01-23</th>\n",
       "      <td>605.685481</td>\n",
       "      <td>602.35</td>\n",
       "      <td>606.97</td>\n",
       "      <td>601.38</td>\n",
       "      <td>7.081429</td>\n",
       "      <td>36.911404</td>\n",
       "      <td>13406.0</td>\n",
       "      <td>115.4</td>\n",
       "      <td>1215.6</td>\n",
       "      <td>4.75</td>\n",
       "      <td>3.49</td>\n",
       "    </tr>\n",
       "    <tr>\n",
       "      <th>2017-01-24</th>\n",
       "      <td>604.842777</td>\n",
       "      <td>605.64</td>\n",
       "      <td>607.87</td>\n",
       "      <td>603.83</td>\n",
       "      <td>6.695000</td>\n",
       "      <td>30.557603</td>\n",
       "      <td>13345.0</td>\n",
       "      <td>115.4</td>\n",
       "      <td>1210.8</td>\n",
       "      <td>4.75</td>\n",
       "      <td>3.49</td>\n",
       "    </tr>\n",
       "    <tr>\n",
       "      <th>2017-01-25</th>\n",
       "      <td>604.217260</td>\n",
       "      <td>606.54</td>\n",
       "      <td>607.58</td>\n",
       "      <td>600.68</td>\n",
       "      <td>6.553571</td>\n",
       "      <td>31.718511</td>\n",
       "      <td>13342.0</td>\n",
       "      <td>115.4</td>\n",
       "      <td>1197.8</td>\n",
       "      <td>4.75</td>\n",
       "      <td>3.49</td>\n",
       "    </tr>\n",
       "    <tr>\n",
       "      <th>2017-01-26</th>\n",
       "      <td>604.873348</td>\n",
       "      <td>602.30</td>\n",
       "      <td>608.94</td>\n",
       "      <td>602.04</td>\n",
       "      <td>6.773571</td>\n",
       "      <td>37.923041</td>\n",
       "      <td>13316.0</td>\n",
       "      <td>115.4</td>\n",
       "      <td>1189.8</td>\n",
       "      <td>4.75</td>\n",
       "      <td>3.49</td>\n",
       "    </tr>\n",
       "    <tr>\n",
       "      <th>2017-01-27</th>\n",
       "      <td>607.238844</td>\n",
       "      <td>603.99</td>\n",
       "      <td>610.90</td>\n",
       "      <td>603.29</td>\n",
       "      <td>6.407143</td>\n",
       "      <td>51.799317</td>\n",
       "      <td>13387.0</td>\n",
       "      <td>115.4</td>\n",
       "      <td>1191.1</td>\n",
       "      <td>4.75</td>\n",
       "      <td>3.49</td>\n",
       "    </tr>\n",
       "    <tr>\n",
       "      <th>2017-01-30</th>\n",
       "      <td>608.728498</td>\n",
       "      <td>613.39</td>\n",
       "      <td>613.83</td>\n",
       "      <td>609.01</td>\n",
       "      <td>6.314286</td>\n",
       "      <td>48.295294</td>\n",
       "      <td>13326.0</td>\n",
       "      <td>115.4</td>\n",
       "      <td>1196.0</td>\n",
       "      <td>4.75</td>\n",
       "      <td>3.49</td>\n",
       "    </tr>\n",
       "    <tr>\n",
       "      <th>2017-01-31</th>\n",
       "      <td>609.613081</td>\n",
       "      <td>609.91</td>\n",
       "      <td>611.65</td>\n",
       "      <td>605.86</td>\n",
       "      <td>6.258571</td>\n",
       "      <td>45.117136</td>\n",
       "      <td>13338.0</td>\n",
       "      <td>115.4</td>\n",
       "      <td>1211.4</td>\n",
       "      <td>4.75</td>\n",
       "      <td>3.49</td>\n",
       "    </tr>\n",
       "    <tr>\n",
       "      <th>2017-01-02</th>\n",
       "      <td>614.648083</td>\n",
       "      <td>610.60</td>\n",
       "      <td>615.06</td>\n",
       "      <td>608.68</td>\n",
       "      <td>6.533571</td>\n",
       "      <td>54.150901</td>\n",
       "      <td>13512.0</td>\n",
       "      <td>115.9</td>\n",
       "      <td>1208.3</td>\n",
       "      <td>4.75</td>\n",
       "      <td>3.83</td>\n",
       "    </tr>\n",
       "    <tr>\n",
       "      <th>2017-02-02</th>\n",
       "      <td>623.771333</td>\n",
       "      <td>613.15</td>\n",
       "      <td>616.71</td>\n",
       "      <td>612.42</td>\n",
       "      <td>6.255000</td>\n",
       "      <td>62.131260</td>\n",
       "      <td>13360.0</td>\n",
       "      <td>115.4</td>\n",
       "      <td>1219.4</td>\n",
       "      <td>4.75</td>\n",
       "      <td>3.83</td>\n",
       "    </tr>\n",
       "  </tbody>\n",
       "</table>\n",
       "</div>"
      ],
      "text/plain": [
       "              Terakhir  Pembukaan  Tertinggi  Terendah       ATR        RSI  \\\n",
       "Tanggal                                                                       \n",
       "2016-12-23  580.896716     573.42     583.95    571.82  0.000000   0.000000   \n",
       "2016-12-27  587.138957     573.62     584.16    571.97  0.000000   0.000000   \n",
       "2016-12-28  596.728452     587.15     596.84    585.79  0.000000   0.000000   \n",
       "2016-12-29  610.422841     597.09     612.95    595.25  0.000000   0.000000   \n",
       "2016-12-30  612.748298     612.84     618.86    610.75  0.000000   0.000000   \n",
       "2017-01-13  601.897127     611.25     613.96    605.77  0.000000  72.279014   \n",
       "2017-01-16  600.560561     607.70     607.84    600.44  9.398571  68.092338   \n",
       "2017-01-17  605.734054     601.00     606.15    601.00  8.895714  65.481845   \n",
       "2017-01-18  606.668750     605.38     608.34    604.27  8.273571  61.878173   \n",
       "2017-01-19  606.831742     609.55     611.67    606.41  7.317143  46.471846   \n",
       "2017-01-20  606.874434     607.02     607.99    600.94  7.288571  39.267962   \n",
       "2017-01-23  605.685481     602.35     606.97    601.38  7.081429  36.911404   \n",
       "2017-01-24  604.842777     605.64     607.87    603.83  6.695000  30.557603   \n",
       "2017-01-25  604.217260     606.54     607.58    600.68  6.553571  31.718511   \n",
       "2017-01-26  604.873348     602.30     608.94    602.04  6.773571  37.923041   \n",
       "2017-01-27  607.238844     603.99     610.90    603.29  6.407143  51.799317   \n",
       "2017-01-30  608.728498     613.39     613.83    609.01  6.314286  48.295294   \n",
       "2017-01-31  609.613081     609.91     611.65    605.86  6.258571  45.117136   \n",
       "2017-01-02  614.648083     610.60     615.06    608.68  6.533571  54.150901   \n",
       "2017-02-02  623.771333     613.15     616.71    612.42  6.255000  62.131260   \n",
       "\n",
       "            Close IDR  Consumer Confidence  Emas USD  BI Rate  Inflasi  \n",
       "Tanggal                                                                 \n",
       "2016-12-23    13449.0                115.9    1133.6     4.75     3.02  \n",
       "2016-12-27    13442.0                115.9    1138.8     4.75     3.02  \n",
       "2016-12-28    13429.0                115.9    1140.9     4.75     3.02  \n",
       "2016-12-29    13490.0                115.9    1158.1     4.75     3.02  \n",
       "2016-12-30    13466.0                115.9    1151.7     4.75     3.02  \n",
       "2017-01-13    13258.0                115.4    1196.2     4.75     3.49  \n",
       "2017-01-16    13313.0                115.4    1212.9     4.75     3.49  \n",
       "2017-01-17    13349.0                115.4    1214.3     4.75     3.49  \n",
       "2017-01-18    13296.0                115.4    1212.1     4.75     3.49  \n",
       "2017-01-19    13370.0                115.4    1201.5     4.75     3.49  \n",
       "2017-01-20    13378.0                115.4    1204.9     4.75     3.49  \n",
       "2017-01-23    13406.0                115.4    1215.6     4.75     3.49  \n",
       "2017-01-24    13345.0                115.4    1210.8     4.75     3.49  \n",
       "2017-01-25    13342.0                115.4    1197.8     4.75     3.49  \n",
       "2017-01-26    13316.0                115.4    1189.8     4.75     3.49  \n",
       "2017-01-27    13387.0                115.4    1191.1     4.75     3.49  \n",
       "2017-01-30    13326.0                115.4    1196.0     4.75     3.49  \n",
       "2017-01-31    13338.0                115.4    1211.4     4.75     3.49  \n",
       "2017-01-02    13512.0                115.9    1208.3     4.75     3.83  \n",
       "2017-02-02    13360.0                115.4    1219.4     4.75     3.83  "
      ]
     },
     "execution_count": 69,
     "metadata": {},
     "output_type": "execute_result"
    }
   ],
   "source": [
    "all_df.head(20)"
   ]
  },
  {
   "cell_type": "code",
   "execution_count": 131,
   "metadata": {},
   "outputs": [
    {
     "data": {
      "text/plain": [
       "<matplotlib.axes._subplots.AxesSubplot at 0x1cba7acdc08>"
      ]
     },
     "execution_count": 131,
     "metadata": {},
     "output_type": "execute_result"
    },
    {
     "data": {
      "image/png": "[encoded data removed]",
      "text/plain": [
       "<Figure size 432x288 with 1 Axes>"
      ]
     },
     "metadata": {
      "needs_background": "light"
     },
     "output_type": "display_data"
    }
   ],
   "source": [
    "all_df['Consumer Confidence'].plot()"
   ]
  },
  {
   "cell_type": "code",
   "execution_count": null,
   "metadata": {},
   "outputs": [],
   "source": [
    "sample.to_csv('sample.csv',index= False)"
   ]
  },
  {
   "cell_type": "code",
   "execution_count": 132,
   "metadata": {},
   "outputs": [],
   "source": [
    "from sklearn.preprocessing import MinMaxScaler\n",
    "\n",
    "# Create the scaler object\n",
    "scaler = MinMaxScaler()\n",
    "scaler1 = MinMaxScaler()\n",
    "\n",
    "# Transform your data using the scaler\n",
    "#normalized_data = scaler.transform(your_data)\n"
   ]
  },
  {
   "cell_type": "code",
   "execution_count": 133,
   "metadata": {},
   "outputs": [],
   "source": [
    "# Fit the scaler to your data\n",
    "scaler.fit(all_df)\n",
    "\n",
    "# Transform your data using the scaler\n",
    "normalized_data = pd.DataFrame(scaler.fit_transform(all_df), columns=all_df.columns)\n",
    "normalized_price = scaler1.fit_transform(np.array(all_df['Terakhir']).reshape(-1,1))\n"
   ]
  },
  {
   "cell_type": "code",
   "execution_count": 73,
   "metadata": {},
   "outputs": [
    {
     "data": {
      "text/plain": [
       "array([[0.        ],\n",
       "       [0.00953525],\n",
       "       [0.02418355],\n",
       "       ...,\n",
       "       [0.87239822],\n",
       "       [0.86988233],\n",
       "       [0.8683652 ]])"
      ]
     },
     "execution_count": 73,
     "metadata": {},
     "output_type": "execute_result"
    }
   ],
   "source": [
    "normalized_price"
   ]
  },
  {
   "cell_type": "code",
   "execution_count": 134,
   "metadata": {},
   "outputs": [
    {
     "data": {
      "image/png": "[encoded data removed]",
      "text/plain": [
       "<Figure size 432x288 with 2 Axes>"
      ]
     },
     "metadata": {
      "needs_background": "light"
     },
     "output_type": "display_data"
    }
   ],
   "source": [
    "#heatmap corr\n",
    "corr_matrix = normalized_data.corr()\n",
    "\n",
    "# Create a heatmap of the correlation matrix\n",
    "sns.heatmap(corr_matrix, cmap='coolwarm', annot=True)\n",
    "\n",
    "figsize = (20,20)\n",
    "\n",
    "# save the figure as an image file\n",
    "#plt.savefig('correlation_heatmap.png')\n"
   ]
  },
  {
   "cell_type": "code",
   "execution_count": 135,
   "metadata": {},
   "outputs": [
    {
     "data": {
      "text/plain": [
       "<matplotlib.axes._subplots.AxesSubplot at 0x1cba7b27288>"
      ]
     },
     "execution_count": 135,
     "metadata": {},
     "output_type": "execute_result"
    },
    {
     "data": {
      "image/png": "[encoded data removed]",
      "text/plain": [
       "<Figure size 432x288 with 1 Axes>"
      ]
     },
     "metadata": {
      "needs_background": "light"
     },
     "output_type": "display_data"
    }
   ],
   "source": [
    "normalized_data[['Terakhir','Consumer Confidence']].plot()"
   ]
  },
  {
   "cell_type": "code",
   "execution_count": 136,
   "metadata": {},
   "outputs": [
    {
     "name": "stderr",
     "output_type": "stream",
     "text": [
      "c:\\Users\\Dimas\\anaconda3\\lib\\site-packages\\tensorflow\\python\\framework\\dtypes.py:526: FutureWarning: Passing (type, 1) or '1type' as a synonym of type is deprecated; in a future version of numpy, it will be understood as (type, (1,)) / '(1,)type'.\n",
      "  _np_qint8 = np.dtype([(\"qint8\", np.int8, 1)])\n",
      "c:\\Users\\Dimas\\anaconda3\\lib\\site-packages\\tensorflow\\python\\framework\\dtypes.py:527: FutureWarning: Passing (type, 1) or '1type' as a synonym of type is deprecated; in a future version of numpy, it will be understood as (type, (1,)) / '(1,)type'.\n",
      "  _np_quint8 = np.dtype([(\"quint8\", np.uint8, 1)])\n",
      "c:\\Users\\Dimas\\anaconda3\\lib\\site-packages\\tensorflow\\python\\framework\\dtypes.py:528: FutureWarning: Passing (type, 1) or '1type' as a synonym of type is deprecated; in a future version of numpy, it will be understood as (type, (1,)) / '(1,)type'.\n",
      "  _np_qint16 = np.dtype([(\"qint16\", np.int16, 1)])\n",
      "c:\\Users\\Dimas\\anaconda3\\lib\\site-packages\\tensorflow\\python\\framework\\dtypes.py:529: FutureWarning: Passing (type, 1) or '1type' as a synonym of type is deprecated; in a future version of numpy, it will be understood as (type, (1,)) / '(1,)type'.\n",
      "  _np_quint16 = np.dtype([(\"quint16\", np.uint16, 1)])\n",
      "c:\\Users\\Dimas\\anaconda3\\lib\\site-packages\\tensorflow\\python\\framework\\dtypes.py:530: FutureWarning: Passing (type, 1) or '1type' as a synonym of type is deprecated; in a future version of numpy, it will be understood as (type, (1,)) / '(1,)type'.\n",
      "  _np_qint32 = np.dtype([(\"qint32\", np.int32, 1)])\n",
      "c:\\Users\\Dimas\\anaconda3\\lib\\site-packages\\tensorflow\\python\\framework\\dtypes.py:535: FutureWarning: Passing (type, 1) or '1type' as a synonym of type is deprecated; in a future version of numpy, it will be understood as (type, (1,)) / '(1,)type'.\n",
      "  np_resource = np.dtype([(\"resource\", np.ubyte, 1)])\n"
     ]
    }
   ],
   "source": [
    "from tensorflow.keras.models import Sequential\n",
    "from tensorflow.keras.optimizers import Adam\n",
    "from tensorflow.keras.layers import LSTM,Dense\n",
    "from tensorflow.keras.layers import Dropout\n",
    "from sklearn.model_selection import train_test_split\n"
   ]
  },
  {
   "cell_type": "code",
   "execution_count": null,
   "metadata": {},
   "outputs": [],
   "source": [
    "def DatasetCreation(dataset, time_step = 1):  ##defining a function that gives a dataset and a time step, which then returns the input and output data\n",
    "   DataX, DataY = [], []\n",
    "   for i in range(len(dataset)- time_step -1):\n",
    "         a = dataset[i:(i+ time_step), ]\n",
    "         DataX.append(a)\n",
    "         DataY.append(dataset[i + time_step, 0]) #ydata consists close price\n",
    "   return np.array(DataX), np.array(DataY)\n"
   ]
  },
  {
   "cell_type": "code",
   "execution_count": 174,
   "metadata": {},
   "outputs": [],
   "source": [
    "#ormalized data\n",
    "#scaled_data = scaler.fit_transform(all_df)\n",
    "\n",
    "\n",
    "# Split the data into input and output variables\n",
    "X = normalized_data.drop(['Terakhir','Pembukaan','Tertinggi','Terendah'], axis=1)\n",
    "y = normalized_data['Terakhir']\n",
    "dates = all_df.index\n",
    "\n",
    "\n",
    "# Split the data into training and testing sets\n",
    "X_train, X_test, y_train, y_test,train_dates, test_dates = train_test_split(X, y,dates, test_size=0.2,shuffle=False)"
   ]
  },
  {
   "cell_type": "code",
   "execution_count": 160,
   "metadata": {},
   "outputs": [
    {
     "data": {
      "text/html": [
       "<div>\n",
       "<style scoped>\n",
       "    .dataframe tbody tr th:only-of-type {\n",
       "        vertical-align: middle;\n",
       "    }\n",
       "\n",
       "    .dataframe tbody tr th {\n",
       "        vertical-align: top;\n",
       "    }\n",
       "\n",
       "    .dataframe thead th {\n",
       "        text-align: right;\n",
       "    }\n",
       "</style>\n",
       "<table border=\"1\" class=\"dataframe\">\n",
       "  <thead>\n",
       "    <tr style=\"text-align: right;\">\n",
       "      <th></th>\n",
       "      <th>ATR</th>\n",
       "      <th>RSI</th>\n",
       "      <th>Close IDR</th>\n",
       "      <th>Consumer Confidence</th>\n",
       "      <th>Emas USD</th>\n",
       "      <th>BI Rate</th>\n",
       "      <th>Inflasi</th>\n",
       "    </tr>\n",
       "  </thead>\n",
       "  <tbody>\n",
       "    <tr>\n",
       "      <th>0</th>\n",
       "      <td>0.000000</td>\n",
       "      <td>0.000000</td>\n",
       "      <td>0.076184</td>\n",
       "      <td>0.75835</td>\n",
       "      <td>0.000000</td>\n",
       "      <td>0.5</td>\n",
       "      <td>0.367171</td>\n",
       "    </tr>\n",
       "    <tr>\n",
       "      <th>1</th>\n",
       "      <td>0.000000</td>\n",
       "      <td>0.000000</td>\n",
       "      <td>0.074067</td>\n",
       "      <td>0.75835</td>\n",
       "      <td>0.005557</td>\n",
       "      <td>0.5</td>\n",
       "      <td>0.367171</td>\n",
       "    </tr>\n",
       "    <tr>\n",
       "      <th>2</th>\n",
       "      <td>0.000000</td>\n",
       "      <td>0.000000</td>\n",
       "      <td>0.070137</td>\n",
       "      <td>0.75835</td>\n",
       "      <td>0.007801</td>\n",
       "      <td>0.5</td>\n",
       "      <td>0.367171</td>\n",
       "    </tr>\n",
       "    <tr>\n",
       "      <th>3</th>\n",
       "      <td>0.000000</td>\n",
       "      <td>0.000000</td>\n",
       "      <td>0.088578</td>\n",
       "      <td>0.75835</td>\n",
       "      <td>0.026181</td>\n",
       "      <td>0.5</td>\n",
       "      <td>0.367171</td>\n",
       "    </tr>\n",
       "    <tr>\n",
       "      <th>4</th>\n",
       "      <td>0.000000</td>\n",
       "      <td>0.000000</td>\n",
       "      <td>0.081323</td>\n",
       "      <td>0.75835</td>\n",
       "      <td>0.019342</td>\n",
       "      <td>0.5</td>\n",
       "      <td>0.367171</td>\n",
       "    </tr>\n",
       "    <tr>\n",
       "      <th>...</th>\n",
       "      <td>...</td>\n",
       "      <td>...</td>\n",
       "      <td>...</td>\n",
       "      <td>...</td>\n",
       "      <td>...</td>\n",
       "      <td>...</td>\n",
       "      <td>...</td>\n",
       "    </tr>\n",
       "    <tr>\n",
       "      <th>1236</th>\n",
       "      <td>0.300442</td>\n",
       "      <td>0.390189</td>\n",
       "      <td>0.716156</td>\n",
       "      <td>0.70334</td>\n",
       "      <td>0.722483</td>\n",
       "      <td>0.8</td>\n",
       "      <td>0.904968</td>\n",
       "    </tr>\n",
       "    <tr>\n",
       "      <th>1237</th>\n",
       "      <td>0.283503</td>\n",
       "      <td>0.465811</td>\n",
       "      <td>0.728581</td>\n",
       "      <td>0.70334</td>\n",
       "      <td>0.736803</td>\n",
       "      <td>0.8</td>\n",
       "      <td>0.904968</td>\n",
       "    </tr>\n",
       "    <tr>\n",
       "      <th>1238</th>\n",
       "      <td>0.268801</td>\n",
       "      <td>0.467208</td>\n",
       "      <td>0.731755</td>\n",
       "      <td>0.70334</td>\n",
       "      <td>0.729002</td>\n",
       "      <td>0.8</td>\n",
       "      <td>0.904968</td>\n",
       "    </tr>\n",
       "    <tr>\n",
       "      <th>1239</th>\n",
       "      <td>0.261896</td>\n",
       "      <td>0.499728</td>\n",
       "      <td>0.783602</td>\n",
       "      <td>0.70334</td>\n",
       "      <td>0.739902</td>\n",
       "      <td>0.8</td>\n",
       "      <td>0.904968</td>\n",
       "    </tr>\n",
       "    <tr>\n",
       "      <th>1240</th>\n",
       "      <td>0.256484</td>\n",
       "      <td>0.504432</td>\n",
       "      <td>0.732511</td>\n",
       "      <td>0.70334</td>\n",
       "      <td>0.740115</td>\n",
       "      <td>0.8</td>\n",
       "      <td>0.904968</td>\n",
       "    </tr>\n",
       "  </tbody>\n",
       "</table>\n",
       "<p>1241 rows × 7 columns</p>\n",
       "</div>"
      ],
      "text/plain": [
       "           ATR       RSI  Close IDR  Consumer Confidence  Emas USD  BI Rate  \\\n",
       "0     0.000000  0.000000   0.076184              0.75835  0.000000      0.5   \n",
       "1     0.000000  0.000000   0.074067              0.75835  0.005557      0.5   \n",
       "2     0.000000  0.000000   0.070137              0.75835  0.007801      0.5   \n",
       "3     0.000000  0.000000   0.088578              0.75835  0.026181      0.5   \n",
       "4     0.000000  0.000000   0.081323              0.75835  0.019342      0.5   \n",
       "...        ...       ...        ...                  ...       ...      ...   \n",
       "1236  0.300442  0.390189   0.716156              0.70334  0.722483      0.8   \n",
       "1237  0.283503  0.465811   0.728581              0.70334  0.736803      0.8   \n",
       "1238  0.268801  0.467208   0.731755              0.70334  0.729002      0.8   \n",
       "1239  0.261896  0.499728   0.783602              0.70334  0.739902      0.8   \n",
       "1240  0.256484  0.504432   0.732511              0.70334  0.740115      0.8   \n",
       "\n",
       "       Inflasi  \n",
       "0     0.367171  \n",
       "1     0.367171  \n",
       "2     0.367171  \n",
       "3     0.367171  \n",
       "4     0.367171  \n",
       "...        ...  \n",
       "1236  0.904968  \n",
       "1237  0.904968  \n",
       "1238  0.904968  \n",
       "1239  0.904968  \n",
       "1240  0.904968  \n",
       "\n",
       "[1241 rows x 7 columns]"
      ]
     },
     "execution_count": 160,
     "metadata": {},
     "output_type": "execute_result"
    }
   ],
   "source": [
    "X"
   ]
  },
  {
   "cell_type": "code",
   "execution_count": 203,
   "metadata": {},
   "outputs": [
    {
     "data": {
      "text/plain": [
       "0    0.000000\n",
       "1    0.009535\n",
       "2    0.024184\n",
       "3    0.045102\n",
       "4    0.048654\n",
       "Name: Terakhir, dtype: float64"
      ]
     },
     "execution_count": 203,
     "metadata": {},
     "output_type": "execute_result"
    }
   ],
   "source": [
    "# Reshape the input variables for the LSTM model\n",
    "# X_train = X_train.values.reshape((X_train.shape[0], 1, X_train.shape[1]))\n",
    "# X_test = X_test.values.reshape((X_test.shape[0], 1, X_test.shape[1]))\n",
    "\n",
    "# Reshape the input variables for the LSTM model with 5 timestep\n",
    "timestep = 5\n",
    "n_features = X_train.shape[1]\n",
    "n_samples_train = X_train.shape[0] - timestep + 1\n",
    "n_samples_test = X_test.shape[0] - timestep + 1\n",
    "X_train_reshaped = np.zeros((n_samples_train, timestep, n_features))\n",
    "X_test_reshaped = np.zeros((n_samples_test, timestep, n_features))\n",
    "\n",
    "# for i in range(n_samples_train):\n",
    "#     X_train_reshaped[:, :, i] = X_train[i:i+timestep, :]\n",
    "# for i in range(n_samples_test):\n",
    "#     X_test_reshaped[i, :, :] = X_test[i:i+timestep, :]\n",
    "#X_train[0:(1+timestep)]\n",
    "y_train[0:timestep]\n",
    "#a = dataset[i:(i+ time_step), ]"
   ]
  },
  {
   "cell_type": "code",
   "execution_count": 156,
   "metadata": {},
   "outputs": [
    {
     "data": {
      "text/plain": [
       "(992, 1, 7)"
      ]
     },
     "execution_count": 156,
     "metadata": {},
     "output_type": "execute_result"
    }
   ],
   "source": [
    "# y_train= y_train.values.reshape(-1,1)\n",
    "# y_test = y_test.values.reshape(-1,1)\n",
    "X_train.shape"
   ]
  },
  {
   "cell_type": "code",
   "execution_count": null,
   "metadata": {},
   "outputs": [],
   "source": [
    "#Prepare the data\n",
    "# timestep = 1\n",
    "# X = []\n",
    "# y = []\n",
    "# for i in range(timestep, len(scaled_data)):\n",
    "#     X.append(scaled_data[i-timestep:i, :])\n",
    "#     y.append(scaled_data[i, 0])\n",
    "# X = np.array(X)\n",
    "# y = np.array(y)"
   ]
  },
  {
   "cell_type": "code",
   "execution_count": null,
   "metadata": {},
   "outputs": [],
   "source": [
    "# Split the data into training and testing sets\n",
    "# split = int(0.8 * len(X))\n",
    "# X_train, X_test = X[:split], X[split:]\n",
    "# y_train, y_test = y[:split], y[split:]"
   ]
  },
  {
   "cell_type": "code",
   "execution_count": 149,
   "metadata": {},
   "outputs": [],
   "source": [
    "# Build the LSTM model\n",
    "timestep = 5\n",
    "lr = 0.001\n",
    "optimizer = Adam(lr=lr)\n",
    "model = Sequential()\n",
    "model.add(LSTM(150, activation='relu', input_shape=(timestep, X_train.shape[2])))\n",
    "model.add(Dense(1))\n",
    "model.compile(loss='mean_squared_error', optimizer= optimizer)\n"
   ]
  },
  {
   "cell_type": "code",
   "execution_count": 140,
   "metadata": {},
   "outputs": [],
   "source": [
    "from tensorflow.keras.callbacks import EarlyStopping"
   ]
  },
  {
   "cell_type": "code",
   "execution_count": 150,
   "metadata": {},
   "outputs": [
    {
     "ename": "ValueError",
     "evalue": "Error when checking input: expected lstm_1_input to have shape (5, 7) but got array with shape (1, 7)",
     "output_type": "error",
     "traceback": [
      "\u001b[1;31m---------------------------------------------------------------------------\u001b[0m",
      "\u001b[1;31mValueError\u001b[0m                                Traceback (most recent call last)",
      "\u001b[1;32m<ipython-input-150-53c1e9f18f62>\u001b[0m in \u001b[0;36m<module>\u001b[1;34m\u001b[0m\n\u001b[0;32m      4\u001b[0m \u001b[1;33m\u001b[0m\u001b[0m\n\u001b[0;32m      5\u001b[0m \u001b[1;31m# Train the model\u001b[0m\u001b[1;33m\u001b[0m\u001b[1;33m\u001b[0m\u001b[1;33m\u001b[0m\u001b[0m\n\u001b[1;32m----> 6\u001b[1;33m \u001b[0mhistory\u001b[0m \u001b[1;33m=\u001b[0m \u001b[0mmodel\u001b[0m\u001b[1;33m.\u001b[0m\u001b[0mfit\u001b[0m\u001b[1;33m(\u001b[0m\u001b[0mX_train\u001b[0m\u001b[1;33m,\u001b[0m \u001b[0my_train\u001b[0m\u001b[1;33m,\u001b[0m \u001b[0mepochs\u001b[0m\u001b[1;33m=\u001b[0m\u001b[1;36m50\u001b[0m\u001b[1;33m,\u001b[0m\u001b[0mbatch_size\u001b[0m\u001b[1;33m=\u001b[0m\u001b[1;36m8\u001b[0m\u001b[1;33m,\u001b[0m \u001b[0mvalidation_data\u001b[0m\u001b[1;33m=\u001b[0m\u001b[1;33m(\u001b[0m\u001b[0mX_test\u001b[0m\u001b[1;33m,\u001b[0m \u001b[0my_test\u001b[0m\u001b[1;33m)\u001b[0m\u001b[1;33m,\u001b[0m\u001b[0mcallbacks\u001b[0m\u001b[1;33m=\u001b[0m\u001b[1;33m[\u001b[0m\u001b[0mearly_stop\u001b[0m\u001b[1;33m]\u001b[0m\u001b[1;33m,\u001b[0m\u001b[0mshuffle\u001b[0m\u001b[1;33m=\u001b[0m\u001b[1;32mFalse\u001b[0m\u001b[1;33m)\u001b[0m\u001b[1;33m\u001b[0m\u001b[1;33m\u001b[0m\u001b[0m\n\u001b[0m\u001b[0;32m      7\u001b[0m \u001b[0mplt\u001b[0m\u001b[1;33m.\u001b[0m\u001b[0mplot\u001b[0m\u001b[1;33m(\u001b[0m\u001b[0mhistory\u001b[0m\u001b[1;33m.\u001b[0m\u001b[0mhistory\u001b[0m\u001b[1;33m[\u001b[0m\u001b[1;34m'loss'\u001b[0m\u001b[1;33m]\u001b[0m\u001b[1;33m,\u001b[0m \u001b[0mlabel\u001b[0m\u001b[1;33m=\u001b[0m\u001b[1;34m'train'\u001b[0m\u001b[1;33m)\u001b[0m\u001b[1;33m\u001b[0m\u001b[1;33m\u001b[0m\u001b[0m\n\u001b[0;32m      8\u001b[0m \u001b[0mplt\u001b[0m\u001b[1;33m.\u001b[0m\u001b[0mplot\u001b[0m\u001b[1;33m(\u001b[0m\u001b[0mhistory\u001b[0m\u001b[1;33m.\u001b[0m\u001b[0mhistory\u001b[0m\u001b[1;33m[\u001b[0m\u001b[1;34m'val_loss'\u001b[0m\u001b[1;33m]\u001b[0m\u001b[1;33m,\u001b[0m \u001b[0mlabel\u001b[0m\u001b[1;33m=\u001b[0m\u001b[1;34m'test'\u001b[0m\u001b[1;33m)\u001b[0m\u001b[1;33m\u001b[0m\u001b[1;33m\u001b[0m\u001b[0m\n",
      "\u001b[1;32mc:\\Users\\Dimas\\anaconda3\\lib\\site-packages\\tensorflow\\python\\keras\\engine\\training.py\u001b[0m in \u001b[0;36mfit\u001b[1;34m(self, x, y, batch_size, epochs, verbose, callbacks, validation_split, validation_data, shuffle, class_weight, sample_weight, initial_epoch, steps_per_epoch, validation_steps, max_queue_size, workers, use_multiprocessing, **kwargs)\u001b[0m\n\u001b[0;32m    774\u001b[0m         \u001b[0msteps\u001b[0m\u001b[1;33m=\u001b[0m\u001b[0msteps_per_epoch\u001b[0m\u001b[1;33m,\u001b[0m\u001b[1;33m\u001b[0m\u001b[1;33m\u001b[0m\u001b[0m\n\u001b[0;32m    775\u001b[0m         \u001b[0mvalidation_split\u001b[0m\u001b[1;33m=\u001b[0m\u001b[0mvalidation_split\u001b[0m\u001b[1;33m,\u001b[0m\u001b[1;33m\u001b[0m\u001b[1;33m\u001b[0m\u001b[0m\n\u001b[1;32m--> 776\u001b[1;33m         shuffle=shuffle)\n\u001b[0m\u001b[0;32m    777\u001b[0m \u001b[1;33m\u001b[0m\u001b[0m\n\u001b[0;32m    778\u001b[0m     \u001b[1;31m# Prepare validation data.\u001b[0m\u001b[1;33m\u001b[0m\u001b[1;33m\u001b[0m\u001b[1;33m\u001b[0m\u001b[0m\n",
      "\u001b[1;32mc:\\Users\\Dimas\\anaconda3\\lib\\site-packages\\tensorflow\\python\\keras\\engine\\training.py\u001b[0m in \u001b[0;36m_standardize_user_data\u001b[1;34m(self, x, y, sample_weight, class_weight, batch_size, check_steps, steps_name, steps, validation_split, shuffle)\u001b[0m\n\u001b[0;32m   2380\u001b[0m         \u001b[0mfeed_input_shapes\u001b[0m\u001b[1;33m,\u001b[0m\u001b[1;33m\u001b[0m\u001b[1;33m\u001b[0m\u001b[0m\n\u001b[0;32m   2381\u001b[0m         \u001b[0mcheck_batch_axis\u001b[0m\u001b[1;33m=\u001b[0m\u001b[1;32mFalse\u001b[0m\u001b[1;33m,\u001b[0m  \u001b[1;31m# Don't enforce the batch size.\u001b[0m\u001b[1;33m\u001b[0m\u001b[1;33m\u001b[0m\u001b[0m\n\u001b[1;32m-> 2382\u001b[1;33m         exception_prefix='input')\n\u001b[0m\u001b[0;32m   2383\u001b[0m \u001b[1;33m\u001b[0m\u001b[0m\n\u001b[0;32m   2384\u001b[0m     \u001b[1;32mif\u001b[0m \u001b[0my\u001b[0m \u001b[1;32mis\u001b[0m \u001b[1;32mnot\u001b[0m \u001b[1;32mNone\u001b[0m\u001b[1;33m:\u001b[0m\u001b[1;33m\u001b[0m\u001b[1;33m\u001b[0m\u001b[0m\n",
      "\u001b[1;32mc:\\Users\\Dimas\\anaconda3\\lib\\site-packages\\tensorflow\\python\\keras\\engine\\training_utils.py\u001b[0m in \u001b[0;36mstandardize_input_data\u001b[1;34m(data, names, shapes, check_batch_axis, exception_prefix)\u001b[0m\n\u001b[0;32m    360\u001b[0m                 \u001b[1;34m'Error when checking '\u001b[0m \u001b[1;33m+\u001b[0m \u001b[0mexception_prefix\u001b[0m \u001b[1;33m+\u001b[0m \u001b[1;34m': expected '\u001b[0m \u001b[1;33m+\u001b[0m\u001b[1;33m\u001b[0m\u001b[1;33m\u001b[0m\u001b[0m\n\u001b[0;32m    361\u001b[0m                 \u001b[0mnames\u001b[0m\u001b[1;33m[\u001b[0m\u001b[0mi\u001b[0m\u001b[1;33m]\u001b[0m \u001b[1;33m+\u001b[0m \u001b[1;34m' to have shape '\u001b[0m \u001b[1;33m+\u001b[0m \u001b[0mstr\u001b[0m\u001b[1;33m(\u001b[0m\u001b[0mshape\u001b[0m\u001b[1;33m)\u001b[0m \u001b[1;33m+\u001b[0m\u001b[1;33m\u001b[0m\u001b[1;33m\u001b[0m\u001b[0m\n\u001b[1;32m--> 362\u001b[1;33m                 ' but got array with shape ' + str(data_shape))\n\u001b[0m\u001b[0;32m    363\u001b[0m   \u001b[1;32mreturn\u001b[0m \u001b[0mdata\u001b[0m\u001b[1;33m\u001b[0m\u001b[1;33m\u001b[0m\u001b[0m\n\u001b[0;32m    364\u001b[0m \u001b[1;33m\u001b[0m\u001b[0m\n",
      "\u001b[1;31mValueError\u001b[0m: Error when checking input: expected lstm_1_input to have shape (5, 7) but got array with shape (1, 7)"
     ]
    }
   ],
   "source": [
    "\n",
    "# Define the EarlyStopping callback\n",
    "early_stop = EarlyStopping(monitor='val_loss', patience=5, verbose=1)\n",
    "\n",
    "\n",
    "# Train the model\n",
    "history = model.fit(X_train, y_train, epochs=50,batch_size=8, validation_data=(X_test, y_test),callbacks=[early_stop],shuffle=False)\n",
    "plt.plot(history.history['loss'], label='train')\n",
    "plt.plot(history.history['val_loss'], label='test')\n",
    "plt.legend()\n",
    "plt.show()"
   ]
  },
  {
   "cell_type": "code",
   "execution_count": null,
   "metadata": {},
   "outputs": [
    {
     "name": "stdout",
     "output_type": "stream",
     "text": [
      "_________________________________________________________________\n",
      "Layer (type)                 Output Shape              Param #   \n",
      "=================================================================\n",
      "lstm_5 (LSTM)                (None, 150)               93600     \n",
      "_________________________________________________________________\n",
      "dense_1 (Dense)              (None, 1)                 151       \n",
      "=================================================================\n",
      "Total params: 93,751\n",
      "Trainable params: 93,751\n",
      "Non-trainable params: 0\n",
      "_________________________________________________________________\n"
     ]
    }
   ],
   "source": [
    "model.summary()"
   ]
  },
  {
   "cell_type": "code",
   "execution_count": null,
   "metadata": {},
   "outputs": [
    {
     "name": "stdout",
     "output_type": "stream",
     "text": [
      "Mean Squared Error: 12.910606367326537\n"
     ]
    }
   ],
   "source": [
    "# from sklearn.metrics import mean_squared_error\n",
    "# # Get the predicted values\n",
    "# y_pred = model.predict(X_test)\n",
    "# y_pred = scaler1.inverse_transform(y_pred)\n",
    "# y_test = scaler1.inverse_transform(y_test.values.reshape(-1,1))\n",
    "# # Calculate the mean squared error\n",
    "# rmse = mean_squared_error(y_test, y_pred,squared=False)\n",
    "# print('Mean Squared Error:', rmse)"
   ]
  },
  {
   "cell_type": "code",
   "execution_count": null,
   "metadata": {},
   "outputs": [],
   "source": []
  },
  {
   "cell_type": "code",
   "execution_count": 142,
   "metadata": {},
   "outputs": [
    {
     "data": {
      "image/png": "[encoded data removed]",
      "text/plain": [
       "<Figure size 432x288 with 1 Axes>"
      ]
     },
     "metadata": {
      "needs_background": "light"
     },
     "output_type": "display_data"
    },
    {
     "data": {
      "image/png": "[encoded data removed]",
      "text/plain": [
       "<Figure size 432x288 with 1 Axes>"
      ]
     },
     "metadata": {
      "needs_background": "light"
     },
     "output_type": "display_data"
    }
   ],
   "source": [
    "train_pred = model.predict(X_train)\n",
    "train_pred = scaler1.inverse_transform(train_pred)\n",
    "train_actual = scaler1.inverse_transform(y_train.values.reshape(-1, 1))\n",
    "\n",
    "test_pred = model.predict(X_test)\n",
    "test_pred = scaler1.inverse_transform(test_pred)\n",
    "test_actual = scaler1.inverse_transform(y_test.values.reshape(-1, 1))\n",
    "\n",
    "#Plot the true closing price together with its predictions on the training data\n",
    "plt.plot(train_actual, label='Actual')\n",
    "plt.plot(train_pred, label='Predicted')\n",
    "plt.title('Closing Stock Price - Training Data')\n",
    "plt.xlabel('Date')\n",
    "plt.ylabel('Closing Price')\n",
    "plt.legend()\n",
    "plt.show()\n",
    "\n",
    "# #Plot the true closing price together with its predictions on the test data\n",
    "plt.plot(test_actual, label='Actual')\n",
    "plt.plot(test_pred, label='Predicted')\n",
    "plt.title('Closing Stock Price - Test Data')\n",
    "plt.xlabel('Date')\n",
    "plt.ylabel('Closing Price')\n",
    "plt.legend()\n",
    "plt.show()"
   ]
  },
  {
   "cell_type": "code",
   "execution_count": 145,
   "metadata": {},
   "outputs": [
    {
     "name": "stdout",
     "output_type": "stream",
     "text": [
      "R^2: -21.693327867320676\n"
     ]
    }
   ],
   "source": [
    "from sklearn.metrics import r2_score\n",
    "\n",
    "# Assuming you have the actual stock prices in 'actual_prices' and predicted stock prices in 'predicted_prices'\n",
    "\n",
    "r2 = r2_score(test_actual, test_pred)\n",
    "print(\"R^2: {}\".format(r2))"
   ]
  },
  {
   "cell_type": "code",
   "execution_count": null,
   "metadata": {},
   "outputs": [
    {
     "data": {
      "image/png": "[encoded data removed]",
      "text/plain": [
       "<Figure size 864x360 with 1 Axes>"
      ]
     },
     "metadata": {
      "needs_background": "light"
     },
     "output_type": "display_data"
    }
   ],
   "source": [
    "# Plot the true and predicted closing prices on the training set\n",
    "plt.figure(figsize=(12, 5))\n",
    "plt.plot(train_dates, train_actual, label='True Train')\n",
    "plt.plot(train_dates.sort_values(), train_pred, label='Predicted Train')\n",
    "plt.xlabel('Date')\n",
    "plt.ylabel('Closing Price')\n",
    "#plt.title('True vs Predicted Closing Prices - Training Set')\n",
    "plt.legend()\n",
    "plt.savefig('True vs Predicted Closing Prices - Training Set (150 Neuron).png')\n",
    "plt.show()"
   ]
  },
  {
   "cell_type": "code",
   "execution_count": null,
   "metadata": {},
   "outputs": [
    {
     "data": {
      "image/png": "[encoded data removed]",
      "text/plain": [
       "<Figure size 864x360 with 1 Axes>"
      ]
     },
     "metadata": {
      "needs_background": "light"
     },
     "output_type": "display_data"
    }
   ],
   "source": [
    "plt.figure(figsize=(12, 5))\n",
    "plt.scatter(train_actual,train_pred)\n",
    "# Calculate the best fit line\n",
    "slope, intercept = np.polyfit(train_actual.flatten(),train_pred,1)\n",
    "# Add the best fit line to the plot\n",
    "plt.plot(train_actual, slope*train_actual + intercept, color='red')\n",
    "plt.xlabel('Actual Train')\n",
    "plt.ylabel('Predicted')\n",
    "plt.savefig('Train Actual-Predicted.png')\n",
    "plt.show()\n"
   ]
  },
  {
   "cell_type": "code",
   "execution_count": null,
   "metadata": {},
   "outputs": [
    {
     "data": {
      "text/plain": [
       "array([ 812.98, 1197.07, 1156.62, ..., 1146.11,  966.99, 1179.98])"
      ]
     },
     "execution_count": 592,
     "metadata": {},
     "output_type": "execute_result"
    }
   ],
   "source": [
    "train_actual.flatten()"
   ]
  },
  {
   "cell_type": "code",
   "execution_count": null,
   "metadata": {},
   "outputs": [
    {
     "data": {
      "image/png": "[encoded data removed]",
      "text/plain": [
       "<Figure size 864x360 with 1 Axes>"
      ]
     },
     "metadata": {
      "needs_background": "light"
     },
     "output_type": "display_data"
    }
   ],
   "source": [
    "# Plot the true and predicted closing prices on the test set\n",
    "plt.figure(figsize=(12, 5))\n",
    "plt.plot(test_dates.sort_values(), test_actual, label='True Test')\n",
    "plt.plot(test_dates.sort_values(), test_pred, label='Predicted Test')\n",
    "plt.xlabel('Date')\n",
    "plt.ylabel('Closing Price')\n",
    "#plt.title('True vs Predicted Closing Prices - Test Set')\n",
    "plt.legend()\n",
    "plt.savefig('True vs Predicted Closing Prices - Test Set (150 Neuron).png')\n",
    "plt.show()"
   ]
  },
  {
   "cell_type": "code",
   "execution_count": null,
   "metadata": {},
   "outputs": [
    {
     "data": {
      "image/png": "[encoded data removed]",
      "text/plain": [
       "<Figure size 864x360 with 1 Axes>"
      ]
     },
     "metadata": {
      "needs_background": "light"
     },
     "output_type": "display_data"
    }
   ],
   "source": [
    "plt.figure(figsize=(12, 5))\n",
    "plt.scatter(test_actual,test_pred)\n",
    "# Calculate the best fit line\n",
    "slope, intercept = np.polyfit(test_actual.flatten(),test_pred,1)\n",
    "# Add the best fit line to the plot\n",
    "plt.plot(test_actual, slope*test_actual + intercept, color='red')\n",
    "plt.xlabel('Actual Test')\n",
    "plt.ylabel('Predicted')\n",
    "plt.savefig('Test Actual-Predicted.png')\n",
    "plt.show()"
   ]
  },
  {
   "cell_type": "code",
   "execution_count": 315,
   "metadata": {},
   "outputs": [
    {
     "ename": "NameError",
     "evalue": "name 'mean_squared_error' is not defined",
     "output_type": "error",
     "traceback": [
      "\u001b[1;31m---------------------------------------------------------------------------\u001b[0m",
      "\u001b[1;31mNameError\u001b[0m                                 Traceback (most recent call last)",
      "\u001b[1;32m<ipython-input-315-789fb85f5bc7>\u001b[0m in \u001b[0;36m<module>\u001b[1;34m\u001b[0m\n\u001b[1;32m----> 1\u001b[1;33m \u001b[0mrmse_tes\u001b[0m \u001b[1;33m=\u001b[0m \u001b[0mmean_squared_error\u001b[0m\u001b[1;33m(\u001b[0m\u001b[0mtest_actual\u001b[0m\u001b[1;33m,\u001b[0m \u001b[0mtest_pred\u001b[0m\u001b[1;33m,\u001b[0m\u001b[0msquared\u001b[0m\u001b[1;33m=\u001b[0m\u001b[1;32mFalse\u001b[0m\u001b[1;33m)\u001b[0m\u001b[1;33m\u001b[0m\u001b[1;33m\u001b[0m\u001b[0m\n\u001b[0m\u001b[0;32m      2\u001b[0m \u001b[0mrmse_tes\u001b[0m\u001b[1;33m\u001b[0m\u001b[1;33m\u001b[0m\u001b[0m\n",
      "\u001b[1;31mNameError\u001b[0m: name 'mean_squared_error' is not defined"
     ]
    }
   ],
   "source": [
    "rmse_tes = mean_squared_error(test_actual, test_pred,squared=False)\n",
    "rmse_tes"
   ]
  },
  {
   "cell_type": "code",
   "execution_count": null,
   "metadata": {},
   "outputs": [
    {
     "data": {
      "text/plain": [
       "15.703705916292876"
      ]
     },
     "execution_count": 741,
     "metadata": {},
     "output_type": "execute_result"
    }
   ],
   "source": [
    "rmse_train = mean_squared_error(train_actual, train_pred,squared=False)\n",
    "rmse_train"
   ]
  },
  {
   "cell_type": "code",
   "execution_count": null,
   "metadata": {},
   "outputs": [
    {
     "data": {
      "image/png": "[encoded data removed]",
      "text/plain": [
       "<Figure size 864x360 with 1 Axes>"
      ]
     },
     "metadata": {
      "needs_background": "light"
     },
     "output_type": "display_data"
    }
   ],
   "source": [
    "# Plot the true and predicted closing prices on the training set\n",
    "plt.figure(figsize=(12, 5))\n",
    "plt.plot(train_dates.sort_values(), train_actual, label='True Train')\n",
    "plt.plot(train_dates.sort_values(), train_pred, label='Predicted Train')\n",
    "plt.plot(test_dates.sort_values(),test_actual,label = 'True Test')\n",
    "plt.plot(test_dates.sort_values(),test_pred,label = 'Predicted Test')\n",
    "plt.xlabel('Date')\n",
    "plt.ylabel('Closing Price')\n",
    "#plt.title('True vs Predicted Closing Prices - Training Set')\n",
    "plt.legend()\n",
    "plt.savefig('True vs Predicted Closing Prices - Training Set (150 Neuron).png')\n",
    "plt.show()"
   ]
  },
  {
   "cell_type": "code",
   "execution_count": null,
   "metadata": {},
   "outputs": [
    {
     "data": {
      "text/plain": [
       "array([[ 812.98],\n",
       "       [1197.07],\n",
       "       [1156.62],\n",
       "       ...,\n",
       "       [1146.11],\n",
       "       [ 966.99],\n",
       "       [1179.98]])"
      ]
     },
     "execution_count": 633,
     "metadata": {},
     "output_type": "execute_result"
    }
   ],
   "source": [
    "train_actual"
   ]
  },
  {
   "cell_type": "code",
   "execution_count": null,
   "metadata": {},
   "outputs": [
    {
     "data": {
      "text/plain": [
       "Tanggal\n",
       "2016-12-27     582.88\n",
       "2016-12-28     594.30\n",
       "2016-12-29     611.62\n",
       "2016-12-30     613.80\n",
       "2017-01-02     613.54\n",
       "               ...   \n",
       "2021-10-14    1080.94\n",
       "2021-10-15    1079.80\n",
       "2021-10-18    1090.33\n",
       "2021-10-19    1089.95\n",
       "2021-10-21    1081.30\n",
       "Name: Terakhir, Length: 1036, dtype: float64"
      ]
     },
     "execution_count": 648,
     "metadata": {},
     "output_type": "execute_result"
    }
   ],
   "source": [
    "all_df['Terakhir'][1:1037]"
   ]
  },
  {
   "cell_type": "code",
   "execution_count": null,
   "metadata": {},
   "outputs": [
    {
     "data": {
      "text/plain": [
       "array([[ 812.98],\n",
       "       [1197.07],\n",
       "       [1156.62],\n",
       "       ...,\n",
       "       [1146.11],\n",
       "       [ 966.99],\n",
       "       [1179.98]])"
      ]
     },
     "execution_count": 649,
     "metadata": {},
     "output_type": "execute_result"
    }
   ],
   "source": [
    "train_actual"
   ]
  },
  {
   "cell_type": "code",
   "execution_count": null,
   "metadata": {},
   "outputs": [
    {
     "data": {
      "text/plain": [
       "DatetimeIndex(['2016-12-23', '2016-12-27', '2016-12-28', '2016-12-29',\n",
       "               '2016-12-30', '2017-01-02', '2017-01-03', '2017-01-11',\n",
       "               '2017-01-13', '2017-01-16',\n",
       "               ...\n",
       "               '2021-10-06', '2021-10-08', '2021-10-11', '2021-10-12',\n",
       "               '2021-10-13', '2021-10-14', '2021-10-15', '2021-10-18',\n",
       "               '2021-10-19', '2021-10-21'],\n",
       "              dtype='datetime64[ns]', name='Tanggal', length=1037, freq=None)"
      ]
     },
     "execution_count": 650,
     "metadata": {},
     "output_type": "execute_result"
    }
   ],
   "source": [
    "train_dates"
   ]
  },
  {
   "cell_type": "code",
   "execution_count": null,
   "metadata": {},
   "outputs": [
    {
     "data": {
      "text/plain": [
       "[<matplotlib.lines.Line2D at 0x28772fac5c8>]"
      ]
     },
     "execution_count": 668,
     "metadata": {},
     "output_type": "execute_result"
    },
    {
     "data": {
      "image/png": "[encoded data removed]",
      "text/plain": [
       "<Figure size 432x288 with 1 Axes>"
      ]
     },
     "metadata": {
      "needs_background": "light"
     },
     "output_type": "display_data"
    }
   ],
   "source": [
    "plt.plot(train_dates,train_actual)"
   ]
  },
  {
   "cell_type": "code",
   "execution_count": null,
   "metadata": {},
   "outputs": [
    {
     "data": {
      "text/plain": [
       "<matplotlib.axes._subplots.AxesSubplot at 0x287759aa2c8>"
      ]
     },
     "execution_count": 708,
     "metadata": {},
     "output_type": "execute_result"
    },
    {
     "data": {
      "image/png": "[encoded data removed]",
      "text/plain": [
       "<Figure size 432x288 with 1 Axes>"
      ]
     },
     "metadata": {
      "needs_background": "light"
     },
     "output_type": "display_data"
    }
   ],
   "source": [
    "all_df[0:100]['Terakhir'].plot()"
   ]
  },
  {
   "cell_type": "code",
   "execution_count": null,
   "metadata": {},
   "outputs": [
    {
     "data": {
      "text/plain": [
       "[<matplotlib.lines.Line2D at 0x28775acd808>]"
      ]
     },
     "execution_count": 712,
     "metadata": {},
     "output_type": "execute_result"
    },
    {
     "data": {
      "image/png": "[encoded data removed]",
      "text/plain": [
       "<Figure size 432x288 with 1 Axes>"
      ]
     },
     "metadata": {
      "needs_background": "light"
     },
     "output_type": "display_data"
    }
   ],
   "source": [
    "plt.plot(all_df.index[0:1037],train_pred)\n",
    "plt.plot(all_df.index[0:1037],all_df['Terakhir'][0:1037])"
   ]
  },
  {
   "cell_type": "code",
   "execution_count": null,
   "metadata": {},
   "outputs": [
    {
     "data": {
      "text/plain": [
       "(array([[ 843.9673 ],\n",
       "        [1202.0254 ],\n",
       "        [1175.7919 ],\n",
       "        [ 739.6599 ],\n",
       "        [ 864.3117 ],\n",
       "        [ 819.6721 ],\n",
       "        [1164.0651 ],\n",
       "        [ 893.58453],\n",
       "        [1005.201  ],\n",
       "        [ 761.175  ]], dtype=float32),\n",
       " array([576.13, 582.88, 594.3 , 611.62, 613.8 , 613.54, 627.67, 808.76,\n",
       "        605.77, 601.68]))"
      ]
     },
     "execution_count": 717,
     "metadata": {},
     "output_type": "execute_result"
    }
   ],
   "source": []
  },
  {
   "cell_type": "code",
   "execution_count": null,
   "metadata": {},
   "outputs": [
    {
     "data": {
      "text/plain": [
       "<matplotlib.collections.PathCollection at 0x2877468da48>"
      ]
     },
     "execution_count": 703,
     "metadata": {},
     "output_type": "execute_result"
    },
    {
     "data": {
      "image/png": "[encoded data removed]",
      "text/plain": [
       "<Figure size 432x288 with 1 Axes>"
      ]
     },
     "metadata": {
      "needs_background": "light"
     },
     "output_type": "display_data"
    }
   ],
   "source": [
    "plt.scatter(train_actual,all_df['Terakhir'][0:1037])"
   ]
  },
  {
   "cell_type": "code",
   "execution_count": null,
   "metadata": {},
   "outputs": [
    {
     "data": {
      "text/plain": [
       "array([[0.        ],\n",
       "       [0.01013422],\n",
       "       [0.02727982],\n",
       "       ...,\n",
       "       [0.77200252],\n",
       "       [0.771432  ],\n",
       "       [0.75844519]])"
      ]
     },
     "execution_count": 677,
     "metadata": {},
     "output_type": "execute_result"
    }
   ],
   "source": [
    "normalized_price[0:1037]"
   ]
  },
  {
   "cell_type": "code",
   "execution_count": 317,
   "metadata": {},
   "outputs": [
    {
     "name": "stdout",
     "output_type": "stream",
     "text": [
      "    Variable         VIF\n",
      "0      const   48.510727\n",
      "1  Pembukaan  719.152924\n",
      "2   Terakhir  783.739198\n",
      "3  Tertinggi  965.453315\n",
      "4   Terendah  966.325966\n",
      "5        ATR    1.651483\n"
     ]
    }
   ],
   "source": [
    "import statsmodels.api as sm\n",
    "from statsmodels.stats.outliers_influence import variance_inflation_factor\n",
    "\n",
    "# Assuming you have a DataFrame named 'data' containing the opening price and closing price columns\n",
    "# Extract the relevant columns for analysis\n",
    "columns_of_interest = ['Pembukaan', 'Terakhir','Tertinggi','Terendah','ATR']\n",
    "data_subset = all_df[columns_of_interest]\n",
    "\n",
    "# Add a constant column to the data\n",
    "data_subset = sm.add_constant(data_subset)\n",
    "\n",
    "# Calculate the VIF for each feature\n",
    "vif = pd.DataFrame()\n",
    "vif[\"Variable\"] = data_subset.columns\n",
    "vif[\"VIF\"] = [variance_inflation_factor(data_subset.values, i) for i in range(data_subset.shape[1])]\n",
    "\n",
    "print(vif)\n"
   ]
  },
  {
   "cell_type": "code",
   "execution_count": null,
   "metadata": {},
   "outputs": [
    {
     "data": {
      "text/plain": [
       "Terakhir                1242.190000\n",
       "Pembukaan               1244.280000\n",
       "Close IDR              16504.800781\n",
       "Consumer Confidence      128.200000\n",
       "Emas USD                2069.400000\n",
       "BI Rate                    6.000000\n",
       "dtype: float64"
      ]
     },
     "execution_count": 695,
     "metadata": {},
     "output_type": "execute_result"
    }
   ],
   "source": [
    "#all_df['Terakhir'][0:1037]\n",
    "all_df.max()"
   ]
  },
  {
   "cell_type": "code",
   "execution_count": null,
   "metadata": {},
   "outputs": [
    {
     "data": {
      "text/plain": [
       "0       0.000000\n",
       "1       0.010134\n",
       "2       0.027280\n",
       "3       0.053283\n",
       "4       0.056556\n",
       "          ...   \n",
       "1032    0.757905\n",
       "1033    0.756193\n",
       "1034    0.772003\n",
       "1035    0.771432\n",
       "1036    0.758445\n",
       "Name: Terakhir, Length: 1037, dtype: float64"
      ]
     },
     "execution_count": 689,
     "metadata": {},
     "output_type": "execute_result"
    }
   ],
   "source": [
    "y_train"
   ]
  },
  {
   "cell_type": "code",
   "execution_count": null,
   "metadata": {},
   "outputs": [
    {
     "data": {
      "text/plain": [
       "array([[ 812.98],\n",
       "       [1197.07],\n",
       "       [1156.62],\n",
       "       ...,\n",
       "       [1146.11],\n",
       "       [ 966.99],\n",
       "       [1179.98]])"
      ]
     },
     "execution_count": 690,
     "metadata": {},
     "output_type": "execute_result"
    }
   ],
   "source": [
    "train_actual"
   ]
  },
  {
   "cell_type": "code",
   "execution_count": null,
   "metadata": {},
   "outputs": [],
   "source": [
    "prediksi = model.predict(X_train)"
   ]
  },
  {
   "cell_type": "code",
   "execution_count": null,
   "metadata": {},
   "outputs": [
    {
     "data": {
      "text/plain": [
       "array([[ 576.13],\n",
       "       [ 582.88],\n",
       "       [ 594.3 ],\n",
       "       ...,\n",
       "       [1090.33],\n",
       "       [1089.95],\n",
       "       [1081.3 ]])"
      ]
     },
     "execution_count": 724,
     "metadata": {},
     "output_type": "execute_result"
    }
   ],
   "source": [
    "scaler1.inverse_transform(y_train.values.reshape(-1,1))"
   ]
  },
  {
   "cell_type": "code",
   "execution_count": null,
   "metadata": {},
   "outputs": [
    {
     "data": {
      "text/plain": [
       "array([[ 585.6554 ],\n",
       "       [ 585.7504 ],\n",
       "       [ 594.44867],\n",
       "       ...,\n",
       "       [1079.6755 ],\n",
       "       [1089.5576 ],\n",
       "       [1089.5573 ]], dtype=float32)"
      ]
     },
     "execution_count": 726,
     "metadata": {},
     "output_type": "execute_result"
    }
   ],
   "source": [
    "scaler1.inverse_transform(prediksi)"
   ]
  },
  {
   "cell_type": "code",
   "execution_count": null,
   "metadata": {},
   "outputs": [],
   "source": []
  }
 ],
 "metadata": {
  "kernelspec": {
   "display_name": "base",
   "language": "python",
   "name": "python3"
  },
  "language_info": {
   "codemirror_mode": {
    "name": "ipython",
    "version": 3
   },
   "file_extension": ".py",
   "mimetype": "text/x-python",
   "name": "python",
   "nbconvert_exporter": "python",
   "pygments_lexer": "ipython3",
   "version": "3.7.6"
  },
  "orig_nbformat": 4,
  "vscode": {
   "interpreter": {
    "hash": "6dbdd5a9ee8b049788a18a4d7ddbf57b81c7e2a2f555da75ee11b0ca83e463bc"
   }
  }
 },
 "nbformat": 4,
 "nbformat_minor": 2
}
