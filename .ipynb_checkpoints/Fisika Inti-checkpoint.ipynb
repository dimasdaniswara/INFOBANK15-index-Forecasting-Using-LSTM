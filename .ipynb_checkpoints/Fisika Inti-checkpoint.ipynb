{
 "cells": [
  {
   "cell_type": "code",
   "execution_count": 11,
   "metadata": {},
   "outputs": [
    {
     "ename": "IndentationError",
     "evalue": "unexpected indent (<ipython-input-11-a7804eae289c>, line 6)",
     "output_type": "error",
     "traceback": [
      "\u001b[1;36m  File \u001b[1;32m\"<ipython-input-11-a7804eae289c>\"\u001b[1;36m, line \u001b[1;32m6\u001b[0m\n\u001b[1;33m    def runkut4(F,x,y,h):\u001b[0m\n\u001b[1;37m    ^\u001b[0m\n\u001b[1;31mIndentationError\u001b[0m\u001b[1;31m:\u001b[0m unexpected indent\n"
     ]
    }
   ],
   "source": [
    "import numpy as np\n",
    "import matplotlib.pyplot as plt\n",
    "\n",
    "# implementasi runge kutta\n",
    "\n",
    "\n",
    "\n",
    "\n",
    "\n",
    "def integrate(F,x,y,xStop,h):\n",
    "    def runkut4(F,x,y,h):\n",
    "        k0 = F(x, y)\n",
    "        k1 = F(x + h / 2.0, y + k0 / 2.0)\n",
    "        k2 = F(x + h / 2.0, y + k1 / 2.0)\n",
    "        k3 = F(x + h, y + k2)\n",
    "        return h*(k0+2.0*k1+2.0*k2+k3)/6.0\n",
    "\n",
    "    X = []\n",
    "    Y = []\n",
    "    X.append(x)\n",
    "    Y.append(y)\n",
    "    while x < xStop:\n",
    "        h = min(h, xStop)\n",
    "        y = y + runkut4(F,x,y,h)\n",
    "        x = x + h\n",
    "        X.append(x)\n",
    "        Y.append(y)\n",
    "    return np.array(X),np.array(Y)\n",
    "\n",
    "\n",
    "m = 3727.379\n",
    "E = 20\n",
    "V = 0\n",
    "h_bar = 197.3269804\n",
    "alpha = 2*m*(E-V)/(h_bar*h_bar)\n",
    "\n",
    "def F(x,y):\n",
    "    F = - alpha*y\n",
    "    return F\n",
    "\n",
    "x = 0.0\n",
    "xStop = 50\n",
    "y = 0.1\n",
    "h = 0.1\n",
    "X,Y = integrate(F,x,y,xStop,h)\n",
    "\n",
    "plt.plot(X,Y,'o-')\n",
    "plt.xlabel('x');plt.ylabel('V')"
   ]
  },
  {
   "cell_type": "code",
   "execution_count": 5,
   "metadata": {},
   "outputs": [
    {
     "name": "stdout",
     "output_type": "stream",
     "text": [
      "(-1+0j)\n"
     ]
    }
   ],
   "source": [
    "x = 1j\n",
    "b = 1j\n",
    "\n",
    "print(x*b)"
   ]
  },
  {
   "cell_type": "code",
   "execution_count": null,
   "metadata": {},
   "outputs": [],
   "source": [
    "m = 3727.379\n",
    "E = 20\n",
    "V = 0\n",
    "h_bar = 197.3269804\n",
    "V_maks = 100\n",
    "\n",
    "\n",
    "\n",
    "\n",
    "\n"
   ]
  }
 ],
 "metadata": {
  "kernelspec": {
   "display_name": "Python 3",
   "language": "python",
   "name": "python3"
  },
  "language_info": {
   "codemirror_mode": {
    "name": "ipython",
    "version": 3
   },
   "file_extension": ".py",
   "mimetype": "text/x-python",
   "name": "python",
   "nbconvert_exporter": "python",
   "pygments_lexer": "ipython3",
   "version": "3.7.6"
  }
 },
 "nbformat": 4,
 "nbformat_minor": 4
}
