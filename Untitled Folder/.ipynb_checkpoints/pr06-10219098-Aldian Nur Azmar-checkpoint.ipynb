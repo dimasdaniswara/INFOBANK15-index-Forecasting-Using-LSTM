{
 "cells": [
  {
   "cell_type": "code",
   "execution_count": 34,
   "id": "9afb4366",
   "metadata": {},
   "outputs": [],
   "source": [
    "# Menentukan nilai phi dari pendekatan fungsi lingkaran yaitu y=x**2"
   ]
  },
  {
   "cell_type": "code",
   "execution_count": 35,
   "id": "bec3be35",
   "metadata": {},
   "outputs": [
    {
     "name": "stdout",
     "output_type": "stream",
     "text": [
      "Nilai phi yang diperoleh yaitu 2.67108\n"
     ]
    },
    {
     "data": {
      "image/png": "[encoded data removed]",
      "text/plain": [
       "<Figure size 432x288 with 1 Axes>"
      ]
     },
     "metadata": {
      "needs_background": "light"
     },
     "output_type": "display_data"
    }
   ],
   "source": [
    "# Mendefinisikan library\n",
    "import matplotlib.pyplot as plt\n",
    "import random\n",
    "\n",
    "# Mendefinisikan parameter yang diperlukan\n",
    "inside = 0\n",
    "n = 100000\n",
    "\n",
    "# Mendefinisikan array untuk parameter yang diperoleh nantinya\n",
    "x_inside =[]\n",
    "y_inside = []\n",
    "x_outside = []\n",
    "y_outside = []\n",
    "\n",
    "for _ in range(n):\n",
    "    # Memberikan syarat bidang batas x=(-1.0,1.0) dan y=(-1.0,1.0)\n",
    "    x = random.uniform(-1.0, 1.0)\n",
    "    y = random.uniform(-1.0, 1.0)\n",
    "    \n",
    "    if y <= x**2:\n",
    "        inside += 1\n",
    "        x_inside.append(x)\n",
    "        y_inside.append(y)\n",
    "    else:\n",
    "        x_outside.append(x)\n",
    "        y_outside.append(y)\n",
    "\n",
    "phi = 4*inside/n\n",
    "print(\"Nilai phi yang diperoleh yaitu \" + str(phi))\n",
    "\n",
    "# Melakukan visualisasi\n",
    "fig, ax = plt.subplots()\n",
    "ax.set_aspect('equal')\n",
    "ax.scatter(x_inside, y_inside, color='y', marker='s')\n",
    "ax.scatter(x_outside, y_outside, color='r', marker='s')\n",
    "\n",
    "plt.draw()"
   ]
  },
  {
   "cell_type": "code",
   "execution_count": 36,
   "id": "703e0917",
   "metadata": {},
   "outputs": [
    {
     "name": "stdout",
     "output_type": "stream",
     "text": [
      "Nilai phi yang diperoleh yaitu 1.3262\n"
     ]
    },
    {
     "data": {
      "image/png": "[encoded data removed]",
      "text/plain": [
       "<Figure size 432x288 with 1 Axes>"
      ]
     },
     "metadata": {
      "needs_background": "light"
     },
     "output_type": "display_data"
    }
   ],
   "source": [
    "# Mendefinisikan library\n",
    "import matplotlib.pyplot as plt\n",
    "import random\n",
    "\n",
    "# Mendefinisikan parameter yang diperlukan\n",
    "inside = 0\n",
    "n = 100000\n",
    "\n",
    "# Mendefinisikan array untuk parameter yang diperoleh nantinya\n",
    "x_inside =[]\n",
    "y_inside = []\n",
    "x_outside = []\n",
    "y_outside = []\n",
    "\n",
    "for _ in range(n):\n",
    "    # Memberikan syarat bidang batas x=(0,3) dan y=(0,9)\n",
    "    x = random.uniform(0.0, 3.0)\n",
    "    y = random.uniform(0.0, 9.0)\n",
    "    \n",
    "    if y <= x**2:\n",
    "        inside += 1\n",
    "        x_inside.append(x)\n",
    "        y_inside.append(y)\n",
    "    else:\n",
    "        x_outside.append(x)\n",
    "        y_outside.append(y)\n",
    "\n",
    "phi = 4*inside/n\n",
    "print(\"Nilai phi yang diperoleh yaitu \" + str(phi))\n",
    "\n",
    "# Melakukan visualisasi \n",
    "fig, ax = plt.subplots()\n",
    "ax.set_aspect('equal')\n",
    "ax.scatter(x_inside, y_inside, color='y', marker='s')\n",
    "ax.scatter(x_outside, y_outside, color='r', marker='s')\n",
    "\n",
    "plt.draw()"
   ]
  }
 ],
 "metadata": {
  "kernelspec": {
   "display_name": "Python 3 (ipykernel)",
   "language": "python",
   "name": "python3"
  },
  "language_info": {
   "codemirror_mode": {
    "name": "ipython",
    "version": 3
   },
   "file_extension": ".py",
   "mimetype": "text/x-python",
   "name": "python",
   "nbconvert_exporter": "python",
   "pygments_lexer": "ipython3",
   "version": "3.9.12"
  }
 },
 "nbformat": 4,
 "nbformat_minor": 5
}
