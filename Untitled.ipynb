{
 "cells": [
  {
   "cell_type": "code",
   "execution_count": 1,
   "metadata": {},
   "outputs": [],
   "source": [
    "import yfinance as yf\n",
    "import pandas as pd\n",
    "import pandas_datareader as web\n",
    "import matplotlib.pyplot as plt\n",
    "import numpy as np"
   ]
  },
  {
   "cell_type": "code",
   "execution_count": null,
   "metadata": {},
   "outputs": [],
   "source": []
  },
  {
   "cell_type": "code",
   "execution_count": 2,
   "metadata": {},
   "outputs": [],
   "source": [
    "lq45 = pd.read_csv(\"JKLQ45.csv\")\n",
    "bbca = pd.read_csv(\"BBCA.JK.csv\")"
   ]
  },
  {
   "cell_type": "code",
   "execution_count": 6,
   "metadata": {
    "scrolled": true
   },
   "outputs": [],
   "source": [
    "lq45 = lq45[lq45[\"Volume\"] > 0]"
   ]
  },
  {
   "cell_type": "code",
   "execution_count": 10,
   "metadata": {
    "scrolled": true
   },
   "outputs": [
    {
     "data": {
      "text/html": [
       "<div>\n",
       "<style scoped>\n",
       "    .dataframe tbody tr th:only-of-type {\n",
       "        vertical-align: middle;\n",
       "    }\n",
       "\n",
       "    .dataframe tbody tr th {\n",
       "        vertical-align: top;\n",
       "    }\n",
       "\n",
       "    .dataframe thead th {\n",
       "        text-align: right;\n",
       "    }\n",
       "</style>\n",
       "<table border=\"1\" class=\"dataframe\">\n",
       "  <thead>\n",
       "    <tr style=\"text-align: right;\">\n",
       "      <th></th>\n",
       "      <th>Date</th>\n",
       "      <th>Open</th>\n",
       "      <th>High</th>\n",
       "      <th>Low</th>\n",
       "      <th>Close</th>\n",
       "      <th>Adj Close</th>\n",
       "      <th>Volume</th>\n",
       "    </tr>\n",
       "  </thead>\n",
       "  <tbody>\n",
       "    <tr>\n",
       "      <th>0</th>\n",
       "      <td>2003-04-30</td>\n",
       "      <td>97.750000</td>\n",
       "      <td>99.769997</td>\n",
       "      <td>97.180000</td>\n",
       "      <td>99.120003</td>\n",
       "      <td>99.120003</td>\n",
       "      <td>6.359000e+08</td>\n",
       "    </tr>\n",
       "    <tr>\n",
       "      <th>1</th>\n",
       "      <td>2003-05-01</td>\n",
       "      <td>99.500000</td>\n",
       "      <td>99.680000</td>\n",
       "      <td>98.760002</td>\n",
       "      <td>99.139999</td>\n",
       "      <td>99.139999</td>\n",
       "      <td>2.556000e+08</td>\n",
       "    </tr>\n",
       "    <tr>\n",
       "      <th>2</th>\n",
       "      <td>2003-05-02</td>\n",
       "      <td>99.070000</td>\n",
       "      <td>99.080002</td>\n",
       "      <td>97.730003</td>\n",
       "      <td>97.940002</td>\n",
       "      <td>97.940002</td>\n",
       "      <td>2.722000e+08</td>\n",
       "    </tr>\n",
       "    <tr>\n",
       "      <th>3</th>\n",
       "      <td>2003-05-05</td>\n",
       "      <td>97.940002</td>\n",
       "      <td>101.029999</td>\n",
       "      <td>97.940002</td>\n",
       "      <td>101.029999</td>\n",
       "      <td>101.029999</td>\n",
       "      <td>4.363000e+08</td>\n",
       "    </tr>\n",
       "    <tr>\n",
       "      <th>4</th>\n",
       "      <td>2003-05-06</td>\n",
       "      <td>101.089996</td>\n",
       "      <td>102.680000</td>\n",
       "      <td>101.089996</td>\n",
       "      <td>102.250000</td>\n",
       "      <td>102.250000</td>\n",
       "      <td>5.757000e+08</td>\n",
       "    </tr>\n",
       "    <tr>\n",
       "      <th>...</th>\n",
       "      <td>...</td>\n",
       "      <td>...</td>\n",
       "      <td>...</td>\n",
       "      <td>...</td>\n",
       "      <td>...</td>\n",
       "      <td>...</td>\n",
       "      <td>...</td>\n",
       "    </tr>\n",
       "    <tr>\n",
       "      <th>4704</th>\n",
       "      <td>2022-10-07</td>\n",
       "      <td>1010.679993</td>\n",
       "      <td>1010.760010</td>\n",
       "      <td>996.919983</td>\n",
       "      <td>999.390015</td>\n",
       "      <td>999.390015</td>\n",
       "      <td>1.433200e+09</td>\n",
       "    </tr>\n",
       "    <tr>\n",
       "      <th>4705</th>\n",
       "      <td>2022-10-10</td>\n",
       "      <td>999.369995</td>\n",
       "      <td>999.979980</td>\n",
       "      <td>987.299988</td>\n",
       "      <td>996.690002</td>\n",
       "      <td>996.690002</td>\n",
       "      <td>1.539500e+09</td>\n",
       "    </tr>\n",
       "    <tr>\n",
       "      <th>4706</th>\n",
       "      <td>2022-10-11</td>\n",
       "      <td>996.690002</td>\n",
       "      <td>998.200012</td>\n",
       "      <td>988.159973</td>\n",
       "      <td>988.429993</td>\n",
       "      <td>988.429993</td>\n",
       "      <td>1.918500e+09</td>\n",
       "    </tr>\n",
       "    <tr>\n",
       "      <th>4707</th>\n",
       "      <td>2022-10-12</td>\n",
       "      <td>988.429993</td>\n",
       "      <td>994.030029</td>\n",
       "      <td>978.500000</td>\n",
       "      <td>984.559998</td>\n",
       "      <td>984.559998</td>\n",
       "      <td>2.494700e+09</td>\n",
       "    </tr>\n",
       "    <tr>\n",
       "      <th>4708</th>\n",
       "      <td>2022-10-13</td>\n",
       "      <td>984.559998</td>\n",
       "      <td>988.599976</td>\n",
       "      <td>978.479980</td>\n",
       "      <td>978.479980</td>\n",
       "      <td>978.479980</td>\n",
       "      <td>1.996700e+09</td>\n",
       "    </tr>\n",
       "  </tbody>\n",
       "</table>\n",
       "<p>4709 rows × 7 columns</p>\n",
       "</div>"
      ],
      "text/plain": [
       "            Date         Open         High         Low       Close  \\\n",
       "0     2003-04-30    97.750000    99.769997   97.180000   99.120003   \n",
       "1     2003-05-01    99.500000    99.680000   98.760002   99.139999   \n",
       "2     2003-05-02    99.070000    99.080002   97.730003   97.940002   \n",
       "3     2003-05-05    97.940002   101.029999   97.940002  101.029999   \n",
       "4     2003-05-06   101.089996   102.680000  101.089996  102.250000   \n",
       "...          ...          ...          ...         ...         ...   \n",
       "4704  2022-10-07  1010.679993  1010.760010  996.919983  999.390015   \n",
       "4705  2022-10-10   999.369995   999.979980  987.299988  996.690002   \n",
       "4706  2022-10-11   996.690002   998.200012  988.159973  988.429993   \n",
       "4707  2022-10-12   988.429993   994.030029  978.500000  984.559998   \n",
       "4708  2022-10-13   984.559998   988.599976  978.479980  978.479980   \n",
       "\n",
       "       Adj Close        Volume  \n",
       "0      99.120003  6.359000e+08  \n",
       "1      99.139999  2.556000e+08  \n",
       "2      97.940002  2.722000e+08  \n",
       "3     101.029999  4.363000e+08  \n",
       "4     102.250000  5.757000e+08  \n",
       "...          ...           ...  \n",
       "4704  999.390015  1.433200e+09  \n",
       "4705  996.690002  1.539500e+09  \n",
       "4706  988.429993  1.918500e+09  \n",
       "4707  984.559998  2.494700e+09  \n",
       "4708  978.479980  1.996700e+09  \n",
       "\n",
       "[4709 rows x 7 columns]"
      ]
     },
     "execution_count": 10,
     "metadata": {},
     "output_type": "execute_result"
    }
   ],
   "source": [
    "lq45.reset_index(drop=True)"
   ]
  },
  {
   "cell_type": "code",
   "execution_count": 17,
   "metadata": {},
   "outputs": [
    {
     "name": "stderr",
     "output_type": "stream",
     "text": [
      "C:\\Users\\Dimas\\anaconda3\\lib\\site-packages\\ipykernel_launcher.py:1: SettingWithCopyWarning: \n",
      "A value is trying to be set on a copy of a slice from a DataFrame.\n",
      "Try using .loc[row_indexer,col_indexer] = value instead\n",
      "\n",
      "See the caveats in the documentation: https://pandas.pydata.org/pandas-docs/stable/user_guide/indexing.html#returning-a-view-versus-a-copy\n",
      "  \"\"\"Entry point for launching an IPython kernel.\n"
     ]
    }
   ],
   "source": [
    "lq45[\"volume\"] = lq45[\"Volume\"]/1000000"
   ]
  },
  {
   "cell_type": "code",
   "execution_count": 23,
   "metadata": {
    "scrolled": true
   },
   "outputs": [
    {
     "name": "stderr",
     "output_type": "stream",
     "text": [
      "C:\\Users\\Dimas\\anaconda3\\lib\\site-packages\\pandas\\core\\frame.py:4164: SettingWithCopyWarning: \n",
      "A value is trying to be set on a copy of a slice from a DataFrame\n",
      "\n",
      "See the caveats in the documentation: https://pandas.pydata.org/pandas-docs/stable/user_guide/indexing.html#returning-a-view-versus-a-copy\n",
      "  errors=errors,\n"
     ]
    }
   ],
   "source": [
    "lq45.drop(\"Volume\",axis=1,inplace=True)"
   ]
  },
  {
   "cell_type": "code",
   "execution_count": 24,
   "metadata": {},
   "outputs": [
    {
     "data": {
      "text/html": [
       "<div>\n",
       "<style scoped>\n",
       "    .dataframe tbody tr th:only-of-type {\n",
       "        vertical-align: middle;\n",
       "    }\n",
       "\n",
       "    .dataframe tbody tr th {\n",
       "        vertical-align: top;\n",
       "    }\n",
       "\n",
       "    .dataframe thead th {\n",
       "        text-align: right;\n",
       "    }\n",
       "</style>\n",
       "<table border=\"1\" class=\"dataframe\">\n",
       "  <thead>\n",
       "    <tr style=\"text-align: right;\">\n",
       "      <th></th>\n",
       "      <th>Date</th>\n",
       "      <th>Open</th>\n",
       "      <th>High</th>\n",
       "      <th>Low</th>\n",
       "      <th>Close</th>\n",
       "      <th>Adj Close</th>\n",
       "      <th>volume</th>\n",
       "    </tr>\n",
       "  </thead>\n",
       "  <tbody>\n",
       "    <tr>\n",
       "      <th>1612</th>\n",
       "      <td>2003-04-30</td>\n",
       "      <td>97.750000</td>\n",
       "      <td>99.769997</td>\n",
       "      <td>97.180000</td>\n",
       "      <td>99.120003</td>\n",
       "      <td>99.120003</td>\n",
       "      <td>635.9</td>\n",
       "    </tr>\n",
       "    <tr>\n",
       "      <th>1613</th>\n",
       "      <td>2003-05-01</td>\n",
       "      <td>99.500000</td>\n",
       "      <td>99.680000</td>\n",
       "      <td>98.760002</td>\n",
       "      <td>99.139999</td>\n",
       "      <td>99.139999</td>\n",
       "      <td>255.6</td>\n",
       "    </tr>\n",
       "    <tr>\n",
       "      <th>1614</th>\n",
       "      <td>2003-05-02</td>\n",
       "      <td>99.070000</td>\n",
       "      <td>99.080002</td>\n",
       "      <td>97.730003</td>\n",
       "      <td>97.940002</td>\n",
       "      <td>97.940002</td>\n",
       "      <td>272.2</td>\n",
       "    </tr>\n",
       "    <tr>\n",
       "      <th>1615</th>\n",
       "      <td>2003-05-05</td>\n",
       "      <td>97.940002</td>\n",
       "      <td>101.029999</td>\n",
       "      <td>97.940002</td>\n",
       "      <td>101.029999</td>\n",
       "      <td>101.029999</td>\n",
       "      <td>436.3</td>\n",
       "    </tr>\n",
       "    <tr>\n",
       "      <th>1616</th>\n",
       "      <td>2003-05-06</td>\n",
       "      <td>101.089996</td>\n",
       "      <td>102.680000</td>\n",
       "      <td>101.089996</td>\n",
       "      <td>102.250000</td>\n",
       "      <td>102.250000</td>\n",
       "      <td>575.7</td>\n",
       "    </tr>\n",
       "    <tr>\n",
       "      <th>...</th>\n",
       "      <td>...</td>\n",
       "      <td>...</td>\n",
       "      <td>...</td>\n",
       "      <td>...</td>\n",
       "      <td>...</td>\n",
       "      <td>...</td>\n",
       "      <td>...</td>\n",
       "    </tr>\n",
       "    <tr>\n",
       "      <th>6450</th>\n",
       "      <td>2022-10-07</td>\n",
       "      <td>1010.679993</td>\n",
       "      <td>1010.760010</td>\n",
       "      <td>996.919983</td>\n",
       "      <td>999.390015</td>\n",
       "      <td>999.390015</td>\n",
       "      <td>1433.2</td>\n",
       "    </tr>\n",
       "    <tr>\n",
       "      <th>6451</th>\n",
       "      <td>2022-10-10</td>\n",
       "      <td>999.369995</td>\n",
       "      <td>999.979980</td>\n",
       "      <td>987.299988</td>\n",
       "      <td>996.690002</td>\n",
       "      <td>996.690002</td>\n",
       "      <td>1539.5</td>\n",
       "    </tr>\n",
       "    <tr>\n",
       "      <th>6452</th>\n",
       "      <td>2022-10-11</td>\n",
       "      <td>996.690002</td>\n",
       "      <td>998.200012</td>\n",
       "      <td>988.159973</td>\n",
       "      <td>988.429993</td>\n",
       "      <td>988.429993</td>\n",
       "      <td>1918.5</td>\n",
       "    </tr>\n",
       "    <tr>\n",
       "      <th>6453</th>\n",
       "      <td>2022-10-12</td>\n",
       "      <td>988.429993</td>\n",
       "      <td>994.030029</td>\n",
       "      <td>978.500000</td>\n",
       "      <td>984.559998</td>\n",
       "      <td>984.559998</td>\n",
       "      <td>2494.7</td>\n",
       "    </tr>\n",
       "    <tr>\n",
       "      <th>6454</th>\n",
       "      <td>2022-10-13</td>\n",
       "      <td>984.559998</td>\n",
       "      <td>988.599976</td>\n",
       "      <td>978.479980</td>\n",
       "      <td>978.479980</td>\n",
       "      <td>978.479980</td>\n",
       "      <td>1996.7</td>\n",
       "    </tr>\n",
       "  </tbody>\n",
       "</table>\n",
       "<p>4709 rows × 7 columns</p>\n",
       "</div>"
      ],
      "text/plain": [
       "            Date         Open         High         Low       Close  \\\n",
       "1612  2003-04-30    97.750000    99.769997   97.180000   99.120003   \n",
       "1613  2003-05-01    99.500000    99.680000   98.760002   99.139999   \n",
       "1614  2003-05-02    99.070000    99.080002   97.730003   97.940002   \n",
       "1615  2003-05-05    97.940002   101.029999   97.940002  101.029999   \n",
       "1616  2003-05-06   101.089996   102.680000  101.089996  102.250000   \n",
       "...          ...          ...          ...         ...         ...   \n",
       "6450  2022-10-07  1010.679993  1010.760010  996.919983  999.390015   \n",
       "6451  2022-10-10   999.369995   999.979980  987.299988  996.690002   \n",
       "6452  2022-10-11   996.690002   998.200012  988.159973  988.429993   \n",
       "6453  2022-10-12   988.429993   994.030029  978.500000  984.559998   \n",
       "6454  2022-10-13   984.559998   988.599976  978.479980  978.479980   \n",
       "\n",
       "       Adj Close  volume  \n",
       "1612   99.120003   635.9  \n",
       "1613   99.139999   255.6  \n",
       "1614   97.940002   272.2  \n",
       "1615  101.029999   436.3  \n",
       "1616  102.250000   575.7  \n",
       "...          ...     ...  \n",
       "6450  999.390015  1433.2  \n",
       "6451  996.690002  1539.5  \n",
       "6452  988.429993  1918.5  \n",
       "6453  984.559998  2494.7  \n",
       "6454  978.479980  1996.7  \n",
       "\n",
       "[4709 rows x 7 columns]"
      ]
     },
     "execution_count": 24,
     "metadata": {},
     "output_type": "execute_result"
    }
   ],
   "source": [
    "lq45"
   ]
  },
  {
   "cell_type": "code",
   "execution_count": 25,
   "metadata": {},
   "outputs": [
    {
     "data": {
      "text/plain": [
       "0        41336000\n",
       "1       101701000\n",
       "2        55210500\n",
       "3        78009000\n",
       "4       103776500\n",
       "          ...    \n",
       "1248     66753500\n",
       "1249     91812300\n",
       "1250    122777800\n",
       "1251     89416500\n",
       "1252     84696300\n",
       "Name: Volume, Length: 1253, dtype: int64"
      ]
     },
     "execution_count": 25,
     "metadata": {},
     "output_type": "execute_result"
    }
   ],
   "source": [
    "bbca['Volume']"
   ]
  },
  {
   "cell_type": "code",
   "execution_count": 26,
   "metadata": {
    "scrolled": true
   },
   "outputs": [
    {
     "data": {
      "text/html": [
       "<div>\n",
       "<style scoped>\n",
       "    .dataframe tbody tr th:only-of-type {\n",
       "        vertical-align: middle;\n",
       "    }\n",
       "\n",
       "    .dataframe tbody tr th {\n",
       "        vertical-align: top;\n",
       "    }\n",
       "\n",
       "    .dataframe thead th {\n",
       "        text-align: right;\n",
       "    }\n",
       "</style>\n",
       "<table border=\"1\" class=\"dataframe\">\n",
       "  <thead>\n",
       "    <tr style=\"text-align: right;\">\n",
       "      <th></th>\n",
       "      <th>Open</th>\n",
       "      <th>High</th>\n",
       "      <th>Low</th>\n",
       "      <th>Close</th>\n",
       "      <th>Adj Close</th>\n",
       "      <th>Volume</th>\n",
       "    </tr>\n",
       "  </thead>\n",
       "  <tbody>\n",
       "    <tr>\n",
       "      <th>count</th>\n",
       "      <td>1253.000000</td>\n",
       "      <td>1253.000000</td>\n",
       "      <td>1253.000000</td>\n",
       "      <td>1253.000000</td>\n",
       "      <td>1253.000000</td>\n",
       "      <td>1.253000e+03</td>\n",
       "    </tr>\n",
       "    <tr>\n",
       "      <th>mean</th>\n",
       "      <td>6069.664804</td>\n",
       "      <td>6126.380686</td>\n",
       "      <td>6009.668795</td>\n",
       "      <td>6068.627294</td>\n",
       "      <td>5841.998015</td>\n",
       "      <td>8.139856e+07</td>\n",
       "    </tr>\n",
       "    <tr>\n",
       "      <th>std</th>\n",
       "      <td>1129.729430</td>\n",
       "      <td>1141.630613</td>\n",
       "      <td>1121.727486</td>\n",
       "      <td>1132.249852</td>\n",
       "      <td>1219.399471</td>\n",
       "      <td>4.913282e+07</td>\n",
       "    </tr>\n",
       "    <tr>\n",
       "      <th>min</th>\n",
       "      <td>4065.000000</td>\n",
       "      <td>4070.000000</td>\n",
       "      <td>4040.000000</td>\n",
       "      <td>4060.000000</td>\n",
       "      <td>3749.641357</td>\n",
       "      <td>0.000000e+00</td>\n",
       "    </tr>\n",
       "    <tr>\n",
       "      <th>25%</th>\n",
       "      <td>5160.000000</td>\n",
       "      <td>5205.000000</td>\n",
       "      <td>5100.000000</td>\n",
       "      <td>5165.000000</td>\n",
       "      <td>4854.478516</td>\n",
       "      <td>5.434900e+07</td>\n",
       "    </tr>\n",
       "    <tr>\n",
       "      <th>50%</th>\n",
       "      <td>6080.000000</td>\n",
       "      <td>6120.000000</td>\n",
       "      <td>6015.000000</td>\n",
       "      <td>6070.000000</td>\n",
       "      <td>5860.221680</td>\n",
       "      <td>7.206500e+07</td>\n",
       "    </tr>\n",
       "    <tr>\n",
       "      <th>75%</th>\n",
       "      <td>6820.000000</td>\n",
       "      <td>6890.000000</td>\n",
       "      <td>6740.000000</td>\n",
       "      <td>6800.000000</td>\n",
       "      <td>6522.434082</td>\n",
       "      <td>9.824950e+07</td>\n",
       "    </tr>\n",
       "    <tr>\n",
       "      <th>max</th>\n",
       "      <td>8825.000000</td>\n",
       "      <td>8900.000000</td>\n",
       "      <td>8725.000000</td>\n",
       "      <td>8900.000000</td>\n",
       "      <td>8900.000000</td>\n",
       "      <td>5.379715e+08</td>\n",
       "    </tr>\n",
       "  </tbody>\n",
       "</table>\n",
       "</div>"
      ],
      "text/plain": [
       "              Open         High          Low        Close    Adj Close  \\\n",
       "count  1253.000000  1253.000000  1253.000000  1253.000000  1253.000000   \n",
       "mean   6069.664804  6126.380686  6009.668795  6068.627294  5841.998015   \n",
       "std    1129.729430  1141.630613  1121.727486  1132.249852  1219.399471   \n",
       "min    4065.000000  4070.000000  4040.000000  4060.000000  3749.641357   \n",
       "25%    5160.000000  5205.000000  5100.000000  5165.000000  4854.478516   \n",
       "50%    6080.000000  6120.000000  6015.000000  6070.000000  5860.221680   \n",
       "75%    6820.000000  6890.000000  6740.000000  6800.000000  6522.434082   \n",
       "max    8825.000000  8900.000000  8725.000000  8900.000000  8900.000000   \n",
       "\n",
       "             Volume  \n",
       "count  1.253000e+03  \n",
       "mean   8.139856e+07  \n",
       "std    4.913282e+07  \n",
       "min    0.000000e+00  \n",
       "25%    5.434900e+07  \n",
       "50%    7.206500e+07  \n",
       "75%    9.824950e+07  \n",
       "max    5.379715e+08  "
      ]
     },
     "execution_count": 26,
     "metadata": {},
     "output_type": "execute_result"
    }
   ],
   "source": [
    "bbca.describe()"
   ]
  },
  {
   "cell_type": "code",
   "execution_count": 27,
   "metadata": {},
   "outputs": [],
   "source": [
    "bbca['Date']= pd.to_datetime(lq45['Date'])"
   ]
  },
  {
   "cell_type": "code",
   "execution_count": 30,
   "metadata": {},
   "outputs": [
    {
     "name": "stderr",
     "output_type": "stream",
     "text": [
      "C:\\Users\\Dimas\\anaconda3\\lib\\site-packages\\ipykernel_launcher.py:1: SettingWithCopyWarning: \n",
      "A value is trying to be set on a copy of a slice from a DataFrame.\n",
      "Try using .loc[row_indexer,col_indexer] = value instead\n",
      "\n",
      "See the caveats in the documentation: https://pandas.pydata.org/pandas-docs/stable/user_guide/indexing.html#returning-a-view-versus-a-copy\n",
      "  \"\"\"Entry point for launching an IPython kernel.\n"
     ]
    }
   ],
   "source": [
    "lq45[\"Date\"] = pd.to_datetime(lq45['Date'])"
   ]
  },
  {
   "cell_type": "code",
   "execution_count": 31,
   "metadata": {
    "scrolled": true
   },
   "outputs": [
    {
     "name": "stdout",
     "output_type": "stream",
     "text": [
      "<class 'pandas.core.frame.DataFrame'>\n",
      "RangeIndex: 1253 entries, 0 to 1252\n",
      "Data columns (total 7 columns):\n",
      " #   Column     Non-Null Count  Dtype         \n",
      "---  ------     --------------  -----         \n",
      " 0   Date       0 non-null      datetime64[ns]\n",
      " 1   Open       1253 non-null   float64       \n",
      " 2   High       1253 non-null   float64       \n",
      " 3   Low        1253 non-null   float64       \n",
      " 4   Close      1253 non-null   float64       \n",
      " 5   Adj Close  1253 non-null   float64       \n",
      " 6   Volume     1253 non-null   int64         \n",
      "dtypes: datetime64[ns](1), float64(5), int64(1)\n",
      "memory usage: 68.6 KB\n"
     ]
    }
   ],
   "source": [
    "bbca.info()"
   ]
  },
  {
   "cell_type": "code",
   "execution_count": 6,
   "metadata": {},
   "outputs": [],
   "source": [
    "newbbca = bbca.set_index(\"Date\")"
   ]
  },
  {
   "cell_type": "code",
   "execution_count": 32,
   "metadata": {},
   "outputs": [],
   "source": [
    "newlq45 = lq45.set_index(\"Date\")"
   ]
  },
  {
   "cell_type": "code",
   "execution_count": 48,
   "metadata": {},
   "outputs": [
    {
     "data": {
      "text/html": [
       "<div>\n",
       "<style scoped>\n",
       "    .dataframe tbody tr th:only-of-type {\n",
       "        vertical-align: middle;\n",
       "    }\n",
       "\n",
       "    .dataframe tbody tr th {\n",
       "        vertical-align: top;\n",
       "    }\n",
       "\n",
       "    .dataframe thead th {\n",
       "        text-align: right;\n",
       "    }\n",
       "</style>\n",
       "<table border=\"1\" class=\"dataframe\">\n",
       "  <thead>\n",
       "    <tr style=\"text-align: right;\">\n",
       "      <th></th>\n",
       "      <th>Open</th>\n",
       "      <th>High</th>\n",
       "      <th>Low</th>\n",
       "      <th>Close</th>\n",
       "      <th>Adj Close</th>\n",
       "      <th>volume</th>\n",
       "    </tr>\n",
       "    <tr>\n",
       "      <th>Date</th>\n",
       "      <th></th>\n",
       "      <th></th>\n",
       "      <th></th>\n",
       "      <th></th>\n",
       "      <th></th>\n",
       "      <th></th>\n",
       "    </tr>\n",
       "  </thead>\n",
       "  <tbody>\n",
       "    <tr>\n",
       "      <th>2022-09-16</th>\n",
       "      <td>1041.040039</td>\n",
       "      <td>1041.150024</td>\n",
       "      <td>1016.010010</td>\n",
       "      <td>1016.010010</td>\n",
       "      <td>4318.0</td>\n",
       "      <td>5940.1</td>\n",
       "    </tr>\n",
       "    <tr>\n",
       "      <th>2022-09-19</th>\n",
       "      <td>1016.020020</td>\n",
       "      <td>1032.079956</td>\n",
       "      <td>1013.469971</td>\n",
       "      <td>1024.729980</td>\n",
       "      <td>4406.0</td>\n",
       "      <td>3046.4</td>\n",
       "    </tr>\n",
       "    <tr>\n",
       "      <th>2022-09-20</th>\n",
       "      <td>1024.739990</td>\n",
       "      <td>1036.780029</td>\n",
       "      <td>1024.739990</td>\n",
       "      <td>1028.209961</td>\n",
       "      <td>4438.0</td>\n",
       "      <td>3301.9</td>\n",
       "    </tr>\n",
       "    <tr>\n",
       "      <th>2022-09-21</th>\n",
       "      <td>1028.189941</td>\n",
       "      <td>1029.930054</td>\n",
       "      <td>1019.030029</td>\n",
       "      <td>1029.219971</td>\n",
       "      <td>4440.0</td>\n",
       "      <td>2171.7</td>\n",
       "    </tr>\n",
       "    <tr>\n",
       "      <th>2022-09-22</th>\n",
       "      <td>1029.199951</td>\n",
       "      <td>1034.270020</td>\n",
       "      <td>1018.469971</td>\n",
       "      <td>1032.650024</td>\n",
       "      <td>4455.0</td>\n",
       "      <td>1865.5</td>\n",
       "    </tr>\n",
       "    <tr>\n",
       "      <th>2022-09-23</th>\n",
       "      <td>1032.670044</td>\n",
       "      <td>1032.670044</td>\n",
       "      <td>1023.489990</td>\n",
       "      <td>1025.630005</td>\n",
       "      <td>4415.0</td>\n",
       "      <td>2360.4</td>\n",
       "    </tr>\n",
       "    <tr>\n",
       "      <th>2022-09-26</th>\n",
       "      <td>1025.619995</td>\n",
       "      <td>1025.619995</td>\n",
       "      <td>1004.190002</td>\n",
       "      <td>1020.200012</td>\n",
       "      <td>4362.0</td>\n",
       "      <td>3300.8</td>\n",
       "    </tr>\n",
       "    <tr>\n",
       "      <th>2022-09-27</th>\n",
       "      <td>1020.200012</td>\n",
       "      <td>1021.299988</td>\n",
       "      <td>1011.479980</td>\n",
       "      <td>1015.979980</td>\n",
       "      <td>4316.0</td>\n",
       "      <td>2529.9</td>\n",
       "    </tr>\n",
       "    <tr>\n",
       "      <th>2022-09-28</th>\n",
       "      <td>1015.979980</td>\n",
       "      <td>1026.630005</td>\n",
       "      <td>1009.770020</td>\n",
       "      <td>1013.510010</td>\n",
       "      <td>4296.0</td>\n",
       "      <td>2298.4</td>\n",
       "    </tr>\n",
       "    <tr>\n",
       "      <th>2022-09-29</th>\n",
       "      <td>1013.520020</td>\n",
       "      <td>1022.690002</td>\n",
       "      <td>1006.969971</td>\n",
       "      <td>1009.039978</td>\n",
       "      <td>4263.0</td>\n",
       "      <td>1903.8</td>\n",
       "    </tr>\n",
       "    <tr>\n",
       "      <th>2022-09-30</th>\n",
       "      <td>1009.039978</td>\n",
       "      <td>1015.659973</td>\n",
       "      <td>993.450012</td>\n",
       "      <td>1011.479980</td>\n",
       "      <td>4282.0</td>\n",
       "      <td>3055.1</td>\n",
       "    </tr>\n",
       "    <tr>\n",
       "      <th>2022-10-03</th>\n",
       "      <td>1011.479980</td>\n",
       "      <td>1013.159973</td>\n",
       "      <td>1003.880005</td>\n",
       "      <td>1006.369995</td>\n",
       "      <td>4240.0</td>\n",
       "      <td>1958.6</td>\n",
       "    </tr>\n",
       "    <tr>\n",
       "      <th>2022-10-04</th>\n",
       "      <td>1006.400024</td>\n",
       "      <td>1021.140015</td>\n",
       "      <td>1006.400024</td>\n",
       "      <td>1014.650024</td>\n",
       "      <td>4305.0</td>\n",
       "      <td>2139.7</td>\n",
       "    </tr>\n",
       "    <tr>\n",
       "      <th>2022-10-05</th>\n",
       "      <td>1014.650024</td>\n",
       "      <td>1022.309998</td>\n",
       "      <td>1011.630005</td>\n",
       "      <td>1011.630005</td>\n",
       "      <td>4284.0</td>\n",
       "      <td>1918.1</td>\n",
       "    </tr>\n",
       "    <tr>\n",
       "      <th>2022-10-06</th>\n",
       "      <td>1011.630005</td>\n",
       "      <td>1021.679993</td>\n",
       "      <td>1009.580017</td>\n",
       "      <td>1010.679993</td>\n",
       "      <td>4274.0</td>\n",
       "      <td>2070.8</td>\n",
       "    </tr>\n",
       "    <tr>\n",
       "      <th>2022-10-07</th>\n",
       "      <td>1010.679993</td>\n",
       "      <td>1010.760010</td>\n",
       "      <td>996.919983</td>\n",
       "      <td>999.390015</td>\n",
       "      <td>4199.0</td>\n",
       "      <td>1433.2</td>\n",
       "    </tr>\n",
       "    <tr>\n",
       "      <th>2022-10-10</th>\n",
       "      <td>999.369995</td>\n",
       "      <td>999.979980</td>\n",
       "      <td>987.299988</td>\n",
       "      <td>996.690002</td>\n",
       "      <td>4186.0</td>\n",
       "      <td>1539.5</td>\n",
       "    </tr>\n",
       "    <tr>\n",
       "      <th>2022-10-11</th>\n",
       "      <td>996.690002</td>\n",
       "      <td>998.200012</td>\n",
       "      <td>988.159973</td>\n",
       "      <td>988.429993</td>\n",
       "      <td>4136.0</td>\n",
       "      <td>1918.5</td>\n",
       "    </tr>\n",
       "    <tr>\n",
       "      <th>2022-10-12</th>\n",
       "      <td>988.429993</td>\n",
       "      <td>994.030029</td>\n",
       "      <td>978.500000</td>\n",
       "      <td>984.559998</td>\n",
       "      <td>4100.0</td>\n",
       "      <td>2494.7</td>\n",
       "    </tr>\n",
       "    <tr>\n",
       "      <th>2022-10-13</th>\n",
       "      <td>984.559998</td>\n",
       "      <td>988.599976</td>\n",
       "      <td>978.479980</td>\n",
       "      <td>978.479980</td>\n",
       "      <td>4051.0</td>\n",
       "      <td>1996.7</td>\n",
       "    </tr>\n",
       "  </tbody>\n",
       "</table>\n",
       "</div>"
      ],
      "text/plain": [
       "                   Open         High          Low        Close  Adj Close  \\\n",
       "Date                                                                        \n",
       "2022-09-16  1041.040039  1041.150024  1016.010010  1016.010010     4318.0   \n",
       "2022-09-19  1016.020020  1032.079956  1013.469971  1024.729980     4406.0   \n",
       "2022-09-20  1024.739990  1036.780029  1024.739990  1028.209961     4438.0   \n",
       "2022-09-21  1028.189941  1029.930054  1019.030029  1029.219971     4440.0   \n",
       "2022-09-22  1029.199951  1034.270020  1018.469971  1032.650024     4455.0   \n",
       "2022-09-23  1032.670044  1032.670044  1023.489990  1025.630005     4415.0   \n",
       "2022-09-26  1025.619995  1025.619995  1004.190002  1020.200012     4362.0   \n",
       "2022-09-27  1020.200012  1021.299988  1011.479980  1015.979980     4316.0   \n",
       "2022-09-28  1015.979980  1026.630005  1009.770020  1013.510010     4296.0   \n",
       "2022-09-29  1013.520020  1022.690002  1006.969971  1009.039978     4263.0   \n",
       "2022-09-30  1009.039978  1015.659973   993.450012  1011.479980     4282.0   \n",
       "2022-10-03  1011.479980  1013.159973  1003.880005  1006.369995     4240.0   \n",
       "2022-10-04  1006.400024  1021.140015  1006.400024  1014.650024     4305.0   \n",
       "2022-10-05  1014.650024  1022.309998  1011.630005  1011.630005     4284.0   \n",
       "2022-10-06  1011.630005  1021.679993  1009.580017  1010.679993     4274.0   \n",
       "2022-10-07  1010.679993  1010.760010   996.919983   999.390015     4199.0   \n",
       "2022-10-10   999.369995   999.979980   987.299988   996.690002     4186.0   \n",
       "2022-10-11   996.690002   998.200012   988.159973   988.429993     4136.0   \n",
       "2022-10-12   988.429993   994.030029   978.500000   984.559998     4100.0   \n",
       "2022-10-13   984.559998   988.599976   978.479980   978.479980     4051.0   \n",
       "\n",
       "            volume  \n",
       "Date                \n",
       "2022-09-16  5940.1  \n",
       "2022-09-19  3046.4  \n",
       "2022-09-20  3301.9  \n",
       "2022-09-21  2171.7  \n",
       "2022-09-22  1865.5  \n",
       "2022-09-23  2360.4  \n",
       "2022-09-26  3300.8  \n",
       "2022-09-27  2529.9  \n",
       "2022-09-28  2298.4  \n",
       "2022-09-29  1903.8  \n",
       "2022-09-30  3055.1  \n",
       "2022-10-03  1958.6  \n",
       "2022-10-04  2139.7  \n",
       "2022-10-05  1918.1  \n",
       "2022-10-06  2070.8  \n",
       "2022-10-07  1433.2  \n",
       "2022-10-10  1539.5  \n",
       "2022-10-11  1918.5  \n",
       "2022-10-12  2494.7  \n",
       "2022-10-13  1996.7  "
      ]
     },
     "execution_count": 48,
     "metadata": {},
     "output_type": "execute_result"
    }
   ],
   "source": [
    "newlq45.tail(20)"
   ]
  },
  {
   "cell_type": "code",
   "execution_count": 8,
   "metadata": {
    "scrolled": true
   },
   "outputs": [
    {
     "data": {
      "text/plain": [
       "<matplotlib.axes._subplots.AxesSubplot at 0x21b4b56b408>"
      ]
     },
     "execution_count": 8,
     "metadata": {},
     "output_type": "execute_result"
    },
    {
     "data": {
      "image/png": "[encoded data removed]",
      "text/plain": [
       "<Figure size 432x288 with 1 Axes>"
      ]
     },
     "metadata": {
      "needs_background": "light"
     },
     "output_type": "display_data"
    }
   ],
   "source": [
    "newbbca[[\"Adj Close\"]].plot()"
   ]
  },
  {
   "cell_type": "code",
   "execution_count": 33,
   "metadata": {},
   "outputs": [
    {
     "data": {
      "text/plain": [
       "<matplotlib.axes._subplots.AxesSubplot at 0x26299ea5588>"
      ]
     },
     "execution_count": 33,
     "metadata": {},
     "output_type": "execute_result"
    },
    {
     "data": {
      "image/png": "[encoded data removed]",
      "text/plain": [
       "<Figure size 432x288 with 1 Axes>"
      ]
     },
     "metadata": {
      "needs_background": "light"
     },
     "output_type": "display_data"
    }
   ],
   "source": [
    "newlq45[[\"Adj Close\"]].plot()"
   ]
  },
  {
   "cell_type": "code",
   "execution_count": 39,
   "metadata": {},
   "outputs": [],
   "source": [
    "# convert series to supervised learning\n",
    "from pandas import DataFrame,concat\n",
    "def series_to_supervised(data, n_in=1, n_out=1, dropnan=True):\n",
    "\tn_vars = 1 if type(data) is list else data.shape[1]\n",
    "\tdf = DataFrame(data)\n",
    "\tcols, names = list(), list()\n",
    "\t# input sequence (t-n, ... t-1)\n",
    "\tfor i in range(n_in, 0, -1):\n",
    "\t\tcols.append(df.shift(i))\n",
    "\t\tnames += [('var%d(t-%d)' % (j+1, i)) for j in range(n_vars)]\n",
    "\t# forecast sequence (t, t+1, ... t+n)\n",
    "\tfor i in range(0, n_out):\n",
    "\t\tcols.append(df.shift(-i))\n",
    "\t\tif i == 0:\n",
    "\t\t\tnames += [('var%d(t)' % (j+1)) for j in range(n_vars)]\n",
    "\t\telse:\n",
    "\t\t\tnames += [('var%d(t+%d)' % (j+1, i)) for j in range(n_vars)]\n",
    "\t# put it all together\n",
    "\tagg = concat(cols, axis=1)\n",
    "\tagg.columns = names\n",
    "\t# drop rows with NaN values\n",
    "\tif dropnan:\n",
    "\t\tagg.dropna(inplace=True)\n",
    "\treturn agg"
   ]
  },
  {
   "cell_type": "code",
   "execution_count": null,
   "metadata": {},
   "outputs": [],
   "source": []
  },
  {
   "cell_type": "code",
   "execution_count": 10,
   "metadata": {},
   "outputs": [
    {
     "data": {
      "text/plain": [
       "array([[4.16000000e+03, 4.20000000e+03, 4.12000000e+03, 4.15500000e+03,\n",
       "        3.83737915e+03, 4.13360000e+07],\n",
       "       [4.15000000e+03, 4.15000000e+03, 4.04000000e+03, 4.06000000e+03,\n",
       "        3.74964136e+03, 1.01701000e+08],\n",
       "       [4.06500000e+03, 4.09500000e+03, 4.06000000e+03, 4.08500000e+03,\n",
       "        3.77273022e+03, 5.52105000e+07],\n",
       "       ...,\n",
       "       [8.45000000e+03, 8.72500000e+03, 8.45000000e+03, 8.65000000e+03,\n",
       "        8.65000000e+03, 1.22777800e+08],\n",
       "       [8.75000000e+03, 8.90000000e+03, 8.72500000e+03, 8.90000000e+03,\n",
       "        8.90000000e+03, 8.94165000e+07],\n",
       "       [8.82500000e+03, 8.87500000e+03, 8.70000000e+03, 8.70000000e+03,\n",
       "        8.70000000e+03, 8.46963000e+07]])"
      ]
     },
     "execution_count": 10,
     "metadata": {},
     "output_type": "execute_result"
    }
   ],
   "source": [
    "values = newbbca.values\n",
    "\n",
    "values"
   ]
  },
  {
   "cell_type": "code",
   "execution_count": 36,
   "metadata": {},
   "outputs": [
    {
     "data": {
      "text/plain": [
       "array([[  97.75    ,   99.769997,   97.18    ,   99.120003,   99.120003,\n",
       "         635.9     ],\n",
       "       [  99.5     ,   99.68    ,   98.760002,   99.139999,   99.139999,\n",
       "         255.6     ],\n",
       "       [  99.07    ,   99.080002,   97.730003,   97.940002,   97.940002,\n",
       "         272.2     ],\n",
       "       ...,\n",
       "       [ 996.690002,  998.200012,  988.159973,  988.429993,  988.429993,\n",
       "        1918.5     ],\n",
       "       [ 988.429993,  994.030029,  978.5     ,  984.559998,  984.559998,\n",
       "        2494.7     ],\n",
       "       [ 984.559998,  988.599976,  978.47998 ,  978.47998 ,  978.47998 ,\n",
       "        1996.7     ]])"
      ]
     },
     "execution_count": 36,
     "metadata": {},
     "output_type": "execute_result"
    }
   ],
   "source": [
    "values2 = newlq45.values\n",
    "\n",
    "values2"
   ]
  },
  {
   "cell_type": "code",
   "execution_count": 40,
   "metadata": {},
   "outputs": [
    {
     "name": "stdout",
     "output_type": "stream",
     "text": [
      "   var1(t-1)  var2(t-1)  var3(t-1)  var4(t-1)  var5(t-1)  var6(t-1)   var1(t)  \\\n",
      "1   0.000000   0.000667   0.000000   0.001141   0.000220   0.042470  0.001692   \n",
      "2   0.001692   0.000580   0.001544   0.001160   0.000439   0.012747  0.001276   \n",
      "3   0.001276   0.000000   0.000537   0.000000   0.000000   0.014045  0.000184   \n",
      "4   0.000184   0.001886   0.000743   0.002988   0.000659   0.026870  0.003228   \n",
      "5   0.003228   0.003482   0.003821   0.004167   0.001098   0.037765  0.004292   \n",
      "\n",
      "    var2(t)   var3(t)   var4(t)   var5(t)   var6(t)  \n",
      "1  0.000580  0.001544  0.001160  0.000439  0.012747  \n",
      "2  0.000000  0.000537  0.000000  0.000000  0.014045  \n",
      "3  0.001886  0.000743  0.002988  0.000659  0.026870  \n",
      "4  0.003482  0.003821  0.004167  0.001098  0.037765  \n",
      "5  0.005494  0.004808  0.006507  0.002636  0.042994  \n"
     ]
    }
   ],
   "source": [
    "from sklearn.preprocessing import LabelEncoder\n",
    "from sklearn.preprocessing import MinMaxScaler\n",
    "\n",
    "encoder = LabelEncoder()\n",
    "# values[:,4] = encoder.fit_transform(values[:,4])\n",
    "values2[:,4] = encoder.fit_transform(values2[:,4])\n",
    "# ensure all data is float\n",
    "values2 = values2.astype('float32')\n",
    "# normalize features\n",
    "scaler = MinMaxScaler(feature_range=(0, 1))\n",
    "scaled = scaler.fit_transform(values2)\n",
    "# frame as supervised learning\n",
    "reframed = series_to_supervised(scaled, 1, 1)\n",
    "# drop columns we don't want to predict\n",
    "# reframed.drop(reframed.columns[[9,10,11,12,13,14,15]], axis=1, inplace=True)\n",
    "print(reframed.head())"
   ]
  },
  {
   "cell_type": "code",
   "execution_count": 61,
   "metadata": {},
   "outputs": [
    {
     "data": {
      "text/plain": [
       "array([[0.0000000e+00, 6.6740811e-04, 0.0000000e+00, 1.1409223e-03,\n",
       "        2.1963540e-04, 4.2470049e-02],\n",
       "       [1.6915575e-03, 5.8036298e-04, 1.5439317e-03, 1.1602566e-03,\n",
       "        4.3927081e-04, 1.2747266e-02],\n",
       "       [1.2759194e-03, 0.0000000e+00, 5.3744763e-04, 0.0000000e+00,\n",
       "        0.0000000e+00, 1.4044660e-02],\n",
       "       ...,\n",
       "       [8.6891884e-01, 8.6968958e-01, 8.7064177e-01, 8.6100072e-01,\n",
       "        9.0841204e-01, 1.4271310e-01],\n",
       "       [8.6093467e-01, 8.6565614e-01, 8.6120230e-01, 8.5725886e-01,\n",
       "        9.0050513e-01, 1.8774667e-01],\n",
       "       [8.5719395e-01, 8.6040378e-01, 8.6118275e-01, 8.5138017e-01,\n",
       "        8.8974303e-01, 1.4882492e-01]], dtype=float32)"
      ]
     },
     "execution_count": 61,
     "metadata": {},
     "output_type": "execute_result"
    }
   ],
   "source": [
    "scaled"
   ]
  },
  {
   "cell_type": "code",
   "execution_count": 44,
   "metadata": {},
   "outputs": [
    {
     "name": "stdout",
     "output_type": "stream",
     "text": [
      "(3700, 1, 11) (3700,) (1008, 1, 11) (1008,)\n"
     ]
    }
   ],
   "source": [
    "# split into train and test sets\n",
    "values = reframed.values\n",
    "# n_train_hours = 365 * 24\n",
    "train = values[:3700, :]\n",
    "test = values[3700:, :]\n",
    "# split into input and outputs\n",
    "train_X, train_y = train[:, :-1], train[:, -1]\n",
    "test_X, test_y = test[:, :-1], test[:, -1]\n",
    "# reshape input to be 3D [samples, timesteps, features]\n",
    "train_X = train_X.reshape((train_X.shape[0], 1, train_X.shape[1]))\n",
    "test_X = test_X.reshape((test_X.shape[0], 1, test_X.shape[1]))\n",
    "print(train_X.shape, train_y.shape, test_X.shape, test_y.shape)"
   ]
  },
  {
   "cell_type": "code",
   "execution_count": 76,
   "metadata": {},
   "outputs": [
    {
     "data": {
      "text/plain": [
       "array([[0.00000000e+00, 6.67408109e-04, 0.00000000e+00, ...,\n",
       "        1.16025656e-03, 4.39270807e-04, 1.27472663e-02],\n",
       "       [1.69155747e-03, 5.80362976e-04, 1.54393166e-03, ...,\n",
       "        0.00000000e+00, 0.00000000e+00, 1.40446601e-02],\n",
       "       [1.27591938e-03, 0.00000000e+00, 5.37447631e-04, ...,\n",
       "        2.98766792e-03, 6.58906181e-04, 2.68700793e-02],\n",
       "       ...,\n",
       "       [8.13348770e-01, 8.21123064e-01, 8.20415080e-01, ...,\n",
       "        8.27266097e-01, 8.44717741e-01, 2.50123084e-01],\n",
       "       [8.23130786e-01, 8.26491416e-01, 8.29795897e-01, ...,\n",
       "        8.08266878e-01, 7.99472868e-01, 2.76360095e-01],\n",
       "       [8.23536754e-01, 8.22825491e-01, 8.10291588e-01, ...,\n",
       "        8.28039646e-01, 8.47353399e-01, 1.16804354e-01]], dtype=float32)"
      ]
     },
     "execution_count": 76,
     "metadata": {},
     "output_type": "execute_result"
    }
   ],
   "source": [
    "train"
   ]
  },
  {
   "cell_type": "code",
   "execution_count": 72,
   "metadata": {},
   "outputs": [
    {
     "data": {
      "text/html": [
       "<div>\n",
       "<style scoped>\n",
       "    .dataframe tbody tr th:only-of-type {\n",
       "        vertical-align: middle;\n",
       "    }\n",
       "\n",
       "    .dataframe tbody tr th {\n",
       "        vertical-align: top;\n",
       "    }\n",
       "\n",
       "    .dataframe thead th {\n",
       "        text-align: right;\n",
       "    }\n",
       "</style>\n",
       "<table border=\"1\" class=\"dataframe\">\n",
       "  <thead>\n",
       "    <tr style=\"text-align: right;\">\n",
       "      <th></th>\n",
       "      <th>var1(t-1)</th>\n",
       "      <th>var2(t-1)</th>\n",
       "      <th>var3(t-1)</th>\n",
       "      <th>var4(t-1)</th>\n",
       "      <th>var5(t-1)</th>\n",
       "      <th>var6(t-1)</th>\n",
       "      <th>var1(t)</th>\n",
       "      <th>var2(t)</th>\n",
       "      <th>var3(t)</th>\n",
       "      <th>var4(t)</th>\n",
       "      <th>var5(t)</th>\n",
       "      <th>var6(t)</th>\n",
       "    </tr>\n",
       "  </thead>\n",
       "  <tbody>\n",
       "    <tr>\n",
       "      <th>1</th>\n",
       "      <td>0.000000</td>\n",
       "      <td>0.000667</td>\n",
       "      <td>0.000000</td>\n",
       "      <td>0.001141</td>\n",
       "      <td>0.000220</td>\n",
       "      <td>0.042470</td>\n",
       "      <td>0.001692</td>\n",
       "      <td>0.000580</td>\n",
       "      <td>0.001544</td>\n",
       "      <td>0.001160</td>\n",
       "      <td>0.000439</td>\n",
       "      <td>0.012747</td>\n",
       "    </tr>\n",
       "    <tr>\n",
       "      <th>2</th>\n",
       "      <td>0.001692</td>\n",
       "      <td>0.000580</td>\n",
       "      <td>0.001544</td>\n",
       "      <td>0.001160</td>\n",
       "      <td>0.000439</td>\n",
       "      <td>0.012747</td>\n",
       "      <td>0.001276</td>\n",
       "      <td>0.000000</td>\n",
       "      <td>0.000537</td>\n",
       "      <td>0.000000</td>\n",
       "      <td>0.000000</td>\n",
       "      <td>0.014045</td>\n",
       "    </tr>\n",
       "    <tr>\n",
       "      <th>3</th>\n",
       "      <td>0.001276</td>\n",
       "      <td>0.000000</td>\n",
       "      <td>0.000537</td>\n",
       "      <td>0.000000</td>\n",
       "      <td>0.000000</td>\n",
       "      <td>0.014045</td>\n",
       "      <td>0.000184</td>\n",
       "      <td>0.001886</td>\n",
       "      <td>0.000743</td>\n",
       "      <td>0.002988</td>\n",
       "      <td>0.000659</td>\n",
       "      <td>0.026870</td>\n",
       "    </tr>\n",
       "    <tr>\n",
       "      <th>4</th>\n",
       "      <td>0.000184</td>\n",
       "      <td>0.001886</td>\n",
       "      <td>0.000743</td>\n",
       "      <td>0.002988</td>\n",
       "      <td>0.000659</td>\n",
       "      <td>0.026870</td>\n",
       "      <td>0.003228</td>\n",
       "      <td>0.003482</td>\n",
       "      <td>0.003821</td>\n",
       "      <td>0.004167</td>\n",
       "      <td>0.001098</td>\n",
       "      <td>0.037765</td>\n",
       "    </tr>\n",
       "    <tr>\n",
       "      <th>5</th>\n",
       "      <td>0.003228</td>\n",
       "      <td>0.003482</td>\n",
       "      <td>0.003821</td>\n",
       "      <td>0.004167</td>\n",
       "      <td>0.001098</td>\n",
       "      <td>0.037765</td>\n",
       "      <td>0.004292</td>\n",
       "      <td>0.005494</td>\n",
       "      <td>0.004808</td>\n",
       "      <td>0.006507</td>\n",
       "      <td>0.002636</td>\n",
       "      <td>0.042994</td>\n",
       "    </tr>\n",
       "    <tr>\n",
       "      <th>...</th>\n",
       "      <td>...</td>\n",
       "      <td>...</td>\n",
       "      <td>...</td>\n",
       "      <td>...</td>\n",
       "      <td>...</td>\n",
       "      <td>...</td>\n",
       "      <td>...</td>\n",
       "      <td>...</td>\n",
       "      <td>...</td>\n",
       "      <td>...</td>\n",
       "      <td>...</td>\n",
       "      <td>...</td>\n",
       "    </tr>\n",
       "    <tr>\n",
       "      <th>4704</th>\n",
       "      <td>0.883360</td>\n",
       "      <td>0.892401</td>\n",
       "      <td>0.891573</td>\n",
       "      <td>0.882514</td>\n",
       "      <td>0.938722</td>\n",
       "      <td>0.154616</td>\n",
       "      <td>0.882442</td>\n",
       "      <td>0.881839</td>\n",
       "      <td>0.879202</td>\n",
       "      <td>0.871598</td>\n",
       "      <td>0.922249</td>\n",
       "      <td>0.104784</td>\n",
       "    </tr>\n",
       "    <tr>\n",
       "      <th>4705</th>\n",
       "      <td>0.882442</td>\n",
       "      <td>0.881839</td>\n",
       "      <td>0.879202</td>\n",
       "      <td>0.871598</td>\n",
       "      <td>0.922249</td>\n",
       "      <td>0.104784</td>\n",
       "      <td>0.871509</td>\n",
       "      <td>0.871411</td>\n",
       "      <td>0.869801</td>\n",
       "      <td>0.868987</td>\n",
       "      <td>0.919394</td>\n",
       "      <td>0.113092</td>\n",
       "    </tr>\n",
       "    <tr>\n",
       "      <th>4706</th>\n",
       "      <td>0.871509</td>\n",
       "      <td>0.871411</td>\n",
       "      <td>0.869801</td>\n",
       "      <td>0.868987</td>\n",
       "      <td>0.919394</td>\n",
       "      <td>0.113092</td>\n",
       "      <td>0.868919</td>\n",
       "      <td>0.869690</td>\n",
       "      <td>0.870642</td>\n",
       "      <td>0.861001</td>\n",
       "      <td>0.908412</td>\n",
       "      <td>0.142713</td>\n",
       "    </tr>\n",
       "    <tr>\n",
       "      <th>4707</th>\n",
       "      <td>0.868919</td>\n",
       "      <td>0.869690</td>\n",
       "      <td>0.870642</td>\n",
       "      <td>0.861001</td>\n",
       "      <td>0.908412</td>\n",
       "      <td>0.142713</td>\n",
       "      <td>0.860935</td>\n",
       "      <td>0.865656</td>\n",
       "      <td>0.861202</td>\n",
       "      <td>0.857259</td>\n",
       "      <td>0.900505</td>\n",
       "      <td>0.187747</td>\n",
       "    </tr>\n",
       "    <tr>\n",
       "      <th>4708</th>\n",
       "      <td>0.860935</td>\n",
       "      <td>0.865656</td>\n",
       "      <td>0.861202</td>\n",
       "      <td>0.857259</td>\n",
       "      <td>0.900505</td>\n",
       "      <td>0.187747</td>\n",
       "      <td>0.857194</td>\n",
       "      <td>0.860404</td>\n",
       "      <td>0.861183</td>\n",
       "      <td>0.851380</td>\n",
       "      <td>0.889743</td>\n",
       "      <td>0.148825</td>\n",
       "    </tr>\n",
       "  </tbody>\n",
       "</table>\n",
       "<p>4708 rows × 12 columns</p>\n",
       "</div>"
      ],
      "text/plain": [
       "      var1(t-1)  var2(t-1)  var3(t-1)  var4(t-1)  var5(t-1)  var6(t-1)  \\\n",
       "1      0.000000   0.000667   0.000000   0.001141   0.000220   0.042470   \n",
       "2      0.001692   0.000580   0.001544   0.001160   0.000439   0.012747   \n",
       "3      0.001276   0.000000   0.000537   0.000000   0.000000   0.014045   \n",
       "4      0.000184   0.001886   0.000743   0.002988   0.000659   0.026870   \n",
       "5      0.003228   0.003482   0.003821   0.004167   0.001098   0.037765   \n",
       "...         ...        ...        ...        ...        ...        ...   \n",
       "4704   0.883360   0.892401   0.891573   0.882514   0.938722   0.154616   \n",
       "4705   0.882442   0.881839   0.879202   0.871598   0.922249   0.104784   \n",
       "4706   0.871509   0.871411   0.869801   0.868987   0.919394   0.113092   \n",
       "4707   0.868919   0.869690   0.870642   0.861001   0.908412   0.142713   \n",
       "4708   0.860935   0.865656   0.861202   0.857259   0.900505   0.187747   \n",
       "\n",
       "       var1(t)   var2(t)   var3(t)   var4(t)   var5(t)   var6(t)  \n",
       "1     0.001692  0.000580  0.001544  0.001160  0.000439  0.012747  \n",
       "2     0.001276  0.000000  0.000537  0.000000  0.000000  0.014045  \n",
       "3     0.000184  0.001886  0.000743  0.002988  0.000659  0.026870  \n",
       "4     0.003228  0.003482  0.003821  0.004167  0.001098  0.037765  \n",
       "5     0.004292  0.005494  0.004808  0.006507  0.002636  0.042994  \n",
       "...        ...       ...       ...       ...       ...       ...  \n",
       "4704  0.882442  0.881839  0.879202  0.871598  0.922249  0.104784  \n",
       "4705  0.871509  0.871411  0.869801  0.868987  0.919394  0.113092  \n",
       "4706  0.868919  0.869690  0.870642  0.861001  0.908412  0.142713  \n",
       "4707  0.860935  0.865656  0.861202  0.857259  0.900505  0.187747  \n",
       "4708  0.857194  0.860404  0.861183  0.851380  0.889743  0.148825  \n",
       "\n",
       "[4708 rows x 12 columns]"
      ]
     },
     "execution_count": 72,
     "metadata": {},
     "output_type": "execute_result"
    }
   ],
   "source": [
    "reframed"
   ]
  },
  {
   "cell_type": "code",
   "execution_count": 73,
   "metadata": {},
   "outputs": [
    {
     "ename": "ValueError",
     "evalue": "Input 0 of layer lstm_2 is incompatible with the layer: expected ndim=3, found ndim=2. Full shape received: [None, 128]",
     "output_type": "error",
     "traceback": [
      "\u001b[1;31m---------------------------------------------------------------------------\u001b[0m",
      "\u001b[1;31mValueError\u001b[0m                                Traceback (most recent call last)",
      "\u001b[1;32m<ipython-input-73-5d0b34524dfb>\u001b[0m in \u001b[0;36m<module>\u001b[1;34m\u001b[0m\n\u001b[0;32m      6\u001b[0m \u001b[0mmodel\u001b[0m \u001b[1;33m=\u001b[0m \u001b[0mkeras\u001b[0m\u001b[1;33m.\u001b[0m\u001b[0mmodels\u001b[0m\u001b[1;33m.\u001b[0m\u001b[0mSequential\u001b[0m\u001b[1;33m(\u001b[0m\u001b[1;33m)\u001b[0m\u001b[1;33m\u001b[0m\u001b[1;33m\u001b[0m\u001b[0m\n\u001b[0;32m      7\u001b[0m \u001b[0mmodel\u001b[0m\u001b[1;33m.\u001b[0m\u001b[0madd\u001b[0m\u001b[1;33m(\u001b[0m\u001b[0mLSTM\u001b[0m\u001b[1;33m(\u001b[0m\u001b[1;36m128\u001b[0m\u001b[1;33m,\u001b[0m \u001b[0mactivation\u001b[0m \u001b[1;33m=\u001b[0m \u001b[1;34m'relu'\u001b[0m \u001b[1;33m,\u001b[0m\u001b[0minput_shape\u001b[0m\u001b[1;33m=\u001b[0m\u001b[1;33m(\u001b[0m\u001b[0mtrain_X\u001b[0m\u001b[1;33m.\u001b[0m\u001b[0mshape\u001b[0m\u001b[1;33m[\u001b[0m\u001b[1;36m1\u001b[0m\u001b[1;33m]\u001b[0m\u001b[1;33m,\u001b[0m \u001b[0mtrain_X\u001b[0m\u001b[1;33m.\u001b[0m\u001b[0mshape\u001b[0m\u001b[1;33m[\u001b[0m\u001b[1;36m2\u001b[0m\u001b[1;33m]\u001b[0m\u001b[1;33m)\u001b[0m\u001b[1;33m)\u001b[0m\u001b[1;33m)\u001b[0m\u001b[1;33m\u001b[0m\u001b[1;33m\u001b[0m\u001b[0m\n\u001b[1;32m----> 8\u001b[1;33m \u001b[0mmodel\u001b[0m\u001b[1;33m.\u001b[0m\u001b[0madd\u001b[0m\u001b[1;33m(\u001b[0m\u001b[0mLSTM\u001b[0m\u001b[1;33m(\u001b[0m\u001b[1;36m128\u001b[0m\u001b[1;33m,\u001b[0m\u001b[0mactivation\u001b[0m\u001b[1;33m=\u001b[0m\u001b[1;34m'relu'\u001b[0m\u001b[1;33m,\u001b[0m\u001b[0mreturn_sequences\u001b[0m\u001b[1;33m=\u001b[0m\u001b[1;32mTrue\u001b[0m\u001b[1;33m)\u001b[0m\u001b[1;33m)\u001b[0m\u001b[1;33m\u001b[0m\u001b[1;33m\u001b[0m\u001b[0m\n\u001b[0m\u001b[0;32m      9\u001b[0m \u001b[0mmodel\u001b[0m\u001b[1;33m.\u001b[0m\u001b[0madd\u001b[0m\u001b[1;33m(\u001b[0m\u001b[0mDense\u001b[0m\u001b[1;33m(\u001b[0m\u001b[1;36m1\u001b[0m\u001b[1;33m)\u001b[0m\u001b[1;33m)\u001b[0m\u001b[1;33m\u001b[0m\u001b[1;33m\u001b[0m\u001b[0m\n\u001b[0;32m     10\u001b[0m \u001b[0mmodel\u001b[0m\u001b[1;33m.\u001b[0m\u001b[0mcompile\u001b[0m\u001b[1;33m(\u001b[0m\u001b[0mloss\u001b[0m\u001b[1;33m=\u001b[0m\u001b[1;34m'mae'\u001b[0m\u001b[1;33m,\u001b[0m \u001b[0moptimizer\u001b[0m\u001b[1;33m=\u001b[0m\u001b[1;34m'adam'\u001b[0m\u001b[1;33m)\u001b[0m\u001b[1;33m\u001b[0m\u001b[1;33m\u001b[0m\u001b[0m\n",
      "\u001b[1;32m~\\anaconda3\\lib\\site-packages\\tensorflow\\python\\training\\checkpointable\\base.py\u001b[0m in \u001b[0;36m_method_wrapper\u001b[1;34m(self, *args, **kwargs)\u001b[0m\n\u001b[0;32m    440\u001b[0m     \u001b[0mself\u001b[0m\u001b[1;33m.\u001b[0m\u001b[0m_setattr_tracking\u001b[0m \u001b[1;33m=\u001b[0m \u001b[1;32mFalse\u001b[0m  \u001b[1;31m# pylint: disable=protected-access\u001b[0m\u001b[1;33m\u001b[0m\u001b[1;33m\u001b[0m\u001b[0m\n\u001b[0;32m    441\u001b[0m     \u001b[1;32mtry\u001b[0m\u001b[1;33m:\u001b[0m\u001b[1;33m\u001b[0m\u001b[1;33m\u001b[0m\u001b[0m\n\u001b[1;32m--> 442\u001b[1;33m       \u001b[0mmethod\u001b[0m\u001b[1;33m(\u001b[0m\u001b[0mself\u001b[0m\u001b[1;33m,\u001b[0m \u001b[1;33m*\u001b[0m\u001b[0margs\u001b[0m\u001b[1;33m,\u001b[0m \u001b[1;33m**\u001b[0m\u001b[0mkwargs\u001b[0m\u001b[1;33m)\u001b[0m\u001b[1;33m\u001b[0m\u001b[1;33m\u001b[0m\u001b[0m\n\u001b[0m\u001b[0;32m    443\u001b[0m     \u001b[1;32mfinally\u001b[0m\u001b[1;33m:\u001b[0m\u001b[1;33m\u001b[0m\u001b[1;33m\u001b[0m\u001b[0m\n\u001b[0;32m    444\u001b[0m       \u001b[0mself\u001b[0m\u001b[1;33m.\u001b[0m\u001b[0m_setattr_tracking\u001b[0m \u001b[1;33m=\u001b[0m \u001b[0mprevious_value\u001b[0m  \u001b[1;31m# pylint: disable=protected-access\u001b[0m\u001b[1;33m\u001b[0m\u001b[1;33m\u001b[0m\u001b[0m\n",
      "\u001b[1;32m~\\anaconda3\\lib\\site-packages\\tensorflow\\python\\keras\\engine\\sequential.py\u001b[0m in \u001b[0;36madd\u001b[1;34m(self, layer)\u001b[0m\n\u001b[0;32m    178\u001b[0m       \u001b[1;31m# If the model is being built continuously on top of an input layer:\u001b[0m\u001b[1;33m\u001b[0m\u001b[1;33m\u001b[0m\u001b[1;33m\u001b[0m\u001b[0m\n\u001b[0;32m    179\u001b[0m       \u001b[1;31m# refresh its output.\u001b[0m\u001b[1;33m\u001b[0m\u001b[1;33m\u001b[0m\u001b[1;33m\u001b[0m\u001b[0m\n\u001b[1;32m--> 180\u001b[1;33m       \u001b[0moutput_tensor\u001b[0m \u001b[1;33m=\u001b[0m \u001b[0mlayer\u001b[0m\u001b[1;33m(\u001b[0m\u001b[0mself\u001b[0m\u001b[1;33m.\u001b[0m\u001b[0moutputs\u001b[0m\u001b[1;33m[\u001b[0m\u001b[1;36m0\u001b[0m\u001b[1;33m]\u001b[0m\u001b[1;33m)\u001b[0m\u001b[1;33m\u001b[0m\u001b[1;33m\u001b[0m\u001b[0m\n\u001b[0m\u001b[0;32m    181\u001b[0m       \u001b[1;32mif\u001b[0m \u001b[0misinstance\u001b[0m\u001b[1;33m(\u001b[0m\u001b[0moutput_tensor\u001b[0m\u001b[1;33m,\u001b[0m \u001b[0mlist\u001b[0m\u001b[1;33m)\u001b[0m\u001b[1;33m:\u001b[0m\u001b[1;33m\u001b[0m\u001b[1;33m\u001b[0m\u001b[0m\n\u001b[0;32m    182\u001b[0m         raise TypeError('All layers in a Sequential model '\n",
      "\u001b[1;32m~\\anaconda3\\lib\\site-packages\\tensorflow\\python\\keras\\layers\\recurrent.py\u001b[0m in \u001b[0;36m__call__\u001b[1;34m(self, inputs, initial_state, constants, **kwargs)\u001b[0m\n\u001b[0;32m    699\u001b[0m \u001b[1;33m\u001b[0m\u001b[0m\n\u001b[0;32m    700\u001b[0m     \u001b[1;32mif\u001b[0m \u001b[0minitial_state\u001b[0m \u001b[1;32mis\u001b[0m \u001b[1;32mNone\u001b[0m \u001b[1;32mand\u001b[0m \u001b[0mconstants\u001b[0m \u001b[1;32mis\u001b[0m \u001b[1;32mNone\u001b[0m\u001b[1;33m:\u001b[0m\u001b[1;33m\u001b[0m\u001b[1;33m\u001b[0m\u001b[0m\n\u001b[1;32m--> 701\u001b[1;33m       \u001b[1;32mreturn\u001b[0m \u001b[0msuper\u001b[0m\u001b[1;33m(\u001b[0m\u001b[0mRNN\u001b[0m\u001b[1;33m,\u001b[0m \u001b[0mself\u001b[0m\u001b[1;33m)\u001b[0m\u001b[1;33m.\u001b[0m\u001b[0m__call__\u001b[0m\u001b[1;33m(\u001b[0m\u001b[0minputs\u001b[0m\u001b[1;33m,\u001b[0m \u001b[1;33m**\u001b[0m\u001b[0mkwargs\u001b[0m\u001b[1;33m)\u001b[0m\u001b[1;33m\u001b[0m\u001b[1;33m\u001b[0m\u001b[0m\n\u001b[0m\u001b[0;32m    702\u001b[0m \u001b[1;33m\u001b[0m\u001b[0m\n\u001b[0;32m    703\u001b[0m     \u001b[1;31m# If any of `initial_state` or `constants` are specified and are Keras\u001b[0m\u001b[1;33m\u001b[0m\u001b[1;33m\u001b[0m\u001b[1;33m\u001b[0m\u001b[0m\n",
      "\u001b[1;32m~\\anaconda3\\lib\\site-packages\\tensorflow\\python\\keras\\engine\\base_layer.py\u001b[0m in \u001b[0;36m__call__\u001b[1;34m(self, inputs, *args, **kwargs)\u001b[0m\n\u001b[0;32m    536\u001b[0m       \u001b[1;32mif\u001b[0m \u001b[1;32mnot\u001b[0m \u001b[0mself\u001b[0m\u001b[1;33m.\u001b[0m\u001b[0mbuilt\u001b[0m\u001b[1;33m:\u001b[0m\u001b[1;33m\u001b[0m\u001b[1;33m\u001b[0m\u001b[0m\n\u001b[0;32m    537\u001b[0m         \u001b[1;31m# Build layer if applicable (if the `build` method has been overridden).\u001b[0m\u001b[1;33m\u001b[0m\u001b[1;33m\u001b[0m\u001b[1;33m\u001b[0m\u001b[0m\n\u001b[1;32m--> 538\u001b[1;33m         \u001b[0mself\u001b[0m\u001b[1;33m.\u001b[0m\u001b[0m_maybe_build\u001b[0m\u001b[1;33m(\u001b[0m\u001b[0minputs\u001b[0m\u001b[1;33m)\u001b[0m\u001b[1;33m\u001b[0m\u001b[1;33m\u001b[0m\u001b[0m\n\u001b[0m\u001b[0;32m    539\u001b[0m         \u001b[1;31m# We must set self.built since user defined build functions are not\u001b[0m\u001b[1;33m\u001b[0m\u001b[1;33m\u001b[0m\u001b[1;33m\u001b[0m\u001b[0m\n\u001b[0;32m    540\u001b[0m         \u001b[1;31m# constrained to set self.built.\u001b[0m\u001b[1;33m\u001b[0m\u001b[1;33m\u001b[0m\u001b[1;33m\u001b[0m\u001b[0m\n",
      "\u001b[1;32m~\\anaconda3\\lib\\site-packages\\tensorflow\\python\\keras\\engine\\base_layer.py\u001b[0m in \u001b[0;36m_maybe_build\u001b[1;34m(self, inputs)\u001b[0m\n\u001b[0;32m   1589\u001b[0m     \u001b[1;31m# Check input assumptions set before layer building, e.g. input rank.\u001b[0m\u001b[1;33m\u001b[0m\u001b[1;33m\u001b[0m\u001b[1;33m\u001b[0m\u001b[0m\n\u001b[0;32m   1590\u001b[0m     input_spec.assert_input_compatibility(\n\u001b[1;32m-> 1591\u001b[1;33m         self.input_spec, inputs, self.name)\n\u001b[0m\u001b[0;32m   1592\u001b[0m     \u001b[0minput_list\u001b[0m \u001b[1;33m=\u001b[0m \u001b[0mnest\u001b[0m\u001b[1;33m.\u001b[0m\u001b[0mflatten\u001b[0m\u001b[1;33m(\u001b[0m\u001b[0minputs\u001b[0m\u001b[1;33m)\u001b[0m\u001b[1;33m\u001b[0m\u001b[1;33m\u001b[0m\u001b[0m\n\u001b[0;32m   1593\u001b[0m     \u001b[1;32mif\u001b[0m \u001b[0minput_list\u001b[0m \u001b[1;32mand\u001b[0m \u001b[0mself\u001b[0m\u001b[1;33m.\u001b[0m\u001b[0m_dtype\u001b[0m \u001b[1;32mis\u001b[0m \u001b[1;32mNone\u001b[0m\u001b[1;33m:\u001b[0m\u001b[1;33m\u001b[0m\u001b[1;33m\u001b[0m\u001b[0m\n",
      "\u001b[1;32m~\\anaconda3\\lib\\site-packages\\tensorflow\\python\\keras\\engine\\input_spec.py\u001b[0m in \u001b[0;36massert_input_compatibility\u001b[1;34m(input_spec, inputs, layer_name)\u001b[0m\n\u001b[0;32m    121\u001b[0m                          \u001b[1;34m'expected ndim='\u001b[0m \u001b[1;33m+\u001b[0m \u001b[0mstr\u001b[0m\u001b[1;33m(\u001b[0m\u001b[0mspec\u001b[0m\u001b[1;33m.\u001b[0m\u001b[0mndim\u001b[0m\u001b[1;33m)\u001b[0m \u001b[1;33m+\u001b[0m \u001b[1;34m', found ndim='\u001b[0m \u001b[1;33m+\u001b[0m\u001b[1;33m\u001b[0m\u001b[1;33m\u001b[0m\u001b[0m\n\u001b[0;32m    122\u001b[0m                          \u001b[0mstr\u001b[0m\u001b[1;33m(\u001b[0m\u001b[0mndim\u001b[0m\u001b[1;33m)\u001b[0m \u001b[1;33m+\u001b[0m \u001b[1;34m'. Full shape received: '\u001b[0m \u001b[1;33m+\u001b[0m\u001b[1;33m\u001b[0m\u001b[1;33m\u001b[0m\u001b[0m\n\u001b[1;32m--> 123\u001b[1;33m                          str(x.shape.as_list()))\n\u001b[0m\u001b[0;32m    124\u001b[0m     \u001b[1;32mif\u001b[0m \u001b[0mspec\u001b[0m\u001b[1;33m.\u001b[0m\u001b[0mmax_ndim\u001b[0m \u001b[1;32mis\u001b[0m \u001b[1;32mnot\u001b[0m \u001b[1;32mNone\u001b[0m\u001b[1;33m:\u001b[0m\u001b[1;33m\u001b[0m\u001b[1;33m\u001b[0m\u001b[0m\n\u001b[0;32m    125\u001b[0m       \u001b[0mndim\u001b[0m \u001b[1;33m=\u001b[0m \u001b[0mx\u001b[0m\u001b[1;33m.\u001b[0m\u001b[0mshape\u001b[0m\u001b[1;33m.\u001b[0m\u001b[0mndims\u001b[0m\u001b[1;33m\u001b[0m\u001b[1;33m\u001b[0m\u001b[0m\n",
      "\u001b[1;31mValueError\u001b[0m: Input 0 of layer lstm_2 is incompatible with the layer: expected ndim=3, found ndim=2. Full shape received: [None, 128]"
     ]
    }
   ],
   "source": [
    "from tensorflow import keras\n",
    "from tensorflow.keras.layers import LSTM,Dense\n",
    "# from keras.models import Sequential\n",
    "# # design network\n",
    "# model = Sequential()\n",
    "model = keras.models.Sequential()\n",
    "model.add(LSTM(128, activation = 'relu' ,input_shape=(train_X.shape[1], train_X.shape[2])))\n",
    "model.add(Dense(1))\n",
    "model.compile(loss='mae', optimizer='adam')\n",
    "# fit network\n",
    "history = model.fit(train_X, train_y, epochs=200, batch_size=128, validation_data=(test_X, test_y), verbose=2, shuffle=False)\n",
    "# plot history\n",
    "plt.plot(history.history['loss'], label='train')\n",
    "plt.plot(history.history['val_loss'], label='test')\n",
    "plt.legend()\n",
    "plt.show()"
   ]
  },
  {
   "cell_type": "code",
   "execution_count": null,
   "metadata": {},
   "outputs": [],
   "source": []
  },
  {
   "cell_type": "code",
   "execution_count": 46,
   "metadata": {},
   "outputs": [
    {
     "data": {
      "image/png": "[encoded data removed]",
      "text/plain": [
       "<Figure size 432x288 with 1 Axes>"
      ]
     },
     "metadata": {
      "needs_background": "light"
     },
     "output_type": "display_data"
    }
   ],
   "source": [
    "plt.plot(history.history['loss'], label='train')\n",
    "plt.plot(history.history['val_loss'], label='test')\n",
    "plt.xlabel(\"Epoch\",size = 14)\n",
    "plt.ylabel(\"Mae\",size= 14)\n",
    "plt.legend()\n",
    "plt.show()"
   ]
  },
  {
   "cell_type": "code",
   "execution_count": 51,
   "metadata": {},
   "outputs": [],
   "source": [
    "#converting the date values into datetime\n",
    "train_dates= lq45['Date']"
   ]
  },
  {
   "cell_type": "code",
   "execution_count": 52,
   "metadata": {},
   "outputs": [
    {
     "data": {
      "text/plain": [
       "1612   2003-04-30\n",
       "1613   2003-05-01\n",
       "1614   2003-05-02\n",
       "1615   2003-05-05\n",
       "1616   2003-05-06\n",
       "          ...    \n",
       "6450   2022-10-07\n",
       "6451   2022-10-10\n",
       "6452   2022-10-11\n",
       "6453   2022-10-12\n",
       "6454   2022-10-13\n",
       "Name: Date, Length: 4709, dtype: datetime64[ns]"
      ]
     },
     "execution_count": 52,
     "metadata": {},
     "output_type": "execute_result"
    }
   ],
   "source": [
    "train_dates"
   ]
  },
  {
   "cell_type": "code",
   "execution_count": 53,
   "metadata": {},
   "outputs": [],
   "source": [
    "n_fut=36#We need to predict next 36 months from the given date,2022-01-01\n",
    "forecast_dates=pd.date_range(list(train_dates)[-1],periods=n_fut,freq='1m').tolist()"
   ]
  },
  {
   "cell_type": "code",
   "execution_count": 54,
   "metadata": {},
   "outputs": [],
   "source": [
    "from datetime import timedelta,date\n",
    "#Since the days are end of the month we will add 1 day to each\n",
    "fd=[]\n",
    "for i in range(len(forecast_dates)): \n",
    "    dr =pd.to_datetime(forecast_dates[i])+pd.DateOffset(days=1)\n",
    "    fd.append(dr)"
   ]
  },
  {
   "cell_type": "code",
   "execution_count": 55,
   "metadata": {},
   "outputs": [],
   "source": [
    "#Based on the last 36 trainX values(windows) next 36 months rainfall will be predicted\n",
    "forecast=model.predict(train_X[-n_fut:])"
   ]
  },
  {
   "cell_type": "code",
   "execution_count": 62,
   "metadata": {},
   "outputs": [],
   "source": [
    "from sklearn.preprocessing import StandardScaler\n",
    "#Since the forecast values are normalized form we need to convert that intlo original form.\n",
    "forecast_copy=np.repeat(np.array(forecast),newlq45.shape[1],axis=1)#Dummy values has to be created to convert to original form\n",
    "#true_copy=np.repeat(np.array(trainY),training_df.shape[1],axis=1)\n",
    "fut_pred=scaler.inverse_transform(forecast_copy)[:,0]\n",
    "#fut_true=scalar.inverse_transform(true_copy)[:,0]"
   ]
  },
  {
   "cell_type": "code",
   "execution_count": 63,
   "metadata": {},
   "outputs": [
    {
     "data": {
      "text/plain": [
       "array([449.68384, 331.05533, 339.4836 , 328.06122, 279.95535, 272.54337,\n",
       "       286.97495, 244.86212, 282.29477, 244.10718, 218.90225, 215.68657,\n",
       "       244.30049, 299.1223 , 237.23517, 229.21426, 256.19464, 250.41785,\n",
       "       244.08694, 233.74844, 244.35318, 260.23566, 220.61403, 279.95303,\n",
       "       197.41524, 239.33382, 256.7171 , 237.81354, 260.04776, 222.89316,\n",
       "       291.81262, 298.12378, 304.04907, 299.32416, 332.35342, 356.78894],\n",
       "      dtype=float32)"
      ]
     },
     "execution_count": 63,
     "metadata": {},
     "output_type": "execute_result"
    }
   ],
   "source": [
    "#Predictions are\n",
    "fut_pred"
   ]
  },
  {
   "cell_type": "code",
   "execution_count": 64,
   "metadata": {},
   "outputs": [],
   "source": [
    "#Dataframe for date with predicted values\n",
    "df_forecast=pd.DataFrame({'Date':np.array(fd),'Adj Closed Price':fut_pred})\n",
    "df_forecast['Date']=pd.to_datetime(df_forecast['Date'])"
   ]
  },
  {
   "cell_type": "code",
   "execution_count": 67,
   "metadata": {},
   "outputs": [
    {
     "name": "stderr",
     "output_type": "stream",
     "text": [
      "C:\\Users\\Dimas\\anaconda3\\lib\\site-packages\\ipykernel_launcher.py:3: SettingWithCopyWarning: \n",
      "A value is trying to be set on a copy of a slice from a DataFrame.\n",
      "Try using .loc[row_indexer,col_indexer] = value instead\n",
      "\n",
      "See the caveats in the documentation: https://pandas.pydata.org/pandas-docs/stable/user_guide/indexing.html#returning-a-view-versus-a-copy\n",
      "  This is separate from the ipykernel package so we can avoid doing imports until\n"
     ]
    }
   ],
   "source": [
    "#Already available data(original)\n",
    "org=lq45[['Date','Adj Close']]\n",
    "org['Date'] =pd.to_datetime(org['Date'])\n",
    "org=org.loc[org['Date']>='2020-05-01']"
   ]
  },
  {
   "cell_type": "code",
   "execution_count": 68,
   "metadata": {},
   "outputs": [
    {
     "data": {
      "text/plain": [
       "<matplotlib.axes._subplots.AxesSubplot at 0x262a66e1648>"
      ]
     },
     "execution_count": 68,
     "metadata": {},
     "output_type": "execute_result"
    },
    {
     "data": {
      "image/png": "[encoded data removed]",
      "text/plain": [
       "<Figure size 432x288 with 1 Axes>"
      ]
     },
     "metadata": {
      "needs_background": "light"
     },
     "output_type": "display_data"
    }
   ],
   "source": [
    "import seaborn as sns\n",
    "#plotting the last years rainfall(2019,2020,2021) in blue and next years rainfall(2022-2023-2024) in yellow\n",
    "sns.lineplot(org['Date'],org['Adj Close'])\n",
    "sns.lineplot(df_forecast['Date'],df_forecast['Adj Closed Price'])"
   ]
  },
  {
   "cell_type": "code",
   "execution_count": null,
   "metadata": {},
   "outputs": [],
   "source": []
  }
 ],
 "metadata": {
  "kernelspec": {
   "display_name": "Python 3",
   "language": "python",
   "name": "python3"
  },
  "language_info": {
   "codemirror_mode": {
    "name": "ipython",
    "version": 3
   },
   "file_extension": ".py",
   "mimetype": "text/x-python",
   "name": "python",
   "nbconvert_exporter": "python",
   "pygments_lexer": "ipython3",
   "version": "3.7.6"
  }
 },
 "nbformat": 4,
 "nbformat_minor": 4
}
