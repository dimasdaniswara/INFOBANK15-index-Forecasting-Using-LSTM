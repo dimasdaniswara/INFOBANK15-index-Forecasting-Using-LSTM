{
 "cells": [
  {
   "cell_type": "code",
   "execution_count": 28,
   "metadata": {},
   "outputs": [],
   "source": [
    "# Deklarasi library\n",
    "import numpy as np\n",
    "import matplotlib.pyplot as plt\n",
    "import matplotlib.animation as animation\n",
    "from matplotlib.animation import FuncAnimation\n",
    "\n",
    "# Deklarasi parameter perhitungan\n",
    "plate_length = 5\n",
    "max_iter_time = 15\n",
    "\n",
    "alpha = 2\n",
    "delta_x = 1\n",
    "\n",
    "delta_t = (delta_x ** 2)/(4 * alpha)\n",
    "gamma = (alpha * delta_t) / (delta_x ** 2)\n",
    "\n",
    "# Inisialisasi kondisi matriks\n",
    "u = np.empty((max_iter_time, plate_length, plate_length))\n",
    "\n",
    "# Inisialisasi kondisi grid\n",
    "u_initial = 0\n",
    "\n",
    "# Inisialisasi nilai parameter untuk parameter syarat batas\n",
    "u_top = 100.0\n",
    "u_left = 150.0\n",
    "u_bottom = 300.0\n",
    "u_right = 120.0\n",
    "\n",
    "# Inisialisasi kondisi awal\n",
    "u.fill(u_initial)\n",
    "\n",
    "# Inisialisasi syarat batas\n",
    "u[:, (plate_length-1):, :] = u_bottom\n",
    "u[:, :, :1] = u_left\n",
    "u[:, :1, 1:] = u_top\n",
    "u[:, :, (plate_length-1):] = u_right\n",
    "\n",
    "# Deklarasi fungsi untuk melakukan perhitungan distribusi temperatur\n",
    "def calculate(u):\n",
    "    for k in range(0, max_iter_time-1, 1):\n",
    "        for i in range(1, plate_length-1, delta_x):\n",
    "            for j in range(1, plate_length-1, delta_x):\n",
    "                u[k + 1, i, j] = gamma * (u[k][i+1][j] + u[k][i-1][j] + u[k][i][j+1] + u[k][i][j-1] - 4*u[k][i][j]) + u[k][i][j]\n",
    "\n",
    "    return u\n",
    "\n",
    "# Definisikan fungsi untuk melakukan proses perhitungan\n",
    "u = calculate(u)"
   ]
  },
  {
   "cell_type": "code",
   "execution_count": 29,
   "metadata": {},
   "outputs": [
    {
     "name": "stdout",
     "output_type": "stream",
     "text": [
      "\n",
      "Heat Difussion Matrix\n",
      "[[150.         100.         100.         100.         120.        ]\n",
      " [150.         136.16142631 131.45928383 125.4471457  120.        ]\n",
      " [150.         164.49497461 165.53710938 151.63783789 120.        ]\n",
      " [150.         207.58996367 217.17352867 196.87568307 120.        ]\n",
      " [150.         300.         300.         300.         120.        ]]\n"
     ]
    }
   ],
   "source": [
    "# Cetak nilai matriks\n",
    "print()\n",
    "print(\"Heat Difussion Matrix\")\n",
    "print(u[max_iter_time-1])"
   ]
  },
  {
   "cell_type": "code",
   "execution_count": 30,
   "metadata": {},
   "outputs": [
    {
     "name": "stderr",
     "output_type": "stream",
     "text": [
      "MovieWriter ffmpeg unavailable; trying to use <class 'matplotlib.animation.PillowWriter'> instead.\n"
     ]
    },
    {
     "data": {
      "image/png": "[encoded data removed]",
      "text/plain": [
       "<Figure size 432x288 with 2 Axes>"
      ]
     },
     "metadata": {
      "needs_background": "light"
     },
     "output_type": "display_data"
    }
   ],
   "source": [
    "# Definisikan fungsi untuk melakukan plotting grafik\n",
    "def plotheatmap(u_k, k):\n",
    "    plt.clf()\n",
    "\n",
    "    plt.title(f\"Temperature at t = {k} unit time\")\n",
    "    plt.xlabel(\"x\")\n",
    "    plt.ylabel(\"y\")\n",
    "\n",
    "    # Melakukan plot u_k (u at time-step k)\n",
    "    plt.pcolormesh(u_k, cmap=plt.cm.jet, vmin=0, vmax=150)\n",
    "    plt.colorbar()\n",
    "\n",
    "    return plt\n",
    "\n",
    "# Definisikan fungsi untuk melakukan plotting animasi\n",
    "def animate(k):\n",
    "    plotheatmap(u[k], k)\n",
    "\n",
    "anim = animation.FuncAnimation(plt.figure(), animate, interval=1, frames=max_iter_time, repeat=False)\n",
    "anim.save(\"pr03-10219098-Aldian Nur Azmar.gif\")\n",
    "plt.show()"
   ]
  },
  {
   "cell_type": "code",
   "execution_count": null,
   "metadata": {},
   "outputs": [],
   "source": []
  }
 ],
 "metadata": {
  "kernelspec": {
   "display_name": "Python 3",
   "language": "python",
   "name": "python3"
  },
  "language_info": {
   "codemirror_mode": {
    "name": "ipython",
    "version": 3
   },
   "file_extension": ".py",
   "mimetype": "text/x-python",
   "name": "python",
   "nbconvert_exporter": "python",
   "pygments_lexer": "ipython3",
   "version": "3.7.4"
  }
 },
 "nbformat": 4,
 "nbformat_minor": 5
}
