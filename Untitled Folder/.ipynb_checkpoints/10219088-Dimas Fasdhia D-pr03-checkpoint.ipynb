{
 "cells": [
  {
   "cell_type": "code",
   "execution_count": 1,
   "metadata": {},
   "outputs": [],
   "source": [
    "import numpy as np "
   ]
  },
  {
   "cell_type": "code",
   "execution_count": 2,
   "metadata": {},
   "outputs": [],
   "source": [
    "A=np.array([[-4,1,0,1,0,0,0,0,0], [1,-4,1,0,1,0,0,0,0], [0,1,-4,1,0,1,0,0,0], [1,0,0,-4,1,0,1,0,0], [0,1,0,1,-4,1,0,1,0], [0,0,1,0,1,-4,0,0,1], [0,0,0,1,0,0,-4,1,0], [0,0,0,0,1,0,1,-4,1], [0,0,0,0,0,1,0,1,-4]])"
   ]
  },
  {
   "cell_type": "code",
   "execution_count": 3,
   "metadata": {},
   "outputs": [],
   "source": [
    "B=np.array([[-250],[-100],[-220],[-150],[0],[-120],[-450],[-300],[-420]])"
   ]
  },
  {
   "cell_type": "code",
   "execution_count": 4,
   "metadata": {},
   "outputs": [],
   "source": [
    "C=np.linalg.inv(A)"
   ]
  },
  {
   "cell_type": "code",
   "execution_count": 5,
   "metadata": {},
   "outputs": [],
   "source": [
    "X=np.dot(C,B)"
   ]
  },
  {
   "cell_type": "code",
   "execution_count": 6,
   "metadata": {},
   "outputs": [
    {
     "name": "stdout",
     "output_type": "stream",
     "text": [
      "[[142.46682503]\n",
      " [149.50032765]\n",
      " [177.3865498 ]\n",
      " [170.36697248]\n",
      " [178.14793578]\n",
      " [169.67889908]\n",
      " [210.8531291 ]\n",
      " [223.04554391]\n",
      " [203.18111075]]\n"
     ]
    }
   ],
   "source": [
    "print(X)"
   ]
  },
  {
   "cell_type": "code",
   "execution_count": 7,
   "metadata": {},
   "outputs": [
    {
     "name": "stdout",
     "output_type": "stream",
     "text": [
      "[[-250.]\n",
      " [-100.]\n",
      " [-220.]\n",
      " [-150.]\n",
      " [   0.]\n",
      " [-120.]\n",
      " [-450.]\n",
      " [-300.]\n",
      " [-420.]]\n"
     ]
    }
   ],
   "source": [
    "Y=np.dot(A,X)\n",
    "print(Y)"
   ]
  },
  {
   "cell_type": "code",
   "execution_count": null,
   "metadata": {},
   "outputs": [],
   "source": []
  }
 ],
 "metadata": {
  "kernelspec": {
   "display_name": "Python 3",
   "language": "python",
   "name": "python3"
  },
  "language_info": {
   "codemirror_mode": {
    "name": "ipython",
    "version": 3
   },
   "file_extension": ".py",
   "mimetype": "text/x-python",
   "name": "python",
   "nbconvert_exporter": "python",
   "pygments_lexer": "ipython3",
   "version": "3.7.6"
  }
 },
 "nbformat": 4,
 "nbformat_minor": 5
}
